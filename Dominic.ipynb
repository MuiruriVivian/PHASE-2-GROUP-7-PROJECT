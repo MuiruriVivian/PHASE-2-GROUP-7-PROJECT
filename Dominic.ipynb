{
 "cells": [
  {
   "cell_type": "code",
   "execution_count": 846,
   "id": "6ed55ff2",
   "metadata": {},
   "outputs": [],
   "source": [
    "import itertools\n",
    "import numpy as np\n",
    "import pandas as pd \n",
    "from numbers import Number\n",
    "import sqlite3\n",
    "from scipy import stats\n",
    "import matplotlib.pyplot as plt\n",
    "import seaborn as sns\n",
    "import warnings\n",
    "warnings.filterwarnings('ignore')\n",
    "\n",
    "import pickle"
   ]
  },
  {
   "cell_type": "markdown",
   "id": "086be1e5",
   "metadata": {},
   "source": [
    "# creation of cleaned_gross_budget.csv"
   ]
  },
  {
   "cell_type": "code",
   "execution_count": 847,
   "id": "3fffb4cd",
   "metadata": {},
   "outputs": [
    {
     "data": {
      "text/html": [
       "<div>\n",
       "<style scoped>\n",
       "    .dataframe tbody tr th:only-of-type {\n",
       "        vertical-align: middle;\n",
       "    }\n",
       "\n",
       "    .dataframe tbody tr th {\n",
       "        vertical-align: top;\n",
       "    }\n",
       "\n",
       "    .dataframe thead th {\n",
       "        text-align: right;\n",
       "    }\n",
       "</style>\n",
       "<table border=\"1\" class=\"dataframe\">\n",
       "  <thead>\n",
       "    <tr style=\"text-align: right;\">\n",
       "      <th></th>\n",
       "      <th>movie</th>\n",
       "      <th>studio</th>\n",
       "      <th>foreign_gross</th>\n",
       "    </tr>\n",
       "  </thead>\n",
       "  <tbody>\n",
       "    <tr>\n",
       "      <th>0</th>\n",
       "      <td>Toy Story 3</td>\n",
       "      <td>BV</td>\n",
       "      <td>652000000</td>\n",
       "    </tr>\n",
       "    <tr>\n",
       "      <th>1</th>\n",
       "      <td>Alice in Wonderland (2010)</td>\n",
       "      <td>BV</td>\n",
       "      <td>691300000</td>\n",
       "    </tr>\n",
       "    <tr>\n",
       "      <th>2</th>\n",
       "      <td>Harry Potter and the Deathly Hallows Part 1</td>\n",
       "      <td>WB</td>\n",
       "      <td>664300000</td>\n",
       "    </tr>\n",
       "    <tr>\n",
       "      <th>3</th>\n",
       "      <td>Inception</td>\n",
       "      <td>WB</td>\n",
       "      <td>535700000</td>\n",
       "    </tr>\n",
       "    <tr>\n",
       "      <th>4</th>\n",
       "      <td>Shrek Forever After</td>\n",
       "      <td>P/DW</td>\n",
       "      <td>513900000</td>\n",
       "    </tr>\n",
       "  </tbody>\n",
       "</table>\n",
       "</div>"
      ],
      "text/plain": [
       "                                         movie studio foreign_gross\n",
       "0                                  Toy Story 3     BV     652000000\n",
       "1                   Alice in Wonderland (2010)     BV     691300000\n",
       "2  Harry Potter and the Deathly Hallows Part 1     WB     664300000\n",
       "3                                    Inception     WB     535700000\n",
       "4                          Shrek Forever After   P/DW     513900000"
      ]
     },
     "execution_count": 847,
     "metadata": {},
     "output_type": "execute_result"
    }
   ],
   "source": [
    "bom = pd.read_csv('bom.movie_gross.csv.gz')\n",
    "bom2 = bom.rename(columns={'title': 'movie'})\n",
    "bom3 = bom2.drop(['domestic_gross', 'year'], axis=1)\n",
    "bom3.head()"
   ]
  },
  {
   "cell_type": "code",
   "execution_count": 848,
   "id": "9a3522a9",
   "metadata": {},
   "outputs": [
    {
     "data": {
      "text/html": [
       "<div>\n",
       "<style scoped>\n",
       "    .dataframe tbody tr th:only-of-type {\n",
       "        vertical-align: middle;\n",
       "    }\n",
       "\n",
       "    .dataframe tbody tr th {\n",
       "        vertical-align: top;\n",
       "    }\n",
       "\n",
       "    .dataframe thead th {\n",
       "        text-align: right;\n",
       "    }\n",
       "</style>\n",
       "<table border=\"1\" class=\"dataframe\">\n",
       "  <thead>\n",
       "    <tr style=\"text-align: right;\">\n",
       "      <th></th>\n",
       "      <th>release_date</th>\n",
       "      <th>movie</th>\n",
       "      <th>production_budget</th>\n",
       "      <th>domestic_gross</th>\n",
       "      <th>worldwide_gross</th>\n",
       "    </tr>\n",
       "  </thead>\n",
       "  <tbody>\n",
       "    <tr>\n",
       "      <th>0</th>\n",
       "      <td>Dec 18, 2009</td>\n",
       "      <td>Avatar</td>\n",
       "      <td>$425,000,000</td>\n",
       "      <td>$760,507,625</td>\n",
       "      <td>$2,776,345,279</td>\n",
       "    </tr>\n",
       "    <tr>\n",
       "      <th>1</th>\n",
       "      <td>May 20, 2011</td>\n",
       "      <td>Pirates of the Caribbean: On Stranger Tides</td>\n",
       "      <td>$410,600,000</td>\n",
       "      <td>$241,063,875</td>\n",
       "      <td>$1,045,663,875</td>\n",
       "    </tr>\n",
       "    <tr>\n",
       "      <th>2</th>\n",
       "      <td>Jun 7, 2019</td>\n",
       "      <td>Dark Phoenix</td>\n",
       "      <td>$350,000,000</td>\n",
       "      <td>$42,762,350</td>\n",
       "      <td>$149,762,350</td>\n",
       "    </tr>\n",
       "    <tr>\n",
       "      <th>3</th>\n",
       "      <td>May 1, 2015</td>\n",
       "      <td>Avengers: Age of Ultron</td>\n",
       "      <td>$330,600,000</td>\n",
       "      <td>$459,005,868</td>\n",
       "      <td>$1,403,013,963</td>\n",
       "    </tr>\n",
       "    <tr>\n",
       "      <th>4</th>\n",
       "      <td>Dec 15, 2017</td>\n",
       "      <td>Star Wars Ep. VIII: The Last Jedi</td>\n",
       "      <td>$317,000,000</td>\n",
       "      <td>$620,181,382</td>\n",
       "      <td>$1,316,721,747</td>\n",
       "    </tr>\n",
       "  </tbody>\n",
       "</table>\n",
       "</div>"
      ],
      "text/plain": [
       "   release_date                                        movie  \\\n",
       "0  Dec 18, 2009                                       Avatar   \n",
       "1  May 20, 2011  Pirates of the Caribbean: On Stranger Tides   \n",
       "2   Jun 7, 2019                                 Dark Phoenix   \n",
       "3   May 1, 2015                      Avengers: Age of Ultron   \n",
       "4  Dec 15, 2017            Star Wars Ep. VIII: The Last Jedi   \n",
       "\n",
       "  production_budget domestic_gross worldwide_gross  \n",
       "0      $425,000,000   $760,507,625  $2,776,345,279  \n",
       "1      $410,600,000   $241,063,875  $1,045,663,875  \n",
       "2      $350,000,000    $42,762,350    $149,762,350  \n",
       "3      $330,600,000   $459,005,868  $1,403,013,963  \n",
       "4      $317,000,000   $620,181,382  $1,316,721,747  "
      ]
     },
     "execution_count": 848,
     "metadata": {},
     "output_type": "execute_result"
    }
   ],
   "source": [
    "tnmovie = pd.read_csv('tn.movie_budgets.csv.gz')\n",
    "tnmovie1 = tnmovie.drop(['id'], axis=1)\n",
    "tnmovie1.head()"
   ]
  },
  {
   "cell_type": "code",
   "execution_count": 849,
   "id": "b8b2eb19",
   "metadata": {},
   "outputs": [
    {
     "data": {
      "text/html": [
       "<div>\n",
       "<style scoped>\n",
       "    .dataframe tbody tr th:only-of-type {\n",
       "        vertical-align: middle;\n",
       "    }\n",
       "\n",
       "    .dataframe tbody tr th {\n",
       "        vertical-align: top;\n",
       "    }\n",
       "\n",
       "    .dataframe thead th {\n",
       "        text-align: right;\n",
       "    }\n",
       "</style>\n",
       "<table border=\"1\" class=\"dataframe\">\n",
       "  <thead>\n",
       "    <tr style=\"text-align: right;\">\n",
       "      <th></th>\n",
       "      <th>movie</th>\n",
       "      <th>studio</th>\n",
       "      <th>foreign_gross</th>\n",
       "      <th>release_date</th>\n",
       "      <th>production_budget</th>\n",
       "      <th>domestic_gross</th>\n",
       "      <th>worldwide_gross</th>\n",
       "    </tr>\n",
       "  </thead>\n",
       "  <tbody>\n",
       "    <tr>\n",
       "      <th>0</th>\n",
       "      <td>Toy Story 3</td>\n",
       "      <td>BV</td>\n",
       "      <td>652000000</td>\n",
       "      <td>Jun 18, 2010</td>\n",
       "      <td>$200,000,000</td>\n",
       "      <td>$415,004,880</td>\n",
       "      <td>$1,068,879,522</td>\n",
       "    </tr>\n",
       "    <tr>\n",
       "      <th>1</th>\n",
       "      <td>Inception</td>\n",
       "      <td>WB</td>\n",
       "      <td>535700000</td>\n",
       "      <td>Jul 16, 2010</td>\n",
       "      <td>$160,000,000</td>\n",
       "      <td>$292,576,195</td>\n",
       "      <td>$835,524,642</td>\n",
       "    </tr>\n",
       "    <tr>\n",
       "      <th>2</th>\n",
       "      <td>Shrek Forever After</td>\n",
       "      <td>P/DW</td>\n",
       "      <td>513900000</td>\n",
       "      <td>May 21, 2010</td>\n",
       "      <td>$165,000,000</td>\n",
       "      <td>$238,736,787</td>\n",
       "      <td>$756,244,673</td>\n",
       "    </tr>\n",
       "    <tr>\n",
       "      <th>3</th>\n",
       "      <td>The Twilight Saga: Eclipse</td>\n",
       "      <td>Sum.</td>\n",
       "      <td>398000000</td>\n",
       "      <td>Jun 30, 2010</td>\n",
       "      <td>$68,000,000</td>\n",
       "      <td>$300,531,751</td>\n",
       "      <td>$706,102,828</td>\n",
       "    </tr>\n",
       "    <tr>\n",
       "      <th>4</th>\n",
       "      <td>Iron Man 2</td>\n",
       "      <td>Par.</td>\n",
       "      <td>311500000</td>\n",
       "      <td>May 7, 2010</td>\n",
       "      <td>$170,000,000</td>\n",
       "      <td>$312,433,331</td>\n",
       "      <td>$621,156,389</td>\n",
       "    </tr>\n",
       "  </tbody>\n",
       "</table>\n",
       "</div>"
      ],
      "text/plain": [
       "                        movie studio foreign_gross  release_date  \\\n",
       "0                 Toy Story 3     BV     652000000  Jun 18, 2010   \n",
       "1                   Inception     WB     535700000  Jul 16, 2010   \n",
       "2         Shrek Forever After   P/DW     513900000  May 21, 2010   \n",
       "3  The Twilight Saga: Eclipse   Sum.     398000000  Jun 30, 2010   \n",
       "4                  Iron Man 2   Par.     311500000   May 7, 2010   \n",
       "\n",
       "  production_budget domestic_gross worldwide_gross  \n",
       "0      $200,000,000   $415,004,880  $1,068,879,522  \n",
       "1      $160,000,000   $292,576,195    $835,524,642  \n",
       "2      $165,000,000   $238,736,787    $756,244,673  \n",
       "3       $68,000,000   $300,531,751    $706,102,828  \n",
       "4      $170,000,000   $312,433,331    $621,156,389  "
      ]
     },
     "execution_count": 849,
     "metadata": {},
     "output_type": "execute_result"
    }
   ],
   "source": [
    "gross_budget= pd.merge(bom3, tnmovie1, on='movie', how='inner')\n",
    "gross_budget.head()"
   ]
  },
  {
   "cell_type": "code",
   "execution_count": 850,
   "id": "e5ecd888",
   "metadata": {},
   "outputs": [
    {
     "name": "stdout",
     "output_type": "stream",
     "text": [
      "<class 'pandas.core.frame.DataFrame'>\n",
      "Int64Index: 1247 entries, 0 to 1246\n",
      "Data columns (total 7 columns):\n",
      " #   Column             Non-Null Count  Dtype \n",
      "---  ------             --------------  ----- \n",
      " 0   movie              1247 non-null   object\n",
      " 1   studio             1246 non-null   object\n",
      " 2   foreign_gross      1086 non-null   object\n",
      " 3   release_date       1247 non-null   object\n",
      " 4   production_budget  1247 non-null   object\n",
      " 5   domestic_gross     1247 non-null   object\n",
      " 6   worldwide_gross    1247 non-null   object\n",
      "dtypes: object(7)\n",
      "memory usage: 77.9+ KB\n"
     ]
    }
   ],
   "source": [
    "gross_budget.info()"
   ]
  },
  {
   "cell_type": "code",
   "execution_count": 851,
   "id": "1dce788a",
   "metadata": {},
   "outputs": [
    {
     "name": "stdout",
     "output_type": "stream",
     "text": [
      "<class 'pandas.core.frame.DataFrame'>\n",
      "Int64Index: 1247 entries, 0 to 1246\n",
      "Data columns (total 7 columns):\n",
      " #   Column             Non-Null Count  Dtype  \n",
      "---  ------             --------------  -----  \n",
      " 0   movie              1247 non-null   object \n",
      " 1   studio             1246 non-null   object \n",
      " 2   foreign_gross      1086 non-null   object \n",
      " 3   release_date       1247 non-null   object \n",
      " 4   production_budget  1247 non-null   float64\n",
      " 5   domestic_gross     1247 non-null   float64\n",
      " 6   worldwide_gross    1247 non-null   float64\n",
      "dtypes: float64(3), object(4)\n",
      "memory usage: 77.9+ KB\n"
     ]
    }
   ],
   "source": [
    "for col in ['production_budget', 'domestic_gross', 'worldwide_gross']:\n",
    "\n",
    "    gross_budget[col] = gross_budget[col].replace({'\\\\$': '', ',': ''}, regex=True).astype(float)\n",
    "gross_budget.info()"
   ]
  },
  {
   "cell_type": "code",
   "execution_count": 852,
   "id": "63d333a0",
   "metadata": {},
   "outputs": [
    {
     "data": {
      "text/html": [
       "<div>\n",
       "<style scoped>\n",
       "    .dataframe tbody tr th:only-of-type {\n",
       "        vertical-align: middle;\n",
       "    }\n",
       "\n",
       "    .dataframe tbody tr th {\n",
       "        vertical-align: top;\n",
       "    }\n",
       "\n",
       "    .dataframe thead th {\n",
       "        text-align: right;\n",
       "    }\n",
       "</style>\n",
       "<table border=\"1\" class=\"dataframe\">\n",
       "  <thead>\n",
       "    <tr style=\"text-align: right;\">\n",
       "      <th></th>\n",
       "      <th>movie</th>\n",
       "      <th>studio</th>\n",
       "      <th>foreign_gross</th>\n",
       "      <th>release_date</th>\n",
       "      <th>production_budget</th>\n",
       "      <th>domestic_gross</th>\n",
       "      <th>worldwide_gross</th>\n",
       "    </tr>\n",
       "  </thead>\n",
       "  <tbody>\n",
       "    <tr>\n",
       "      <th>0</th>\n",
       "      <td>Toy Story 3</td>\n",
       "      <td>BV</td>\n",
       "      <td>652000000.0</td>\n",
       "      <td>Jun 18, 2010</td>\n",
       "      <td>200000000.0</td>\n",
       "      <td>415004880.0</td>\n",
       "      <td>1.068880e+09</td>\n",
       "    </tr>\n",
       "    <tr>\n",
       "      <th>1</th>\n",
       "      <td>Inception</td>\n",
       "      <td>WB</td>\n",
       "      <td>535700000.0</td>\n",
       "      <td>Jul 16, 2010</td>\n",
       "      <td>160000000.0</td>\n",
       "      <td>292576195.0</td>\n",
       "      <td>8.355246e+08</td>\n",
       "    </tr>\n",
       "    <tr>\n",
       "      <th>2</th>\n",
       "      <td>Shrek Forever After</td>\n",
       "      <td>P/DW</td>\n",
       "      <td>513900000.0</td>\n",
       "      <td>May 21, 2010</td>\n",
       "      <td>165000000.0</td>\n",
       "      <td>238736787.0</td>\n",
       "      <td>7.562447e+08</td>\n",
       "    </tr>\n",
       "    <tr>\n",
       "      <th>3</th>\n",
       "      <td>The Twilight Saga: Eclipse</td>\n",
       "      <td>Sum.</td>\n",
       "      <td>398000000.0</td>\n",
       "      <td>Jun 30, 2010</td>\n",
       "      <td>68000000.0</td>\n",
       "      <td>300531751.0</td>\n",
       "      <td>7.061028e+08</td>\n",
       "    </tr>\n",
       "    <tr>\n",
       "      <th>4</th>\n",
       "      <td>Iron Man 2</td>\n",
       "      <td>Par.</td>\n",
       "      <td>311500000.0</td>\n",
       "      <td>May 7, 2010</td>\n",
       "      <td>170000000.0</td>\n",
       "      <td>312433331.0</td>\n",
       "      <td>6.211564e+08</td>\n",
       "    </tr>\n",
       "  </tbody>\n",
       "</table>\n",
       "</div>"
      ],
      "text/plain": [
       "                        movie studio  foreign_gross  release_date  \\\n",
       "0                 Toy Story 3     BV    652000000.0  Jun 18, 2010   \n",
       "1                   Inception     WB    535700000.0  Jul 16, 2010   \n",
       "2         Shrek Forever After   P/DW    513900000.0  May 21, 2010   \n",
       "3  The Twilight Saga: Eclipse   Sum.    398000000.0  Jun 30, 2010   \n",
       "4                  Iron Man 2   Par.    311500000.0   May 7, 2010   \n",
       "\n",
       "   production_budget  domestic_gross  worldwide_gross  \n",
       "0        200000000.0     415004880.0     1.068880e+09  \n",
       "1        160000000.0     292576195.0     8.355246e+08  \n",
       "2        165000000.0     238736787.0     7.562447e+08  \n",
       "3         68000000.0     300531751.0     7.061028e+08  \n",
       "4        170000000.0     312433331.0     6.211564e+08  "
      ]
     },
     "execution_count": 852,
     "metadata": {},
     "output_type": "execute_result"
    }
   ],
   "source": [
    "# Convert foreign gross from string to numeric\n",
    "gross_budget['foreign_gross'] = pd.to_numeric(gross_budget['foreign_gross'], errors='coerce') \n",
    "gross_budget['production_budget'] = pd.to_numeric(gross_budget['production_budget'], errors='coerce')\n",
    "gross_budget['domestic_gross'] = pd.to_numeric(gross_budget['domestic_gross'], errors='coerce')\n",
    "gross_budget['worldwide_gross'] = pd.to_numeric(gross_budget['worldwide_gross'], errors='coerce')\n",
    "gross_budget.head()"
   ]
  },
  {
   "cell_type": "code",
   "execution_count": 853,
   "id": "d8727fa5",
   "metadata": {},
   "outputs": [
    {
     "name": "stdout",
     "output_type": "stream",
     "text": [
      "<class 'pandas.core.frame.DataFrame'>\n",
      "Int64Index: 1247 entries, 0 to 1246\n",
      "Data columns (total 7 columns):\n",
      " #   Column             Non-Null Count  Dtype  \n",
      "---  ------             --------------  -----  \n",
      " 0   movie              1247 non-null   object \n",
      " 1   studio             1246 non-null   object \n",
      " 2   foreign_gross      1082 non-null   float64\n",
      " 3   release_date       1247 non-null   object \n",
      " 4   production_budget  1247 non-null   float64\n",
      " 5   domestic_gross     1247 non-null   float64\n",
      " 6   worldwide_gross    1247 non-null   float64\n",
      "dtypes: float64(4), object(3)\n",
      "memory usage: 77.9+ KB\n"
     ]
    }
   ],
   "source": [
    "gross_budget.info()"
   ]
  },
  {
   "cell_type": "code",
   "execution_count": 854,
   "id": "6c02d054",
   "metadata": {},
   "outputs": [
    {
     "data": {
      "text/plain": [
       "movie                  0\n",
       "studio                 1\n",
       "foreign_gross        165\n",
       "release_date           0\n",
       "production_budget      0\n",
       "domestic_gross         0\n",
       "worldwide_gross        0\n",
       "dtype: int64"
      ]
     },
     "execution_count": 854,
     "metadata": {},
     "output_type": "execute_result"
    }
   ],
   "source": [
    "gross_budget.isna().sum()"
   ]
  },
  {
   "cell_type": "code",
   "execution_count": 855,
   "id": "9e3b4744",
   "metadata": {},
   "outputs": [
    {
     "data": {
      "text/plain": [
       "movie                0\n",
       "studio               0\n",
       "foreign_gross        0\n",
       "release_date         0\n",
       "production_budget    0\n",
       "domestic_gross       0\n",
       "worldwide_gross      0\n",
       "dtype: int64"
      ]
     },
     "execution_count": 855,
     "metadata": {},
     "output_type": "execute_result"
    }
   ],
   "source": [
    "# drop missing values in every colum \n",
    "for column in gross_budget.columns:\n",
    "    gross_budget = gross_budget.dropna(subset=[column])\n",
    "\n",
    "gross_budget.isna().sum()\n"
   ]
  },
  {
   "cell_type": "code",
   "execution_count": 856,
   "id": "a6eb2125",
   "metadata": {},
   "outputs": [
    {
     "data": {
      "text/plain": [
       "0"
      ]
     },
     "execution_count": 856,
     "metadata": {},
     "output_type": "execute_result"
    }
   ],
   "source": [
    "gross_budget.duplicated().sum()"
   ]
  },
  {
   "cell_type": "code",
   "execution_count": 857,
   "id": "79afc26d",
   "metadata": {},
   "outputs": [
    {
     "name": "stdout",
     "output_type": "stream",
     "text": [
      "<class 'pandas.core.frame.DataFrame'>\n",
      "Int64Index: 1081 entries, 0 to 1244\n",
      "Data columns (total 7 columns):\n",
      " #   Column             Non-Null Count  Dtype  \n",
      "---  ------             --------------  -----  \n",
      " 0   movie              1081 non-null   object \n",
      " 1   studio             1081 non-null   object \n",
      " 2   foreign_gross      1081 non-null   float64\n",
      " 3   release_date       1081 non-null   object \n",
      " 4   production_budget  1081 non-null   float64\n",
      " 5   domestic_gross     1081 non-null   float64\n",
      " 6   worldwide_gross    1081 non-null   float64\n",
      "dtypes: float64(4), object(3)\n",
      "memory usage: 67.6+ KB\n"
     ]
    }
   ],
   "source": [
    "gross_budget.info()"
   ]
  },
  {
   "cell_type": "code",
   "execution_count": 858,
   "id": "a798fdaa",
   "metadata": {},
   "outputs": [],
   "source": [
    "gross_budget[\"profit\"] = gross_budget[\"worldwide_gross\"] - gross_budget[\"production_budget\"]"
   ]
  },
  {
   "cell_type": "code",
   "execution_count": 859,
   "id": "7b4ac4e2",
   "metadata": {},
   "outputs": [],
   "source": [
    "gross_budget['release_date'] = pd.to_datetime(gross_budget['release_date'])"
   ]
  },
  {
   "cell_type": "code",
   "execution_count": 860,
   "id": "1c7050b7",
   "metadata": {},
   "outputs": [],
   "source": [
    "gross_budget[\"release_date\"] = gross_budget[\"release_date\"].dt.month"
   ]
  },
  {
   "cell_type": "code",
   "execution_count": 861,
   "id": "de055bef",
   "metadata": {},
   "outputs": [
    {
     "data": {
      "text/html": [
       "<div>\n",
       "<style scoped>\n",
       "    .dataframe tbody tr th:only-of-type {\n",
       "        vertical-align: middle;\n",
       "    }\n",
       "\n",
       "    .dataframe tbody tr th {\n",
       "        vertical-align: top;\n",
       "    }\n",
       "\n",
       "    .dataframe thead th {\n",
       "        text-align: right;\n",
       "    }\n",
       "</style>\n",
       "<table border=\"1\" class=\"dataframe\">\n",
       "  <thead>\n",
       "    <tr style=\"text-align: right;\">\n",
       "      <th></th>\n",
       "      <th>count</th>\n",
       "      <th>mean</th>\n",
       "      <th>std</th>\n",
       "      <th>min</th>\n",
       "      <th>25%</th>\n",
       "      <th>50%</th>\n",
       "      <th>75%</th>\n",
       "      <th>max</th>\n",
       "    </tr>\n",
       "  </thead>\n",
       "  <tbody>\n",
       "    <tr>\n",
       "      <th>foreign_gross</th>\n",
       "      <td>1081.0</td>\n",
       "      <td>1.010362e+08</td>\n",
       "      <td>1.540983e+08</td>\n",
       "      <td>600.0</td>\n",
       "      <td>10500000.0</td>\n",
       "      <td>38100000.0</td>\n",
       "      <td>112200000.0</td>\n",
       "      <td>9.464000e+08</td>\n",
       "    </tr>\n",
       "    <tr>\n",
       "      <th>release_date</th>\n",
       "      <td>1081.0</td>\n",
       "      <td>6.923219e+00</td>\n",
       "      <td>3.487627e+00</td>\n",
       "      <td>1.0</td>\n",
       "      <td>4.0</td>\n",
       "      <td>7.0</td>\n",
       "      <td>10.0</td>\n",
       "      <td>1.200000e+01</td>\n",
       "    </tr>\n",
       "    <tr>\n",
       "      <th>production_budget</th>\n",
       "      <td>1081.0</td>\n",
       "      <td>5.183546e+07</td>\n",
       "      <td>5.671559e+07</td>\n",
       "      <td>100000.0</td>\n",
       "      <td>13400000.0</td>\n",
       "      <td>30000000.0</td>\n",
       "      <td>66000000.0</td>\n",
       "      <td>4.106000e+08</td>\n",
       "    </tr>\n",
       "    <tr>\n",
       "      <th>domestic_gross</th>\n",
       "      <td>1081.0</td>\n",
       "      <td>6.718373e+07</td>\n",
       "      <td>8.365910e+07</td>\n",
       "      <td>0.0</td>\n",
       "      <td>14945541.0</td>\n",
       "      <td>39175066.0</td>\n",
       "      <td>84273813.0</td>\n",
       "      <td>7.000596e+08</td>\n",
       "    </tr>\n",
       "    <tr>\n",
       "      <th>worldwide_gross</th>\n",
       "      <td>1081.0</td>\n",
       "      <td>1.677254e+08</td>\n",
       "      <td>2.286249e+08</td>\n",
       "      <td>0.0</td>\n",
       "      <td>31124367.0</td>\n",
       "      <td>81209222.0</td>\n",
       "      <td>203127894.0</td>\n",
       "      <td>1.403014e+09</td>\n",
       "    </tr>\n",
       "    <tr>\n",
       "      <th>profit</th>\n",
       "      <td>1081.0</td>\n",
       "      <td>1.158899e+08</td>\n",
       "      <td>1.886722e+08</td>\n",
       "      <td>-110450242.0</td>\n",
       "      <td>8626300.0</td>\n",
       "      <td>46009334.0</td>\n",
       "      <td>136562435.0</td>\n",
       "      <td>1.148258e+09</td>\n",
       "    </tr>\n",
       "  </tbody>\n",
       "</table>\n",
       "</div>"
      ],
      "text/plain": [
       "                    count          mean           std          min  \\\n",
       "foreign_gross      1081.0  1.010362e+08  1.540983e+08        600.0   \n",
       "release_date       1081.0  6.923219e+00  3.487627e+00          1.0   \n",
       "production_budget  1081.0  5.183546e+07  5.671559e+07     100000.0   \n",
       "domestic_gross     1081.0  6.718373e+07  8.365910e+07          0.0   \n",
       "worldwide_gross    1081.0  1.677254e+08  2.286249e+08          0.0   \n",
       "profit             1081.0  1.158899e+08  1.886722e+08 -110450242.0   \n",
       "\n",
       "                          25%         50%          75%           max  \n",
       "foreign_gross      10500000.0  38100000.0  112200000.0  9.464000e+08  \n",
       "release_date              4.0         7.0         10.0  1.200000e+01  \n",
       "production_budget  13400000.0  30000000.0   66000000.0  4.106000e+08  \n",
       "domestic_gross     14945541.0  39175066.0   84273813.0  7.000596e+08  \n",
       "worldwide_gross    31124367.0  81209222.0  203127894.0  1.403014e+09  \n",
       "profit              8626300.0  46009334.0  136562435.0  1.148258e+09  "
      ]
     },
     "execution_count": 861,
     "metadata": {},
     "output_type": "execute_result"
    }
   ],
   "source": [
    "gross_budget.describe().T"
   ]
  },
  {
   "cell_type": "code",
   "execution_count": 862,
   "id": "88fcaaa4",
   "metadata": {},
   "outputs": [
    {
     "data": {
      "image/png": "[encoded data removed]",
      "text/plain": [
       "<Figure size 640x480 with 1 Axes>"
      ]
     },
     "metadata": {},
     "output_type": "display_data"
    }
   ],
   "source": [
    "sns.boxplot(data=gross_budget);"
   ]
  },
  {
   "cell_type": "code",
   "execution_count": 863,
   "id": "664d5811",
   "metadata": {},
   "outputs": [
    {
     "name": "stdout",
     "output_type": "stream",
     "text": [
      "<class 'pandas.core.frame.DataFrame'>\n",
      "Int64Index: 1081 entries, 0 to 1244\n",
      "Data columns (total 8 columns):\n",
      " #   Column             Non-Null Count  Dtype  \n",
      "---  ------             --------------  -----  \n",
      " 0   movie              1081 non-null   object \n",
      " 1   studio             1081 non-null   object \n",
      " 2   foreign_gross      1081 non-null   float64\n",
      " 3   release_date       1081 non-null   int64  \n",
      " 4   production_budget  1081 non-null   float64\n",
      " 5   domestic_gross     1081 non-null   float64\n",
      " 6   worldwide_gross    1081 non-null   float64\n",
      " 7   profit             1081 non-null   float64\n",
      "dtypes: float64(5), int64(1), object(2)\n",
      "memory usage: 76.0+ KB\n"
     ]
    }
   ],
   "source": [
    "gross_budget.info()"
   ]
  },
  {
   "cell_type": "code",
   "execution_count": 864,
   "id": "1de45efb",
   "metadata": {},
   "outputs": [],
   "source": [
    "# save the cleaned data\n",
    "gross_budget.to_csv('cleaned_gross_budget.csv', index=False)  # Saves without row index"
   ]
  },
  {
   "cell_type": "markdown",
   "id": "95c73dd5",
   "metadata": {},
   "source": [
    "# creation of cleaned_merged_data.csv"
   ]
  },
  {
   "cell_type": "code",
   "execution_count": 865,
   "id": "fdf97dee",
   "metadata": {},
   "outputs": [
    {
     "data": {
      "text/html": [
       "<div>\n",
       "<style scoped>\n",
       "    .dataframe tbody tr th:only-of-type {\n",
       "        vertical-align: middle;\n",
       "    }\n",
       "\n",
       "    .dataframe tbody tr th {\n",
       "        vertical-align: top;\n",
       "    }\n",
       "\n",
       "    .dataframe thead th {\n",
       "        text-align: right;\n",
       "    }\n",
       "</style>\n",
       "<table border=\"1\" class=\"dataframe\">\n",
       "  <thead>\n",
       "    <tr style=\"text-align: right;\">\n",
       "      <th></th>\n",
       "      <th>original_language</th>\n",
       "      <th>original_title</th>\n",
       "      <th>popularity</th>\n",
       "      <th>release_date</th>\n",
       "      <th>vote_average</th>\n",
       "      <th>vote_count</th>\n",
       "    </tr>\n",
       "  </thead>\n",
       "  <tbody>\n",
       "    <tr>\n",
       "      <th>0</th>\n",
       "      <td>en</td>\n",
       "      <td>Harry Potter and the Deathly Hallows: Part 1</td>\n",
       "      <td>33.533</td>\n",
       "      <td>2010-11-19</td>\n",
       "      <td>7.7</td>\n",
       "      <td>10788</td>\n",
       "    </tr>\n",
       "    <tr>\n",
       "      <th>1</th>\n",
       "      <td>en</td>\n",
       "      <td>How to Train Your Dragon</td>\n",
       "      <td>28.734</td>\n",
       "      <td>2010-03-26</td>\n",
       "      <td>7.7</td>\n",
       "      <td>7610</td>\n",
       "    </tr>\n",
       "    <tr>\n",
       "      <th>2</th>\n",
       "      <td>en</td>\n",
       "      <td>Iron Man 2</td>\n",
       "      <td>28.515</td>\n",
       "      <td>2010-05-07</td>\n",
       "      <td>6.8</td>\n",
       "      <td>12368</td>\n",
       "    </tr>\n",
       "    <tr>\n",
       "      <th>3</th>\n",
       "      <td>en</td>\n",
       "      <td>Toy Story</td>\n",
       "      <td>28.005</td>\n",
       "      <td>1995-11-22</td>\n",
       "      <td>7.9</td>\n",
       "      <td>10174</td>\n",
       "    </tr>\n",
       "    <tr>\n",
       "      <th>4</th>\n",
       "      <td>en</td>\n",
       "      <td>Inception</td>\n",
       "      <td>27.920</td>\n",
       "      <td>2010-07-16</td>\n",
       "      <td>8.3</td>\n",
       "      <td>22186</td>\n",
       "    </tr>\n",
       "  </tbody>\n",
       "</table>\n",
       "</div>"
      ],
      "text/plain": [
       "  original_language                                original_title  popularity  \\\n",
       "0                en  Harry Potter and the Deathly Hallows: Part 1      33.533   \n",
       "1                en                      How to Train Your Dragon      28.734   \n",
       "2                en                                    Iron Man 2      28.515   \n",
       "3                en                                     Toy Story      28.005   \n",
       "4                en                                     Inception      27.920   \n",
       "\n",
       "  release_date  vote_average  vote_count  \n",
       "0   2010-11-19           7.7       10788  \n",
       "1   2010-03-26           7.7        7610  \n",
       "2   2010-05-07           6.8       12368  \n",
       "3   1995-11-22           7.9       10174  \n",
       "4   2010-07-16           8.3       22186  "
      ]
     },
     "execution_count": 865,
     "metadata": {},
     "output_type": "execute_result"
    }
   ],
   "source": [
    "tmdb = pd.read_csv('tmdb.movies.csv.gz')\n",
    "tmdb_drop = tmdb.drop(['Unnamed: 0', 'genre_ids', 'title', 'id'], axis=1)\n",
    "tmdb_drop.head()"
   ]
  },
  {
   "cell_type": "code",
   "execution_count": 866,
   "id": "8fd87391",
   "metadata": {},
   "outputs": [
    {
     "data": {
      "text/html": [
       "<div>\n",
       "<style scoped>\n",
       "    .dataframe tbody tr th:only-of-type {\n",
       "        vertical-align: middle;\n",
       "    }\n",
       "\n",
       "    .dataframe tbody tr th {\n",
       "        vertical-align: top;\n",
       "    }\n",
       "\n",
       "    .dataframe thead th {\n",
       "        text-align: right;\n",
       "    }\n",
       "</style>\n",
       "<table border=\"1\" class=\"dataframe\">\n",
       "  <thead>\n",
       "    <tr style=\"text-align: right;\">\n",
       "      <th></th>\n",
       "      <th>type</th>\n",
       "      <th>name</th>\n",
       "      <th>tbl_name</th>\n",
       "      <th>rootpage</th>\n",
       "      <th>sql</th>\n",
       "    </tr>\n",
       "  </thead>\n",
       "  <tbody>\n",
       "    <tr>\n",
       "      <th>0</th>\n",
       "      <td>table</td>\n",
       "      <td>movie_basics</td>\n",
       "      <td>movie_basics</td>\n",
       "      <td>2</td>\n",
       "      <td>CREATE TABLE \"movie_basics\" (\\n\"movie_id\" TEXT...</td>\n",
       "    </tr>\n",
       "    <tr>\n",
       "      <th>1</th>\n",
       "      <td>table</td>\n",
       "      <td>directors</td>\n",
       "      <td>directors</td>\n",
       "      <td>3</td>\n",
       "      <td>CREATE TABLE \"directors\" (\\n\"movie_id\" TEXT,\\n...</td>\n",
       "    </tr>\n",
       "    <tr>\n",
       "      <th>2</th>\n",
       "      <td>table</td>\n",
       "      <td>known_for</td>\n",
       "      <td>known_for</td>\n",
       "      <td>4</td>\n",
       "      <td>CREATE TABLE \"known_for\" (\\n\"person_id\" TEXT,\\...</td>\n",
       "    </tr>\n",
       "    <tr>\n",
       "      <th>3</th>\n",
       "      <td>table</td>\n",
       "      <td>movie_akas</td>\n",
       "      <td>movie_akas</td>\n",
       "      <td>5</td>\n",
       "      <td>CREATE TABLE \"movie_akas\" (\\n\"movie_id\" TEXT,\\...</td>\n",
       "    </tr>\n",
       "    <tr>\n",
       "      <th>4</th>\n",
       "      <td>table</td>\n",
       "      <td>movie_ratings</td>\n",
       "      <td>movie_ratings</td>\n",
       "      <td>6</td>\n",
       "      <td>CREATE TABLE \"movie_ratings\" (\\n\"movie_id\" TEX...</td>\n",
       "    </tr>\n",
       "  </tbody>\n",
       "</table>\n",
       "</div>"
      ],
      "text/plain": [
       "    type           name       tbl_name  rootpage  \\\n",
       "0  table   movie_basics   movie_basics         2   \n",
       "1  table      directors      directors         3   \n",
       "2  table      known_for      known_for         4   \n",
       "3  table     movie_akas     movie_akas         5   \n",
       "4  table  movie_ratings  movie_ratings         6   \n",
       "\n",
       "                                                 sql  \n",
       "0  CREATE TABLE \"movie_basics\" (\\n\"movie_id\" TEXT...  \n",
       "1  CREATE TABLE \"directors\" (\\n\"movie_id\" TEXT,\\n...  \n",
       "2  CREATE TABLE \"known_for\" (\\n\"person_id\" TEXT,\\...  \n",
       "3  CREATE TABLE \"movie_akas\" (\\n\"movie_id\" TEXT,\\...  \n",
       "4  CREATE TABLE \"movie_ratings\" (\\n\"movie_id\" TEX...  "
      ]
     },
     "execution_count": 866,
     "metadata": {},
     "output_type": "execute_result"
    }
   ],
   "source": [
    "con = sqlite3.connect(\"im.db\")\n",
    "imdb = pd.read_sql(\"\"\"\n",
    "SELECT *\n",
    "FROM sqlite_master\n",
    "\"\"\"\n",
    ", con)\n",
    "imdb.head()"
   ]
  },
  {
   "cell_type": "code",
   "execution_count": 867,
   "id": "dd2189e0",
   "metadata": {},
   "outputs": [
    {
     "data": {
      "text/html": [
       "<div>\n",
       "<style scoped>\n",
       "    .dataframe tbody tr th:only-of-type {\n",
       "        vertical-align: middle;\n",
       "    }\n",
       "\n",
       "    .dataframe tbody tr th {\n",
       "        vertical-align: top;\n",
       "    }\n",
       "\n",
       "    .dataframe thead th {\n",
       "        text-align: right;\n",
       "    }\n",
       "</style>\n",
       "<table border=\"1\" class=\"dataframe\">\n",
       "  <thead>\n",
       "    <tr style=\"text-align: right;\">\n",
       "      <th></th>\n",
       "      <th>movie_id</th>\n",
       "      <th>primary_title</th>\n",
       "      <th>original_title</th>\n",
       "      <th>start_year</th>\n",
       "      <th>runtime_minutes</th>\n",
       "      <th>genres</th>\n",
       "    </tr>\n",
       "  </thead>\n",
       "  <tbody>\n",
       "    <tr>\n",
       "      <th>0</th>\n",
       "      <td>tt0063540</td>\n",
       "      <td>Sunghursh</td>\n",
       "      <td>Sunghursh</td>\n",
       "      <td>2013</td>\n",
       "      <td>175.0</td>\n",
       "      <td>Action,Crime,Drama</td>\n",
       "    </tr>\n",
       "    <tr>\n",
       "      <th>1</th>\n",
       "      <td>tt0066787</td>\n",
       "      <td>One Day Before the Rainy Season</td>\n",
       "      <td>Ashad Ka Ek Din</td>\n",
       "      <td>2019</td>\n",
       "      <td>114.0</td>\n",
       "      <td>Biography,Drama</td>\n",
       "    </tr>\n",
       "    <tr>\n",
       "      <th>2</th>\n",
       "      <td>tt0069049</td>\n",
       "      <td>The Other Side of the Wind</td>\n",
       "      <td>The Other Side of the Wind</td>\n",
       "      <td>2018</td>\n",
       "      <td>122.0</td>\n",
       "      <td>Drama</td>\n",
       "    </tr>\n",
       "    <tr>\n",
       "      <th>3</th>\n",
       "      <td>tt0069204</td>\n",
       "      <td>Sabse Bada Sukh</td>\n",
       "      <td>Sabse Bada Sukh</td>\n",
       "      <td>2018</td>\n",
       "      <td>NaN</td>\n",
       "      <td>Comedy,Drama</td>\n",
       "    </tr>\n",
       "    <tr>\n",
       "      <th>4</th>\n",
       "      <td>tt0100275</td>\n",
       "      <td>The Wandering Soap Opera</td>\n",
       "      <td>La Telenovela Errante</td>\n",
       "      <td>2017</td>\n",
       "      <td>80.0</td>\n",
       "      <td>Comedy,Drama,Fantasy</td>\n",
       "    </tr>\n",
       "  </tbody>\n",
       "</table>\n",
       "</div>"
      ],
      "text/plain": [
       "    movie_id                    primary_title              original_title  \\\n",
       "0  tt0063540                        Sunghursh                   Sunghursh   \n",
       "1  tt0066787  One Day Before the Rainy Season             Ashad Ka Ek Din   \n",
       "2  tt0069049       The Other Side of the Wind  The Other Side of the Wind   \n",
       "3  tt0069204                  Sabse Bada Sukh             Sabse Bada Sukh   \n",
       "4  tt0100275         The Wandering Soap Opera       La Telenovela Errante   \n",
       "\n",
       "   start_year  runtime_minutes                genres  \n",
       "0        2013            175.0    Action,Crime,Drama  \n",
       "1        2019            114.0       Biography,Drama  \n",
       "2        2018            122.0                 Drama  \n",
       "3        2018              NaN          Comedy,Drama  \n",
       "4        2017             80.0  Comedy,Drama,Fantasy  "
      ]
     },
     "execution_count": 867,
     "metadata": {},
     "output_type": "execute_result"
    }
   ],
   "source": [
    "movbasic = pd.read_sql(\"\"\"\n",
    "select *\n",
    "from movie_basics\n",
    ";\"\"\", con)\n",
    "movbasic.head()"
   ]
  },
  {
   "cell_type": "code",
   "execution_count": 868,
   "id": "5415b3a5",
   "metadata": {},
   "outputs": [
    {
     "data": {
      "text/html": [
       "<div>\n",
       "<style scoped>\n",
       "    .dataframe tbody tr th:only-of-type {\n",
       "        vertical-align: middle;\n",
       "    }\n",
       "\n",
       "    .dataframe tbody tr th {\n",
       "        vertical-align: top;\n",
       "    }\n",
       "\n",
       "    .dataframe thead th {\n",
       "        text-align: right;\n",
       "    }\n",
       "</style>\n",
       "<table border=\"1\" class=\"dataframe\">\n",
       "  <thead>\n",
       "    <tr style=\"text-align: right;\">\n",
       "      <th></th>\n",
       "      <th>movie_id</th>\n",
       "      <th>averagerating</th>\n",
       "      <th>numvotes</th>\n",
       "    </tr>\n",
       "  </thead>\n",
       "  <tbody>\n",
       "    <tr>\n",
       "      <th>0</th>\n",
       "      <td>tt10356526</td>\n",
       "      <td>8.3</td>\n",
       "      <td>31</td>\n",
       "    </tr>\n",
       "    <tr>\n",
       "      <th>1</th>\n",
       "      <td>tt10384606</td>\n",
       "      <td>8.9</td>\n",
       "      <td>559</td>\n",
       "    </tr>\n",
       "    <tr>\n",
       "      <th>2</th>\n",
       "      <td>tt1042974</td>\n",
       "      <td>6.4</td>\n",
       "      <td>20</td>\n",
       "    </tr>\n",
       "    <tr>\n",
       "      <th>3</th>\n",
       "      <td>tt1043726</td>\n",
       "      <td>4.2</td>\n",
       "      <td>50352</td>\n",
       "    </tr>\n",
       "    <tr>\n",
       "      <th>4</th>\n",
       "      <td>tt1060240</td>\n",
       "      <td>6.5</td>\n",
       "      <td>21</td>\n",
       "    </tr>\n",
       "  </tbody>\n",
       "</table>\n",
       "</div>"
      ],
      "text/plain": [
       "     movie_id  averagerating  numvotes\n",
       "0  tt10356526            8.3        31\n",
       "1  tt10384606            8.9       559\n",
       "2   tt1042974            6.4        20\n",
       "3   tt1043726            4.2     50352\n",
       "4   tt1060240            6.5        21"
      ]
     },
     "execution_count": 868,
     "metadata": {},
     "output_type": "execute_result"
    }
   ],
   "source": [
    "movrating = pd.read_sql(\"\"\"\n",
    "select *\n",
    "from movie_ratings\n",
    ";\"\"\", con)\n",
    "movrating.head()"
   ]
  },
  {
   "cell_type": "code",
   "execution_count": 869,
   "id": "6151a7cb",
   "metadata": {},
   "outputs": [
    {
     "data": {
      "text/html": [
       "<div>\n",
       "<style scoped>\n",
       "    .dataframe tbody tr th:only-of-type {\n",
       "        vertical-align: middle;\n",
       "    }\n",
       "\n",
       "    .dataframe tbody tr th {\n",
       "        vertical-align: top;\n",
       "    }\n",
       "\n",
       "    .dataframe thead th {\n",
       "        text-align: right;\n",
       "    }\n",
       "</style>\n",
       "<table border=\"1\" class=\"dataframe\">\n",
       "  <thead>\n",
       "    <tr style=\"text-align: right;\">\n",
       "      <th></th>\n",
       "      <th>original_title</th>\n",
       "      <th>runtime_minutes</th>\n",
       "      <th>genres</th>\n",
       "      <th>averagerating</th>\n",
       "      <th>numvotes</th>\n",
       "    </tr>\n",
       "  </thead>\n",
       "  <tbody>\n",
       "    <tr>\n",
       "      <th>0</th>\n",
       "      <td>Sunghursh</td>\n",
       "      <td>175.0</td>\n",
       "      <td>Action,Crime,Drama</td>\n",
       "      <td>7.0</td>\n",
       "      <td>77</td>\n",
       "    </tr>\n",
       "    <tr>\n",
       "      <th>1</th>\n",
       "      <td>Ashad Ka Ek Din</td>\n",
       "      <td>114.0</td>\n",
       "      <td>Biography,Drama</td>\n",
       "      <td>7.2</td>\n",
       "      <td>43</td>\n",
       "    </tr>\n",
       "    <tr>\n",
       "      <th>2</th>\n",
       "      <td>The Other Side of the Wind</td>\n",
       "      <td>122.0</td>\n",
       "      <td>Drama</td>\n",
       "      <td>6.9</td>\n",
       "      <td>4517</td>\n",
       "    </tr>\n",
       "    <tr>\n",
       "      <th>3</th>\n",
       "      <td>Sabse Bada Sukh</td>\n",
       "      <td>NaN</td>\n",
       "      <td>Comedy,Drama</td>\n",
       "      <td>6.1</td>\n",
       "      <td>13</td>\n",
       "    </tr>\n",
       "    <tr>\n",
       "      <th>4</th>\n",
       "      <td>La Telenovela Errante</td>\n",
       "      <td>80.0</td>\n",
       "      <td>Comedy,Drama,Fantasy</td>\n",
       "      <td>6.5</td>\n",
       "      <td>119</td>\n",
       "    </tr>\n",
       "    <tr>\n",
       "      <th>5</th>\n",
       "      <td>Bigfoot</td>\n",
       "      <td>NaN</td>\n",
       "      <td>Horror,Thriller</td>\n",
       "      <td>4.1</td>\n",
       "      <td>32</td>\n",
       "    </tr>\n",
       "    <tr>\n",
       "      <th>6</th>\n",
       "      <td>Joe Finds Grace</td>\n",
       "      <td>83.0</td>\n",
       "      <td>Adventure,Animation,Comedy</td>\n",
       "      <td>8.1</td>\n",
       "      <td>263</td>\n",
       "    </tr>\n",
       "    <tr>\n",
       "      <th>7</th>\n",
       "      <td>Pál Adrienn</td>\n",
       "      <td>136.0</td>\n",
       "      <td>Drama</td>\n",
       "      <td>6.8</td>\n",
       "      <td>451</td>\n",
       "    </tr>\n",
       "    <tr>\n",
       "      <th>8</th>\n",
       "      <td>Oda az igazság</td>\n",
       "      <td>100.0</td>\n",
       "      <td>History</td>\n",
       "      <td>4.6</td>\n",
       "      <td>64</td>\n",
       "    </tr>\n",
       "    <tr>\n",
       "      <th>9</th>\n",
       "      <td>Cooper and Hemingway: The True Gen</td>\n",
       "      <td>180.0</td>\n",
       "      <td>Documentary</td>\n",
       "      <td>7.6</td>\n",
       "      <td>53</td>\n",
       "    </tr>\n",
       "    <tr>\n",
       "      <th>10</th>\n",
       "      <td>A zöld sárkány gyermekei</td>\n",
       "      <td>89.0</td>\n",
       "      <td>Drama</td>\n",
       "      <td>6.9</td>\n",
       "      <td>120</td>\n",
       "    </tr>\n",
       "    <tr>\n",
       "      <th>11</th>\n",
       "      <td>T.G.M. - osvoboditel</td>\n",
       "      <td>60.0</td>\n",
       "      <td>Documentary</td>\n",
       "      <td>7.5</td>\n",
       "      <td>6</td>\n",
       "    </tr>\n",
       "    <tr>\n",
       "      <th>12</th>\n",
       "      <td>Az ember tragédiája</td>\n",
       "      <td>160.0</td>\n",
       "      <td>Animation,Drama,History</td>\n",
       "      <td>7.8</td>\n",
       "      <td>584</td>\n",
       "    </tr>\n",
       "    <tr>\n",
       "      <th>13</th>\n",
       "      <td>Reverse Heaven</td>\n",
       "      <td>104.0</td>\n",
       "      <td>Drama</td>\n",
       "      <td>4.0</td>\n",
       "      <td>72</td>\n",
       "    </tr>\n",
       "    <tr>\n",
       "      <th>14</th>\n",
       "      <td>The Final Journey</td>\n",
       "      <td>120.0</td>\n",
       "      <td>Drama</td>\n",
       "      <td>8.8</td>\n",
       "      <td>8</td>\n",
       "    </tr>\n",
       "    <tr>\n",
       "      <th>15</th>\n",
       "      <td>Los pájaros se van con la muerte</td>\n",
       "      <td>110.0</td>\n",
       "      <td>Drama,Mystery</td>\n",
       "      <td>4.0</td>\n",
       "      <td>12</td>\n",
       "    </tr>\n",
       "    <tr>\n",
       "      <th>16</th>\n",
       "      <td>Foodfight!</td>\n",
       "      <td>91.0</td>\n",
       "      <td>Action,Animation,Comedy</td>\n",
       "      <td>1.9</td>\n",
       "      <td>8248</td>\n",
       "    </tr>\n",
       "    <tr>\n",
       "      <th>17</th>\n",
       "      <td>Godfather</td>\n",
       "      <td>NaN</td>\n",
       "      <td>Crime,Drama</td>\n",
       "      <td>6.7</td>\n",
       "      <td>236</td>\n",
       "    </tr>\n",
       "    <tr>\n",
       "      <th>18</th>\n",
       "      <td>Gangavataran</td>\n",
       "      <td>134.0</td>\n",
       "      <td>None</td>\n",
       "      <td>6.6</td>\n",
       "      <td>8</td>\n",
       "    </tr>\n",
       "    <tr>\n",
       "      <th>19</th>\n",
       "      <td>Return to Babylon</td>\n",
       "      <td>75.0</td>\n",
       "      <td>Biography,Comedy,Drama</td>\n",
       "      <td>5.9</td>\n",
       "      <td>123</td>\n",
       "    </tr>\n",
       "  </tbody>\n",
       "</table>\n",
       "</div>"
      ],
      "text/plain": [
       "                        original_title  runtime_minutes  \\\n",
       "0                            Sunghursh            175.0   \n",
       "1                      Ashad Ka Ek Din            114.0   \n",
       "2           The Other Side of the Wind            122.0   \n",
       "3                      Sabse Bada Sukh              NaN   \n",
       "4                La Telenovela Errante             80.0   \n",
       "5                              Bigfoot              NaN   \n",
       "6                      Joe Finds Grace             83.0   \n",
       "7                          Pál Adrienn            136.0   \n",
       "8                       Oda az igazság            100.0   \n",
       "9   Cooper and Hemingway: The True Gen            180.0   \n",
       "10            A zöld sárkány gyermekei             89.0   \n",
       "11                T.G.M. - osvoboditel             60.0   \n",
       "12                 Az ember tragédiája            160.0   \n",
       "13                      Reverse Heaven            104.0   \n",
       "14                   The Final Journey            120.0   \n",
       "15    Los pájaros se van con la muerte            110.0   \n",
       "16                          Foodfight!             91.0   \n",
       "17                           Godfather              NaN   \n",
       "18                        Gangavataran            134.0   \n",
       "19                   Return to Babylon             75.0   \n",
       "\n",
       "                        genres  averagerating  numvotes  \n",
       "0           Action,Crime,Drama            7.0        77  \n",
       "1              Biography,Drama            7.2        43  \n",
       "2                        Drama            6.9      4517  \n",
       "3                 Comedy,Drama            6.1        13  \n",
       "4         Comedy,Drama,Fantasy            6.5       119  \n",
       "5              Horror,Thriller            4.1        32  \n",
       "6   Adventure,Animation,Comedy            8.1       263  \n",
       "7                        Drama            6.8       451  \n",
       "8                      History            4.6        64  \n",
       "9                  Documentary            7.6        53  \n",
       "10                       Drama            6.9       120  \n",
       "11                 Documentary            7.5         6  \n",
       "12     Animation,Drama,History            7.8       584  \n",
       "13                       Drama            4.0        72  \n",
       "14                       Drama            8.8         8  \n",
       "15               Drama,Mystery            4.0        12  \n",
       "16     Action,Animation,Comedy            1.9      8248  \n",
       "17                 Crime,Drama            6.7       236  \n",
       "18                        None            6.6         8  \n",
       "19      Biography,Comedy,Drama            5.9       123  "
      ]
     },
     "execution_count": 869,
     "metadata": {},
     "output_type": "execute_result"
    }
   ],
   "source": [
    "movies = pd.read_sql(\"\"\"\n",
    "select original_title, runtime_minutes, genres, averagerating, numvotes\n",
    "from movie_basics\n",
    "join movie_ratings\n",
    "on movie_basics.movie_id = movie_ratings.movie_id\n",
    ";\"\"\", con)\n",
    "movies.head(20)"
   ]
  },
  {
   "cell_type": "code",
   "execution_count": 870,
   "id": "95cada37",
   "metadata": {},
   "outputs": [
    {
     "name": "stdout",
     "output_type": "stream",
     "text": [
      "<class 'pandas.core.frame.DataFrame'>\n",
      "RangeIndex: 73856 entries, 0 to 73855\n",
      "Data columns (total 5 columns):\n",
      " #   Column           Non-Null Count  Dtype  \n",
      "---  ------           --------------  -----  \n",
      " 0   original_title   73856 non-null  object \n",
      " 1   runtime_minutes  66236 non-null  float64\n",
      " 2   genres           73052 non-null  object \n",
      " 3   averagerating    73856 non-null  float64\n",
      " 4   numvotes         73856 non-null  int64  \n",
      "dtypes: float64(2), int64(1), object(2)\n",
      "memory usage: 2.8+ MB\n"
     ]
    }
   ],
   "source": [
    "movies.info()"
   ]
  },
  {
   "cell_type": "code",
   "execution_count": 871,
   "id": "f13687ae",
   "metadata": {},
   "outputs": [
    {
     "data": {
      "text/html": [
       "<div>\n",
       "<style scoped>\n",
       "    .dataframe tbody tr th:only-of-type {\n",
       "        vertical-align: middle;\n",
       "    }\n",
       "\n",
       "    .dataframe tbody tr th {\n",
       "        vertical-align: top;\n",
       "    }\n",
       "\n",
       "    .dataframe thead th {\n",
       "        text-align: right;\n",
       "    }\n",
       "</style>\n",
       "<table border=\"1\" class=\"dataframe\">\n",
       "  <thead>\n",
       "    <tr style=\"text-align: right;\">\n",
       "      <th></th>\n",
       "      <th>original_language</th>\n",
       "      <th>original_title</th>\n",
       "      <th>popularity</th>\n",
       "      <th>release_date</th>\n",
       "      <th>vote_average</th>\n",
       "      <th>vote_count</th>\n",
       "      <th>runtime_minutes</th>\n",
       "      <th>genres</th>\n",
       "      <th>averagerating</th>\n",
       "      <th>numvotes</th>\n",
       "    </tr>\n",
       "  </thead>\n",
       "  <tbody>\n",
       "    <tr>\n",
       "      <th>0</th>\n",
       "      <td>en</td>\n",
       "      <td>Harry Potter and the Deathly Hallows: Part 1</td>\n",
       "      <td>33.533</td>\n",
       "      <td>2010-11-19</td>\n",
       "      <td>7.7</td>\n",
       "      <td>10788</td>\n",
       "      <td>146.0</td>\n",
       "      <td>Adventure,Fantasy,Mystery</td>\n",
       "      <td>7.7</td>\n",
       "      <td>425530</td>\n",
       "    </tr>\n",
       "    <tr>\n",
       "      <th>1</th>\n",
       "      <td>en</td>\n",
       "      <td>How to Train Your Dragon</td>\n",
       "      <td>28.734</td>\n",
       "      <td>2010-03-26</td>\n",
       "      <td>7.7</td>\n",
       "      <td>7610</td>\n",
       "      <td>98.0</td>\n",
       "      <td>Action,Adventure,Animation</td>\n",
       "      <td>8.1</td>\n",
       "      <td>611299</td>\n",
       "    </tr>\n",
       "    <tr>\n",
       "      <th>2</th>\n",
       "      <td>en</td>\n",
       "      <td>Iron Man 2</td>\n",
       "      <td>28.515</td>\n",
       "      <td>2010-05-07</td>\n",
       "      <td>6.8</td>\n",
       "      <td>12368</td>\n",
       "      <td>124.0</td>\n",
       "      <td>Action,Adventure,Sci-Fi</td>\n",
       "      <td>7.0</td>\n",
       "      <td>657690</td>\n",
       "    </tr>\n",
       "    <tr>\n",
       "      <th>3</th>\n",
       "      <td>en</td>\n",
       "      <td>Inception</td>\n",
       "      <td>27.920</td>\n",
       "      <td>2010-07-16</td>\n",
       "      <td>8.3</td>\n",
       "      <td>22186</td>\n",
       "      <td>148.0</td>\n",
       "      <td>Action,Adventure,Sci-Fi</td>\n",
       "      <td>8.8</td>\n",
       "      <td>1841066</td>\n",
       "    </tr>\n",
       "    <tr>\n",
       "      <th>4</th>\n",
       "      <td>en</td>\n",
       "      <td>Percy Jackson &amp; the Olympians: The Lightning T...</td>\n",
       "      <td>26.691</td>\n",
       "      <td>2010-02-11</td>\n",
       "      <td>6.1</td>\n",
       "      <td>4229</td>\n",
       "      <td>118.0</td>\n",
       "      <td>Adventure,Family,Fantasy</td>\n",
       "      <td>5.9</td>\n",
       "      <td>165108</td>\n",
       "    </tr>\n",
       "    <tr>\n",
       "      <th>...</th>\n",
       "      <td>...</td>\n",
       "      <td>...</td>\n",
       "      <td>...</td>\n",
       "      <td>...</td>\n",
       "      <td>...</td>\n",
       "      <td>...</td>\n",
       "      <td>...</td>\n",
       "      <td>...</td>\n",
       "      <td>...</td>\n",
       "      <td>...</td>\n",
       "    </tr>\n",
       "    <tr>\n",
       "      <th>17886</th>\n",
       "      <td>en</td>\n",
       "      <td>Closing Time</td>\n",
       "      <td>0.600</td>\n",
       "      <td>2018-02-24</td>\n",
       "      <td>0.0</td>\n",
       "      <td>1</td>\n",
       "      <td>116.0</td>\n",
       "      <td>Documentary</td>\n",
       "      <td>6.4</td>\n",
       "      <td>51</td>\n",
       "    </tr>\n",
       "    <tr>\n",
       "      <th>17887</th>\n",
       "      <td>en</td>\n",
       "      <td>The Last One</td>\n",
       "      <td>0.600</td>\n",
       "      <td>2018-10-01</td>\n",
       "      <td>0.0</td>\n",
       "      <td>1</td>\n",
       "      <td>80.0</td>\n",
       "      <td>Documentary,History,News</td>\n",
       "      <td>7.0</td>\n",
       "      <td>26</td>\n",
       "    </tr>\n",
       "    <tr>\n",
       "      <th>17888</th>\n",
       "      <td>en</td>\n",
       "      <td>The Last One</td>\n",
       "      <td>0.600</td>\n",
       "      <td>2018-10-01</td>\n",
       "      <td>0.0</td>\n",
       "      <td>1</td>\n",
       "      <td>85.0</td>\n",
       "      <td>Action,Adventure,Fantasy</td>\n",
       "      <td>6.1</td>\n",
       "      <td>15</td>\n",
       "    </tr>\n",
       "    <tr>\n",
       "      <th>17889</th>\n",
       "      <td>en</td>\n",
       "      <td>Trailer Made</td>\n",
       "      <td>0.600</td>\n",
       "      <td>2018-06-22</td>\n",
       "      <td>0.0</td>\n",
       "      <td>1</td>\n",
       "      <td>79.0</td>\n",
       "      <td>Adventure</td>\n",
       "      <td>4.3</td>\n",
       "      <td>25</td>\n",
       "    </tr>\n",
       "    <tr>\n",
       "      <th>17890</th>\n",
       "      <td>en</td>\n",
       "      <td>The Church</td>\n",
       "      <td>0.600</td>\n",
       "      <td>2018-10-05</td>\n",
       "      <td>0.0</td>\n",
       "      <td>1</td>\n",
       "      <td>81.0</td>\n",
       "      <td>Horror,Thriller</td>\n",
       "      <td>5.7</td>\n",
       "      <td>19</td>\n",
       "    </tr>\n",
       "  </tbody>\n",
       "</table>\n",
       "<p>17891 rows × 10 columns</p>\n",
       "</div>"
      ],
      "text/plain": [
       "      original_language                                     original_title  \\\n",
       "0                    en       Harry Potter and the Deathly Hallows: Part 1   \n",
       "1                    en                           How to Train Your Dragon   \n",
       "2                    en                                         Iron Man 2   \n",
       "3                    en                                          Inception   \n",
       "4                    en  Percy Jackson & the Olympians: The Lightning T...   \n",
       "...                 ...                                                ...   \n",
       "17886                en                                       Closing Time   \n",
       "17887                en                                       The Last One   \n",
       "17888                en                                       The Last One   \n",
       "17889                en                                       Trailer Made   \n",
       "17890                en                                         The Church   \n",
       "\n",
       "       popularity release_date  vote_average  vote_count  runtime_minutes  \\\n",
       "0          33.533   2010-11-19           7.7       10788            146.0   \n",
       "1          28.734   2010-03-26           7.7        7610             98.0   \n",
       "2          28.515   2010-05-07           6.8       12368            124.0   \n",
       "3          27.920   2010-07-16           8.3       22186            148.0   \n",
       "4          26.691   2010-02-11           6.1        4229            118.0   \n",
       "...           ...          ...           ...         ...              ...   \n",
       "17886       0.600   2018-02-24           0.0           1            116.0   \n",
       "17887       0.600   2018-10-01           0.0           1             80.0   \n",
       "17888       0.600   2018-10-01           0.0           1             85.0   \n",
       "17889       0.600   2018-06-22           0.0           1             79.0   \n",
       "17890       0.600   2018-10-05           0.0           1             81.0   \n",
       "\n",
       "                           genres  averagerating  numvotes  \n",
       "0       Adventure,Fantasy,Mystery            7.7    425530  \n",
       "1      Action,Adventure,Animation            8.1    611299  \n",
       "2         Action,Adventure,Sci-Fi            7.0    657690  \n",
       "3         Action,Adventure,Sci-Fi            8.8   1841066  \n",
       "4        Adventure,Family,Fantasy            5.9    165108  \n",
       "...                           ...            ...       ...  \n",
       "17886                 Documentary            6.4        51  \n",
       "17887    Documentary,History,News            7.0        26  \n",
       "17888    Action,Adventure,Fantasy            6.1        15  \n",
       "17889                   Adventure            4.3        25  \n",
       "17890             Horror,Thriller            5.7        19  \n",
       "\n",
       "[17891 rows x 10 columns]"
      ]
     },
     "execution_count": 871,
     "metadata": {},
     "output_type": "execute_result"
    }
   ],
   "source": [
    "merged_data = pd.merge(tmdb_drop, movies, on='original_title', how='inner')\n",
    "merged_data"
   ]
  },
  {
   "cell_type": "code",
   "execution_count": 872,
   "id": "6cf2c7db",
   "metadata": {},
   "outputs": [
    {
     "name": "stdout",
     "output_type": "stream",
     "text": [
      "<class 'pandas.core.frame.DataFrame'>\n",
      "Int64Index: 17891 entries, 0 to 17890\n",
      "Data columns (total 10 columns):\n",
      " #   Column             Non-Null Count  Dtype  \n",
      "---  ------             --------------  -----  \n",
      " 0   original_language  17891 non-null  object \n",
      " 1   original_title     17891 non-null  object \n",
      " 2   popularity         17891 non-null  float64\n",
      " 3   release_date       17891 non-null  object \n",
      " 4   vote_average       17891 non-null  float64\n",
      " 5   vote_count         17891 non-null  int64  \n",
      " 6   runtime_minutes    17394 non-null  float64\n",
      " 7   genres             17831 non-null  object \n",
      " 8   averagerating      17891 non-null  float64\n",
      " 9   numvotes           17891 non-null  int64  \n",
      "dtypes: float64(4), int64(2), object(4)\n",
      "memory usage: 1.5+ MB\n"
     ]
    }
   ],
   "source": [
    "merged_data.info()"
   ]
  },
  {
   "cell_type": "code",
   "execution_count": 873,
   "id": "eeb941f9",
   "metadata": {},
   "outputs": [
    {
     "data": {
      "text/plain": [
       "original_language      0\n",
       "original_title         0\n",
       "popularity             0\n",
       "release_date           0\n",
       "vote_average           0\n",
       "vote_count             0\n",
       "runtime_minutes      497\n",
       "genres                60\n",
       "averagerating          0\n",
       "numvotes               0\n",
       "dtype: int64"
      ]
     },
     "execution_count": 873,
     "metadata": {},
     "output_type": "execute_result"
    }
   ],
   "source": [
    "merged_data.isna().sum()"
   ]
  },
  {
   "cell_type": "code",
   "execution_count": 874,
   "id": "36fda09d",
   "metadata": {},
   "outputs": [
    {
     "name": "stdout",
     "output_type": "stream",
     "text": [
      "original_language    0\n",
      "original_title       0\n",
      "popularity           0\n",
      "release_date         0\n",
      "vote_average         0\n",
      "vote_count           0\n",
      "runtime_minutes      0\n",
      "genres               0\n",
      "averagerating        0\n",
      "numvotes             0\n",
      "dtype: int64\n"
     ]
    }
   ],
   "source": [
    "# drop missing values in every colum \n",
    "for column in merged_data.columns:\n",
    "    merged_data = merged_data.dropna(subset=[column])\n",
    "\n",
    "print(merged_data.isna().sum())"
   ]
  },
  {
   "cell_type": "code",
   "execution_count": 875,
   "id": "fcc46203",
   "metadata": {},
   "outputs": [
    {
     "name": "stdout",
     "output_type": "stream",
     "text": [
      "<class 'pandas.core.frame.DataFrame'>\n",
      "Int64Index: 17347 entries, 0 to 17890\n",
      "Data columns (total 10 columns):\n",
      " #   Column             Non-Null Count  Dtype  \n",
      "---  ------             --------------  -----  \n",
      " 0   original_language  17347 non-null  object \n",
      " 1   original_title     17347 non-null  object \n",
      " 2   popularity         17347 non-null  float64\n",
      " 3   release_date       17347 non-null  object \n",
      " 4   vote_average       17347 non-null  float64\n",
      " 5   vote_count         17347 non-null  int64  \n",
      " 6   runtime_minutes    17347 non-null  float64\n",
      " 7   genres             17347 non-null  object \n",
      " 8   averagerating      17347 non-null  float64\n",
      " 9   numvotes           17347 non-null  int64  \n",
      "dtypes: float64(4), int64(2), object(4)\n",
      "memory usage: 1.5+ MB\n"
     ]
    }
   ],
   "source": [
    "merged_data.info()"
   ]
  },
  {
   "cell_type": "code",
   "execution_count": 876,
   "id": "bce73a02",
   "metadata": {},
   "outputs": [
    {
     "data": {
      "text/plain": [
       "0"
      ]
     },
     "execution_count": 876,
     "metadata": {},
     "output_type": "execute_result"
    }
   ],
   "source": [
    "merged_data = merged_data.drop_duplicates()\n",
    "merged_data.duplicated().sum()"
   ]
  },
  {
   "cell_type": "code",
   "execution_count": 877,
   "id": "72f3d86a",
   "metadata": {},
   "outputs": [
    {
     "name": "stdout",
     "output_type": "stream",
     "text": [
      "<class 'pandas.core.frame.DataFrame'>\n",
      "Int64Index: 16402 entries, 0 to 17890\n",
      "Data columns (total 10 columns):\n",
      " #   Column             Non-Null Count  Dtype  \n",
      "---  ------             --------------  -----  \n",
      " 0   original_language  16402 non-null  object \n",
      " 1   original_title     16402 non-null  object \n",
      " 2   popularity         16402 non-null  float64\n",
      " 3   release_date       16402 non-null  object \n",
      " 4   vote_average       16402 non-null  float64\n",
      " 5   vote_count         16402 non-null  int64  \n",
      " 6   runtime_minutes    16402 non-null  float64\n",
      " 7   genres             16402 non-null  object \n",
      " 8   averagerating      16402 non-null  float64\n",
      " 9   numvotes           16402 non-null  int64  \n",
      "dtypes: float64(4), int64(2), object(4)\n",
      "memory usage: 1.4+ MB\n"
     ]
    }
   ],
   "source": [
    "merged_data.info()"
   ]
  },
  {
   "cell_type": "code",
   "execution_count": 878,
   "id": "08e71c62",
   "metadata": {},
   "outputs": [],
   "source": [
    "merged_data['release_date'] = pd.to_datetime(merged_data['release_date'])"
   ]
  },
  {
   "cell_type": "code",
   "execution_count": 879,
   "id": "e24aa046",
   "metadata": {},
   "outputs": [],
   "source": [
    "merged_data[\"release_date\"] = merged_data[\"release_date\"].dt.month"
   ]
  },
  {
   "cell_type": "code",
   "execution_count": 880,
   "id": "fc7507f3",
   "metadata": {},
   "outputs": [
    {
     "data": {
      "image/png": "[encoded data removed]",
      "text/plain": [
       "<Figure size 640x480 with 1 Axes>"
      ]
     },
     "metadata": {},
     "output_type": "display_data"
    }
   ],
   "source": [
    "sns.boxplot(data=merged_data);"
   ]
  },
  {
   "cell_type": "code",
   "execution_count": 881,
   "id": "f8ea75e0",
   "metadata": {},
   "outputs": [],
   "source": [
    "# save the cleaned data\n",
    "merged_data.to_csv('cleaned_merged_data.csv', index=False)  # Saves without row index"
   ]
  },
  {
   "cell_type": "markdown",
   "id": "c63635ad",
   "metadata": {},
   "source": [
    "# DATA ANALYSIS\n",
    "## OBJECTIVE 4\n",
    "### According to the release_time, which months generate the highest profits"
   ]
  },
  {
   "cell_type": "code",
   "execution_count": 882,
   "id": "dc3bf84a",
   "metadata": {},
   "outputs": [],
   "source": [
    "# here we write a code that returns a Series with release_date as the index and the average profit for each release date.\n",
    "month_profit = gross_budget.groupby('release_date')['profit'].mean()\n",
    "# covert month_profit into a DataFrame\n",
    "monthly_profit_df = pd.DataFrame(month_profit)\n",
    "monthly_profit_df.reset_index(drop=False, inplace=True)"
   ]
  },
  {
   "cell_type": "code",
   "execution_count": 883,
   "id": "1d9810be",
   "metadata": {},
   "outputs": [
    {
     "data": {
      "text/html": [
       "<div>\n",
       "<style scoped>\n",
       "    .dataframe tbody tr th:only-of-type {\n",
       "        vertical-align: middle;\n",
       "    }\n",
       "\n",
       "    .dataframe tbody tr th {\n",
       "        vertical-align: top;\n",
       "    }\n",
       "\n",
       "    .dataframe thead th {\n",
       "        text-align: right;\n",
       "    }\n",
       "</style>\n",
       "<table border=\"1\" class=\"dataframe\">\n",
       "  <thead>\n",
       "    <tr style=\"text-align: right;\">\n",
       "      <th></th>\n",
       "      <th>release_date</th>\n",
       "      <th>profit</th>\n",
       "    </tr>\n",
       "  </thead>\n",
       "  <tbody>\n",
       "    <tr>\n",
       "      <th>5</th>\n",
       "      <td>6</td>\n",
       "      <td>2.056081e+08</td>\n",
       "    </tr>\n",
       "    <tr>\n",
       "      <th>4</th>\n",
       "      <td>5</td>\n",
       "      <td>1.841222e+08</td>\n",
       "    </tr>\n",
       "    <tr>\n",
       "      <th>6</th>\n",
       "      <td>7</td>\n",
       "      <td>1.773121e+08</td>\n",
       "    </tr>\n",
       "    <tr>\n",
       "      <th>10</th>\n",
       "      <td>11</td>\n",
       "      <td>1.521733e+08</td>\n",
       "    </tr>\n",
       "    <tr>\n",
       "      <th>11</th>\n",
       "      <td>12</td>\n",
       "      <td>1.377070e+08</td>\n",
       "    </tr>\n",
       "    <tr>\n",
       "      <th>1</th>\n",
       "      <td>2</td>\n",
       "      <td>1.057154e+08</td>\n",
       "    </tr>\n",
       "    <tr>\n",
       "      <th>2</th>\n",
       "      <td>3</td>\n",
       "      <td>8.672660e+07</td>\n",
       "    </tr>\n",
       "    <tr>\n",
       "      <th>7</th>\n",
       "      <td>8</td>\n",
       "      <td>7.659689e+07</td>\n",
       "    </tr>\n",
       "    <tr>\n",
       "      <th>9</th>\n",
       "      <td>10</td>\n",
       "      <td>6.673615e+07</td>\n",
       "    </tr>\n",
       "    <tr>\n",
       "      <th>3</th>\n",
       "      <td>4</td>\n",
       "      <td>6.609266e+07</td>\n",
       "    </tr>\n",
       "    <tr>\n",
       "      <th>8</th>\n",
       "      <td>9</td>\n",
       "      <td>6.051398e+07</td>\n",
       "    </tr>\n",
       "    <tr>\n",
       "      <th>0</th>\n",
       "      <td>1</td>\n",
       "      <td>5.425693e+07</td>\n",
       "    </tr>\n",
       "  </tbody>\n",
       "</table>\n",
       "</div>"
      ],
      "text/plain": [
       "    release_date        profit\n",
       "5              6  2.056081e+08\n",
       "4              5  1.841222e+08\n",
       "6              7  1.773121e+08\n",
       "10            11  1.521733e+08\n",
       "11            12  1.377070e+08\n",
       "1              2  1.057154e+08\n",
       "2              3  8.672660e+07\n",
       "7              8  7.659689e+07\n",
       "9             10  6.673615e+07\n",
       "3              4  6.609266e+07\n",
       "8              9  6.051398e+07\n",
       "0              1  5.425693e+07"
      ]
     },
     "execution_count": 883,
     "metadata": {},
     "output_type": "execute_result"
    }
   ],
   "source": [
    "monthly_profit_df.sort_values('profit', ascending=False)"
   ]
  },
  {
   "cell_type": "code",
   "execution_count": 884,
   "id": "7b2a17b1",
   "metadata": {},
   "outputs": [
    {
     "data": {
      "image/png": "[encoded data removed]",
      "text/plain": [
       "<Figure size 1200x800 with 1 Axes>"
      ]
     },
     "metadata": {},
     "output_type": "display_data"
    }
   ],
   "source": [
    "# Assuming 'monthly_profit_df' is a DataFrame with 'release_date' and 'profit' columns\n",
    "\n",
    "fig, ax = plt.subplots(figsize=(12, 8))\n",
    "\n",
    "# You can directly pass the DataFrame column names to sns.barplot using the 'x' and 'y' keyword arguments\n",
    "sns.barplot(x='release_date', y='profit', data=monthly_profit_df, ax=ax)\n",
    "\n",
    "ax.set_title('Months With Highest Profit', fontsize=14)\n",
    "ax.set_xlabel(\"release_month\", fontsize=12)\n",
    "ax.set_ylabel(\"Profit\", fontsize=12)\n",
    "ax.set_xticks(ticks=range(0, 12), labels=['Jan', 'Feb', 'Mar', 'Apr', 'May', 'Jun', 'Jul', 'Aug', 'Sep', 'Oct', 'Nov', 'Dec'])\n",
    "\n",
    "fig.savefig('Months With Highest Profit.png')"
   ]
  },
  {
   "cell_type": "markdown",
   "id": "7a0aa234",
   "metadata": {},
   "source": [
    "from the above bar graph we can see the highest profits were made in June, May and july respectively. If we were to produce a film based on profitabilty, the top three months would be the best period to release it."
   ]
  },
  {
   "cell_type": "markdown",
   "id": "280880dc",
   "metadata": {},
   "source": [
    "# statistical distribution and inferential analysis"
   ]
  },
  {
   "cell_type": "markdown",
   "id": "df8ff0a8",
   "metadata": {},
   "source": [
    "### QQ Plot\n",
    "This is a great tool for visually assessing whether the profit data in gross_budget follows a normal distribution."
   ]
  },
  {
   "cell_type": "code",
   "execution_count": 885,
   "id": "9575842c",
   "metadata": {},
   "outputs": [
    {
     "data": {
      "image/png": "[encoded data removed]",
      "text/plain": [
       "<Figure size 640x480 with 1 Axes>"
      ]
     },
     "metadata": {},
     "output_type": "display_data"
    }
   ],
   "source": [
    "# QQ Plot\n",
    "plt.subplot(1, 2, 2)\n",
    "stats.probplot(gross_budget['profit'], dist=\"norm\", plot=plt)\n",
    "plt.title('Q-Q Plot of Profit')\n",
    "plt.tight_layout()\n",
    "plt.show()\n"
   ]
  },
  {
   "cell_type": "markdown",
   "id": "d8d57de0",
   "metadata": {},
   "source": [
    "The points move away from the line at both ends, it could suggest the presence of outliers in the data, where extreme values (very high or very low profits) occur more frequently than would be expected in a normal distribution."
   ]
  },
  {
   "cell_type": "code",
   "execution_count": 886,
   "id": "dce3f069",
   "metadata": {},
   "outputs": [
    {
     "data": {
      "image/png": "[encoded data removed]",
      "text/plain": [
       "<Figure size 640x480 with 1 Axes>"
      ]
     },
     "metadata": {},
     "output_type": "display_data"
    }
   ],
   "source": [
    "# checking for outliers\n",
    "sns.boxplot(data=gross_budget, x=\"profit\");"
   ]
  },
  {
   "cell_type": "markdown",
   "id": "7cb97384",
   "metadata": {},
   "source": [
    "below we remove outliers from the profit column"
   ]
  },
  {
   "cell_type": "code",
   "execution_count": 887,
   "id": "c2450ec7",
   "metadata": {},
   "outputs": [
    {
     "name": "stdout",
     "output_type": "stream",
     "text": [
      "Number of outliers removed: 108\n"
     ]
    },
    {
     "data": {
      "text/html": [
       "<div>\n",
       "<style scoped>\n",
       "    .dataframe tbody tr th:only-of-type {\n",
       "        vertical-align: middle;\n",
       "    }\n",
       "\n",
       "    .dataframe tbody tr th {\n",
       "        vertical-align: top;\n",
       "    }\n",
       "\n",
       "    .dataframe thead th {\n",
       "        text-align: right;\n",
       "    }\n",
       "</style>\n",
       "<table border=\"1\" class=\"dataframe\">\n",
       "  <thead>\n",
       "    <tr style=\"text-align: right;\">\n",
       "      <th></th>\n",
       "      <th>movie</th>\n",
       "      <th>studio</th>\n",
       "      <th>foreign_gross</th>\n",
       "      <th>release_date</th>\n",
       "      <th>production_budget</th>\n",
       "      <th>domestic_gross</th>\n",
       "      <th>worldwide_gross</th>\n",
       "      <th>profit</th>\n",
       "    </tr>\n",
       "  </thead>\n",
       "  <tbody>\n",
       "    <tr>\n",
       "      <th>5</th>\n",
       "      <td>Tangled</td>\n",
       "      <td>BV</td>\n",
       "      <td>391000000.0</td>\n",
       "      <td>11</td>\n",
       "      <td>260000000.0</td>\n",
       "      <td>200821936.0</td>\n",
       "      <td>586477240.0</td>\n",
       "      <td>326477240.0</td>\n",
       "    </tr>\n",
       "    <tr>\n",
       "      <th>8</th>\n",
       "      <td>The Chronicles of Narnia: The Voyage of the Da...</td>\n",
       "      <td>Fox</td>\n",
       "      <td>311300000.0</td>\n",
       "      <td>12</td>\n",
       "      <td>155000000.0</td>\n",
       "      <td>104386950.0</td>\n",
       "      <td>418186950.0</td>\n",
       "      <td>263186950.0</td>\n",
       "    </tr>\n",
       "    <tr>\n",
       "      <th>9</th>\n",
       "      <td>The Karate Kid</td>\n",
       "      <td>Sony</td>\n",
       "      <td>182500000.0</td>\n",
       "      <td>6</td>\n",
       "      <td>40000000.0</td>\n",
       "      <td>176591618.0</td>\n",
       "      <td>351774938.0</td>\n",
       "      <td>311774938.0</td>\n",
       "    </tr>\n",
       "    <tr>\n",
       "      <th>10</th>\n",
       "      <td>The Karate Kid</td>\n",
       "      <td>Sony</td>\n",
       "      <td>182500000.0</td>\n",
       "      <td>6</td>\n",
       "      <td>8000000.0</td>\n",
       "      <td>90815558.0</td>\n",
       "      <td>90815558.0</td>\n",
       "      <td>82815558.0</td>\n",
       "    </tr>\n",
       "    <tr>\n",
       "      <th>11</th>\n",
       "      <td>Black Swan</td>\n",
       "      <td>FoxS</td>\n",
       "      <td>222400000.0</td>\n",
       "      <td>12</td>\n",
       "      <td>13000000.0</td>\n",
       "      <td>106954678.0</td>\n",
       "      <td>331266710.0</td>\n",
       "      <td>318266710.0</td>\n",
       "    </tr>\n",
       "  </tbody>\n",
       "</table>\n",
       "</div>"
      ],
      "text/plain": [
       "                                                movie studio  foreign_gross  \\\n",
       "5                                             Tangled     BV    391000000.0   \n",
       "8   The Chronicles of Narnia: The Voyage of the Da...    Fox    311300000.0   \n",
       "9                                      The Karate Kid   Sony    182500000.0   \n",
       "10                                     The Karate Kid   Sony    182500000.0   \n",
       "11                                         Black Swan   FoxS    222400000.0   \n",
       "\n",
       "    release_date  production_budget  domestic_gross  worldwide_gross  \\\n",
       "5             11        260000000.0     200821936.0      586477240.0   \n",
       "8             12        155000000.0     104386950.0      418186950.0   \n",
       "9              6         40000000.0     176591618.0      351774938.0   \n",
       "10             6          8000000.0      90815558.0       90815558.0   \n",
       "11            12         13000000.0     106954678.0      331266710.0   \n",
       "\n",
       "         profit  \n",
       "5   326477240.0  \n",
       "8   263186950.0  \n",
       "9   311774938.0  \n",
       "10   82815558.0  \n",
       "11  318266710.0  "
      ]
     },
     "execution_count": 887,
     "metadata": {},
     "output_type": "execute_result"
    }
   ],
   "source": [
    "# Calculate Q1 (25th percentile) and Q3 (75th percentile) for the 'profit' column\n",
    "Q1 = gross_budget['profit'].quantile(0.25)\n",
    "Q3 = gross_budget['profit'].quantile(0.75)\n",
    "\n",
    "# Calculate the IQR (Interquartile Range)\n",
    "IQR = Q3 - Q1\n",
    "\n",
    "# Calculate the lower and upper bounds for the outlier thresholds\n",
    "lower_bound = Q1 - 1.5 * IQR\n",
    "upper_bound = Q3 + 1.5 * IQR\n",
    "\n",
    "# Filter the dataset to remove outliers\n",
    "cleaned_data = gross_budget[(gross_budget['profit'] >= lower_bound) & (gross_budget['profit'] <= upper_bound)]\n",
    "\n",
    "# Check how many rows were removed\n",
    "removed_rows = len(gross_budget) - len(cleaned_data)\n",
    "print(f\"Number of outliers removed: {removed_rows}\")\n",
    "\n",
    "# Display the first few rows of the cleaned dataset\n",
    "cleaned_data.head()"
   ]
  },
  {
   "cell_type": "code",
   "execution_count": 888,
   "id": "8103803e",
   "metadata": {},
   "outputs": [
    {
     "data": {
      "image/png": "[encoded data removed]",
      "text/plain": [
       "<Figure size 640x480 with 1 Axes>"
      ]
     },
     "metadata": {},
     "output_type": "display_data"
    }
   ],
   "source": [
    "sns.boxplot(data=cleaned_data, x=\"profit\");"
   ]
  },
  {
   "cell_type": "code",
   "execution_count": 889,
   "id": "4e2bbbc3",
   "metadata": {},
   "outputs": [
    {
     "data": {
      "image/png": "[encoded data removed]",
      "text/plain": [
       "<Figure size 640x480 with 1 Axes>"
      ]
     },
     "metadata": {},
     "output_type": "display_data"
    }
   ],
   "source": [
    "# QQ Plot\n",
    "plt.subplot(1, 2, 2)\n",
    "stats.probplot(cleaned_data['profit'], dist=\"norm\", plot=plt)\n",
    "plt.title('Q-Q Plot of Profit')\n",
    "plt.tight_layout()\n",
    "plt.show()"
   ]
  },
  {
   "cell_type": "markdown",
   "id": "7047438a",
   "metadata": {},
   "source": [
    "now after fixing the outliers the points on the Q-Q plot mostly follow the diagonal line with only slight deviations, you can assume the profit data is roughly normally distributed."
   ]
  },
  {
   "cell_type": "markdown",
   "id": "637e2cb6",
   "metadata": {},
   "source": [
    "The code written below generates two histograms with Kernel Density Estimates (KDE) to analyze the distribution of the profit from the dataset gross_budget."
   ]
  },
  {
   "cell_type": "code",
   "execution_count": 890,
   "id": "cd9aabee",
   "metadata": {},
   "outputs": [
    {
     "data": {
      "image/png": "[encoded data removed]",
      "text/plain": [
       "<Figure size 1200x600 with 1 Axes>"
      ]
     },
     "metadata": {},
     "output_type": "display_data"
    }
   ],
   "source": [
    "# Set figure size\n",
    "plt.figure(figsize=(12, 6))\n",
    "\n",
    "# Plot: Profit Distribution\n",
    "plt.subplot(1, 2, 1)\n",
    "sns.histplot(cleaned_data['profit'], kde=True, color='blue', bins=30)\n",
    "plt.title('Profit Distribution')\n",
    "plt.xlabel('Profit')\n",
    "plt.ylabel('Frequency')\n",
    "\n",
    "# Display the plots\n",
    "plt.tight_layout()\n",
    "plt.show()"
   ]
  },
  {
   "cell_type": "markdown",
   "id": "63718e02",
   "metadata": {},
   "source": [
    "#### Skewness of the distribution\n",
    "The profit values are positively skewed, it means most of the observations have lower or negative profits, but there are a few projects or entities with high profits."
   ]
  },
  {
   "cell_type": "markdown",
   "id": "4604df7d",
   "metadata": {},
   "source": [
    "### Correlation analysis\n",
    "This will provide valuable insights into the relationships between several key financial metrics in the gross_budget dataset. This includes columns such as production budget, domestic gross, foreign gross, worldwide gross, and profit."
   ]
  },
  {
   "cell_type": "code",
   "execution_count": 891,
   "id": "c7be11b3",
   "metadata": {},
   "outputs": [
    {
     "data": {
      "image/png": "[encoded data removed]",
      "text/plain": [
       "<Figure size 1000x800 with 2 Axes>"
      ]
     },
     "metadata": {},
     "output_type": "display_data"
    }
   ],
   "source": [
    "correlation_matrix = cleaned_data[['production_budget', 'domestic_gross', 'foreign_gross', 'worldwide_gross', 'profit']].corr()\n",
    "plt.figure(figsize=(10, 8))\n",
    "sns.heatmap(correlation_matrix, annot=True, cmap='coolwarm', center=0)\n",
    "plt.title('Correlation Matrix')\n",
    "plt.show()\n"
   ]
  },
  {
   "cell_type": "markdown",
   "id": "d82749bc",
   "metadata": {},
   "source": [
    "The heatmap visually represents the correlation matrix thus the red colour in our indicates a strong positive relationship."
   ]
  },
  {
   "cell_type": "markdown",
   "id": "108be936",
   "metadata": {},
   "source": [
    "### Regression analysis\n",
    "Below we are performing a simple linear regression analysis where the goal is to predict profit (y) based on the production budget (X)."
   ]
  },
  {
   "cell_type": "code",
   "execution_count": 892,
   "id": "34952176",
   "metadata": {},
   "outputs": [
    {
     "name": "stdout",
     "output_type": "stream",
     "text": [
      "Regression Results:\n",
      "R-squared: 0.132\n",
      "Coefficient: 0.668\n",
      "Intercept: 35625725.024\n"
     ]
    }
   ],
   "source": [
    "# Basic regression analysis\n",
    "from sklearn.linear_model import LinearRegression\n",
    "X = cleaned_data[['production_budget']]\n",
    "y = cleaned_data['profit']\n",
    "model = LinearRegression()\n",
    "model.fit(X, y)\n",
    "print('\\\n",
    "Regression Results:')\n",
    "print('R-squared:', round(model.score(X, y), 3))\n",
    "print('Coefficient:', round(model.coef_[0], 3))\n",
    "print('Intercept:', round(model.intercept_, 3))"
   ]
  },
  {
   "cell_type": "markdown",
   "id": "0b34bef7",
   "metadata": {},
   "source": [
    "The R-squared value of 0.132 indicates that only 13.2% of the variation in profit can be explained by the production budget alone.\n",
    "\n",
    "The coefficient of 0.668 means that for each additional dollar spent on the production budget, profit is expected to increase by 0.668 units (assuming all other factors are constant)."
   ]
  },
  {
   "cell_type": "code",
   "execution_count": null,
   "id": "dd1eeaa2",
   "metadata": {},
   "outputs": [],
   "source": []
  }
 ],
 "metadata": {
  "kernelspec": {
   "display_name": "learn-env",
   "language": "python",
   "name": "python3"
  },
  "language_info": {
   "codemirror_mode": {
    "name": "ipython",
    "version": 3
   },
   "file_extension": ".py",
   "mimetype": "text/x-python",
   "name": "python",
   "nbconvert_exporter": "python",
   "pygments_lexer": "ipython3",
   "version": "3.8.5"
  }
 },
 "nbformat": 4,
 "nbformat_minor": 5
}
