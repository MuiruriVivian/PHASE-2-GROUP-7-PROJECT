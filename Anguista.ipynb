{
 "cells": [
  {
   "cell_type": "markdown",
   "metadata": {},
   "source": [
    "# PHASE 2 PROJECT.\n",
    "ANGUISTA MIRIAM KUPEKA\n",
    "## Business Understanding\n",
    "The film industry is a dynamic global market, encompassing all stages of movie production and distribution and exerting significant cultural and economic influence. As more companies venture into original content creation, understanding which films resonate with audiences is crucial. Analyzing box office trends enables newcomers to identify popular genres, profitable themes, and audience preferences, guiding strategic production choices. This data-driven approach empowers new studios to craft compelling content that aligns with viewer interests, enhancing their potential to make a lasting impact in an increasingly competitive industry.\n",
    "\n",
    "## Business Problem\n",
    "ABC Company has observed that major corporations are increasingly investing in original video content, and they’re eager to join in. They’ve decided to establish a new movie studio but lack experience in film production. Your role is to analyze current box office trends to determine which types of films are performing best. You will then translate these findings into actionable insights for the head of the new movie studio, helping guide strategic decisions on the types of films to produce.\n",
    "\n",
    "## Objectives\n",
    "1. Identify Popular Genres: Analyze box office and ratings data to find genres with high audience interest and financial success.\n",
    "2. Analyze Audience Preferences: Review ratings to uncover common traits of well-received films.\n",
    "3. Assess Profitability by Theme: Use revenue data to identify profitable themes and genres.\n",
    "4. Understand Box Office Trends: Examine seasonal and long-term trends to guide ABC's release schedules and marketing strategy."
   ]
  },
  {
   "cell_type": "markdown",
   "metadata": {},
   "source": [
    "## Import the necessary packages."
   ]
  },
  {
   "cell_type": "code",
   "execution_count": 1,
   "metadata": {},
   "outputs": [],
   "source": [
    "# import the required packages \n",
    "\n",
    "import itertools\n",
    "import numpy as np\n",
    "import pandas as pd\n",
    "from numbers import Number\n",
    "import sqlite3\n",
    "from scipy import stats\n",
    "import matplotlib.pyplot as plt\n",
    "import seaborn as sns\n",
    "import warnings\n",
    "warnings.filterwarnings('ignore')\n",
    "from collections import Counter\n",
    "from collections import defaultdict\n",
    "\n",
    "import pickle"
   ]
  },
  {
   "cell_type": "markdown",
   "metadata": {},
   "source": [
    "## Load the necessary data and Data cleaning."
   ]
  },
  {
   "cell_type": "markdown",
   "metadata": {},
   "source": [
    "Creation of a cleaned gross budget."
   ]
  },
  {
   "cell_type": "code",
   "execution_count": null,
   "metadata": {},
   "outputs": [
    {
     "data": {
      "text/html": [
       "<div>\n",
       "<style scoped>\n",
       "    .dataframe tbody tr th:only-of-type {\n",
       "        vertical-align: middle;\n",
       "    }\n",
       "\n",
       "    .dataframe tbody tr th {\n",
       "        vertical-align: top;\n",
       "    }\n",
       "\n",
       "    .dataframe thead th {\n",
       "        text-align: right;\n",
       "    }\n",
       "</style>\n",
       "<table border=\"1\" class=\"dataframe\">\n",
       "  <thead>\n",
       "    <tr style=\"text-align: right;\">\n",
       "      <th></th>\n",
       "      <th>movie</th>\n",
       "      <th>studio</th>\n",
       "      <th>foreign_gross</th>\n",
       "    </tr>\n",
       "  </thead>\n",
       "  <tbody>\n",
       "    <tr>\n",
       "      <th>0</th>\n",
       "      <td>Toy Story 3</td>\n",
       "      <td>BV</td>\n",
       "      <td>652000000</td>\n",
       "    </tr>\n",
       "    <tr>\n",
       "      <th>1</th>\n",
       "      <td>Alice in Wonderland (2010)</td>\n",
       "      <td>BV</td>\n",
       "      <td>691300000</td>\n",
       "    </tr>\n",
       "    <tr>\n",
       "      <th>2</th>\n",
       "      <td>Harry Potter and the Deathly Hallows Part 1</td>\n",
       "      <td>WB</td>\n",
       "      <td>664300000</td>\n",
       "    </tr>\n",
       "    <tr>\n",
       "      <th>3</th>\n",
       "      <td>Inception</td>\n",
       "      <td>WB</td>\n",
       "      <td>535700000</td>\n",
       "    </tr>\n",
       "    <tr>\n",
       "      <th>4</th>\n",
       "      <td>Shrek Forever After</td>\n",
       "      <td>P/DW</td>\n",
       "      <td>513900000</td>\n",
       "    </tr>\n",
       "  </tbody>\n",
       "</table>\n",
       "</div>"
      ],
      "text/plain": [
       "                                         movie studio foreign_gross\n",
       "0                                  Toy Story 3     BV     652000000\n",
       "1                   Alice in Wonderland (2010)     BV     691300000\n",
       "2  Harry Potter and the Deathly Hallows Part 1     WB     664300000\n",
       "3                                    Inception     WB     535700000\n",
       "4                          Shrek Forever After   P/DW     513900000"
      ]
     },
     "execution_count": 3,
     "metadata": {},
     "output_type": "execute_result"
    }
   ],
   "source": [
    "#Loading bom.movie_gross.csv.gz and renaming columns/droping irrelevant columns\n",
    "bom = pd.read_csv('bom.movie_gross.csv.gz')\n",
    "bom2 = bom.rename(columns={'title': 'movie'})\n",
    "bom3 = bom2.drop(['domestic_gross', 'year'], axis=1)\n",
    "bom3.head()"
   ]
  },
  {
   "cell_type": "code",
   "execution_count": 11,
   "metadata": {},
   "outputs": [
    {
     "data": {
      "text/html": [
       "<div>\n",
       "<style scoped>\n",
       "    .dataframe tbody tr th:only-of-type {\n",
       "        vertical-align: middle;\n",
       "    }\n",
       "\n",
       "    .dataframe tbody tr th {\n",
       "        vertical-align: top;\n",
       "    }\n",
       "\n",
       "    .dataframe thead th {\n",
       "        text-align: right;\n",
       "    }\n",
       "</style>\n",
       "<table border=\"1\" class=\"dataframe\">\n",
       "  <thead>\n",
       "    <tr style=\"text-align: right;\">\n",
       "      <th></th>\n",
       "      <th>release_date</th>\n",
       "      <th>movie</th>\n",
       "      <th>production_budget</th>\n",
       "      <th>domestic_gross</th>\n",
       "      <th>worldwide_gross</th>\n",
       "    </tr>\n",
       "  </thead>\n",
       "  <tbody>\n",
       "    <tr>\n",
       "      <th>0</th>\n",
       "      <td>Dec 18, 2009</td>\n",
       "      <td>Avatar</td>\n",
       "      <td>$425,000,000</td>\n",
       "      <td>$760,507,625</td>\n",
       "      <td>$2,776,345,279</td>\n",
       "    </tr>\n",
       "    <tr>\n",
       "      <th>1</th>\n",
       "      <td>May 20, 2011</td>\n",
       "      <td>Pirates of the Caribbean: On Stranger Tides</td>\n",
       "      <td>$410,600,000</td>\n",
       "      <td>$241,063,875</td>\n",
       "      <td>$1,045,663,875</td>\n",
       "    </tr>\n",
       "    <tr>\n",
       "      <th>2</th>\n",
       "      <td>Jun 7, 2019</td>\n",
       "      <td>Dark Phoenix</td>\n",
       "      <td>$350,000,000</td>\n",
       "      <td>$42,762,350</td>\n",
       "      <td>$149,762,350</td>\n",
       "    </tr>\n",
       "    <tr>\n",
       "      <th>3</th>\n",
       "      <td>May 1, 2015</td>\n",
       "      <td>Avengers: Age of Ultron</td>\n",
       "      <td>$330,600,000</td>\n",
       "      <td>$459,005,868</td>\n",
       "      <td>$1,403,013,963</td>\n",
       "    </tr>\n",
       "    <tr>\n",
       "      <th>4</th>\n",
       "      <td>Dec 15, 2017</td>\n",
       "      <td>Star Wars Ep. VIII: The Last Jedi</td>\n",
       "      <td>$317,000,000</td>\n",
       "      <td>$620,181,382</td>\n",
       "      <td>$1,316,721,747</td>\n",
       "    </tr>\n",
       "  </tbody>\n",
       "</table>\n",
       "</div>"
      ],
      "text/plain": [
       "   release_date                                        movie  \\\n",
       "0  Dec 18, 2009                                       Avatar   \n",
       "1  May 20, 2011  Pirates of the Caribbean: On Stranger Tides   \n",
       "2   Jun 7, 2019                                 Dark Phoenix   \n",
       "3   May 1, 2015                      Avengers: Age of Ultron   \n",
       "4  Dec 15, 2017            Star Wars Ep. VIII: The Last Jedi   \n",
       "\n",
       "  production_budget domestic_gross worldwide_gross  \n",
       "0      $425,000,000   $760,507,625  $2,776,345,279  \n",
       "1      $410,600,000   $241,063,875  $1,045,663,875  \n",
       "2      $350,000,000    $42,762,350    $149,762,350  \n",
       "3      $330,600,000   $459,005,868  $1,403,013,963  \n",
       "4      $317,000,000   $620,181,382  $1,316,721,747  "
      ]
     },
     "execution_count": 11,
     "metadata": {},
     "output_type": "execute_result"
    }
   ],
   "source": [
    "# Loading tn.movie_budgets.csv and droping irrelevant columns\n",
    "tnmovie = pd.read_csv('tn.movie_budgets.csv.gz')\n",
    "tnmovie1 = tnmovie.drop(['id'], axis=1)\n",
    "tnmovie1.head()"
   ]
  },
  {
   "cell_type": "code",
   "execution_count": 12,
   "metadata": {},
   "outputs": [
    {
     "data": {
      "text/html": [
       "<div>\n",
       "<style scoped>\n",
       "    .dataframe tbody tr th:only-of-type {\n",
       "        vertical-align: middle;\n",
       "    }\n",
       "\n",
       "    .dataframe tbody tr th {\n",
       "        vertical-align: top;\n",
       "    }\n",
       "\n",
       "    .dataframe thead th {\n",
       "        text-align: right;\n",
       "    }\n",
       "</style>\n",
       "<table border=\"1\" class=\"dataframe\">\n",
       "  <thead>\n",
       "    <tr style=\"text-align: right;\">\n",
       "      <th></th>\n",
       "      <th>movie</th>\n",
       "      <th>studio</th>\n",
       "      <th>foreign_gross</th>\n",
       "      <th>release_date</th>\n",
       "      <th>production_budget</th>\n",
       "      <th>domestic_gross</th>\n",
       "      <th>worldwide_gross</th>\n",
       "    </tr>\n",
       "  </thead>\n",
       "  <tbody>\n",
       "    <tr>\n",
       "      <th>0</th>\n",
       "      <td>Toy Story 3</td>\n",
       "      <td>BV</td>\n",
       "      <td>652000000</td>\n",
       "      <td>Jun 18, 2010</td>\n",
       "      <td>$200,000,000</td>\n",
       "      <td>$415,004,880</td>\n",
       "      <td>$1,068,879,522</td>\n",
       "    </tr>\n",
       "    <tr>\n",
       "      <th>1</th>\n",
       "      <td>Inception</td>\n",
       "      <td>WB</td>\n",
       "      <td>535700000</td>\n",
       "      <td>Jul 16, 2010</td>\n",
       "      <td>$160,000,000</td>\n",
       "      <td>$292,576,195</td>\n",
       "      <td>$835,524,642</td>\n",
       "    </tr>\n",
       "    <tr>\n",
       "      <th>2</th>\n",
       "      <td>Shrek Forever After</td>\n",
       "      <td>P/DW</td>\n",
       "      <td>513900000</td>\n",
       "      <td>May 21, 2010</td>\n",
       "      <td>$165,000,000</td>\n",
       "      <td>$238,736,787</td>\n",
       "      <td>$756,244,673</td>\n",
       "    </tr>\n",
       "    <tr>\n",
       "      <th>3</th>\n",
       "      <td>The Twilight Saga: Eclipse</td>\n",
       "      <td>Sum.</td>\n",
       "      <td>398000000</td>\n",
       "      <td>Jun 30, 2010</td>\n",
       "      <td>$68,000,000</td>\n",
       "      <td>$300,531,751</td>\n",
       "      <td>$706,102,828</td>\n",
       "    </tr>\n",
       "    <tr>\n",
       "      <th>4</th>\n",
       "      <td>Iron Man 2</td>\n",
       "      <td>Par.</td>\n",
       "      <td>311500000</td>\n",
       "      <td>May 7, 2010</td>\n",
       "      <td>$170,000,000</td>\n",
       "      <td>$312,433,331</td>\n",
       "      <td>$621,156,389</td>\n",
       "    </tr>\n",
       "  </tbody>\n",
       "</table>\n",
       "</div>"
      ],
      "text/plain": [
       "                        movie studio foreign_gross  release_date  \\\n",
       "0                 Toy Story 3     BV     652000000  Jun 18, 2010   \n",
       "1                   Inception     WB     535700000  Jul 16, 2010   \n",
       "2         Shrek Forever After   P/DW     513900000  May 21, 2010   \n",
       "3  The Twilight Saga: Eclipse   Sum.     398000000  Jun 30, 2010   \n",
       "4                  Iron Man 2   Par.     311500000   May 7, 2010   \n",
       "\n",
       "  production_budget domestic_gross worldwide_gross  \n",
       "0      $200,000,000   $415,004,880  $1,068,879,522  \n",
       "1      $160,000,000   $292,576,195    $835,524,642  \n",
       "2      $165,000,000   $238,736,787    $756,244,673  \n",
       "3       $68,000,000   $300,531,751    $706,102,828  \n",
       "4      $170,000,000   $312,433,331    $621,156,389  "
      ]
     },
     "execution_count": 12,
     "metadata": {},
     "output_type": "execute_result"
    }
   ],
   "source": [
    "#Merging tnmovie1 and and bom3\n",
    "gross_budget= pd.merge(bom3, tnmovie1, on='movie', how='inner')\n",
    "gross_budget.head()"
   ]
  },
  {
   "cell_type": "code",
   "execution_count": 13,
   "metadata": {},
   "outputs": [],
   "source": [
    "# Renaming columns our for new merged data(Gross budget)\n",
    "gross_budget.rename(columns={\"movie\":\"original_title\"}, inplace=True)"
   ]
  },
  {
   "cell_type": "code",
   "execution_count": 14,
   "metadata": {},
   "outputs": [
    {
     "name": "stdout",
     "output_type": "stream",
     "text": [
      "<class 'pandas.core.frame.DataFrame'>\n",
      "RangeIndex: 1247 entries, 0 to 1246\n",
      "Data columns (total 7 columns):\n",
      " #   Column             Non-Null Count  Dtype \n",
      "---  ------             --------------  ----- \n",
      " 0   original_title     1247 non-null   object\n",
      " 1   studio             1246 non-null   object\n",
      " 2   foreign_gross      1086 non-null   object\n",
      " 3   release_date       1247 non-null   object\n",
      " 4   production_budget  1247 non-null   object\n",
      " 5   domestic_gross     1247 non-null   object\n",
      " 6   worldwide_gross    1247 non-null   object\n",
      "dtypes: object(7)\n",
      "memory usage: 68.3+ KB\n"
     ]
    }
   ],
   "source": [
    "gross_budget.info()"
   ]
  },
  {
   "cell_type": "code",
   "execution_count": 15,
   "metadata": {},
   "outputs": [
    {
     "name": "stdout",
     "output_type": "stream",
     "text": [
      "<class 'pandas.core.frame.DataFrame'>\n",
      "RangeIndex: 1247 entries, 0 to 1246\n",
      "Data columns (total 7 columns):\n",
      " #   Column             Non-Null Count  Dtype  \n",
      "---  ------             --------------  -----  \n",
      " 0   original_title     1247 non-null   object \n",
      " 1   studio             1246 non-null   object \n",
      " 2   foreign_gross      1086 non-null   object \n",
      " 3   release_date       1247 non-null   object \n",
      " 4   production_budget  1247 non-null   float64\n",
      " 5   domestic_gross     1247 non-null   float64\n",
      " 6   worldwide_gross    1247 non-null   float64\n",
      "dtypes: float64(3), object(4)\n",
      "memory usage: 68.3+ KB\n"
     ]
    }
   ],
   "source": [
    "# Removing sysmbols, commas and replacing with empty strings)\n",
    "for col in ['production_budget', 'domestic_gross', 'worldwide_gross']:\n",
    "\n",
    "    gross_budget[col] = gross_budget[col].replace({'\\\\$': '', ',': ''}, regex=True).astype(float)\n",
    "gross_budget.info()"
   ]
  },
  {
   "cell_type": "code",
   "execution_count": 9,
   "metadata": {},
   "outputs": [
    {
     "data": {
      "text/html": [
       "<div>\n",
       "<style scoped>\n",
       "    .dataframe tbody tr th:only-of-type {\n",
       "        vertical-align: middle;\n",
       "    }\n",
       "\n",
       "    .dataframe tbody tr th {\n",
       "        vertical-align: top;\n",
       "    }\n",
       "\n",
       "    .dataframe thead th {\n",
       "        text-align: right;\n",
       "    }\n",
       "</style>\n",
       "<table border=\"1\" class=\"dataframe\">\n",
       "  <thead>\n",
       "    <tr style=\"text-align: right;\">\n",
       "      <th></th>\n",
       "      <th>movie</th>\n",
       "      <th>studio</th>\n",
       "      <th>foreign_gross</th>\n",
       "      <th>release_date</th>\n",
       "      <th>production_budget</th>\n",
       "      <th>domestic_gross</th>\n",
       "      <th>worldwide_gross</th>\n",
       "    </tr>\n",
       "  </thead>\n",
       "  <tbody>\n",
       "    <tr>\n",
       "      <th>0</th>\n",
       "      <td>Toy Story 3</td>\n",
       "      <td>BV</td>\n",
       "      <td>652000000.0</td>\n",
       "      <td>Jun 18, 2010</td>\n",
       "      <td>200000000.0</td>\n",
       "      <td>415004880.0</td>\n",
       "      <td>1.068880e+09</td>\n",
       "    </tr>\n",
       "    <tr>\n",
       "      <th>1</th>\n",
       "      <td>Inception</td>\n",
       "      <td>WB</td>\n",
       "      <td>535700000.0</td>\n",
       "      <td>Jul 16, 2010</td>\n",
       "      <td>160000000.0</td>\n",
       "      <td>292576195.0</td>\n",
       "      <td>8.355246e+08</td>\n",
       "    </tr>\n",
       "    <tr>\n",
       "      <th>2</th>\n",
       "      <td>Shrek Forever After</td>\n",
       "      <td>P/DW</td>\n",
       "      <td>513900000.0</td>\n",
       "      <td>May 21, 2010</td>\n",
       "      <td>165000000.0</td>\n",
       "      <td>238736787.0</td>\n",
       "      <td>7.562447e+08</td>\n",
       "    </tr>\n",
       "    <tr>\n",
       "      <th>3</th>\n",
       "      <td>The Twilight Saga: Eclipse</td>\n",
       "      <td>Sum.</td>\n",
       "      <td>398000000.0</td>\n",
       "      <td>Jun 30, 2010</td>\n",
       "      <td>68000000.0</td>\n",
       "      <td>300531751.0</td>\n",
       "      <td>7.061028e+08</td>\n",
       "    </tr>\n",
       "    <tr>\n",
       "      <th>4</th>\n",
       "      <td>Iron Man 2</td>\n",
       "      <td>Par.</td>\n",
       "      <td>311500000.0</td>\n",
       "      <td>May 7, 2010</td>\n",
       "      <td>170000000.0</td>\n",
       "      <td>312433331.0</td>\n",
       "      <td>6.211564e+08</td>\n",
       "    </tr>\n",
       "  </tbody>\n",
       "</table>\n",
       "</div>"
      ],
      "text/plain": [
       "                        movie studio  foreign_gross  release_date  \\\n",
       "0                 Toy Story 3     BV    652000000.0  Jun 18, 2010   \n",
       "1                   Inception     WB    535700000.0  Jul 16, 2010   \n",
       "2         Shrek Forever After   P/DW    513900000.0  May 21, 2010   \n",
       "3  The Twilight Saga: Eclipse   Sum.    398000000.0  Jun 30, 2010   \n",
       "4                  Iron Man 2   Par.    311500000.0   May 7, 2010   \n",
       "\n",
       "   production_budget  domestic_gross  worldwide_gross  \n",
       "0        200000000.0     415004880.0     1.068880e+09  \n",
       "1        160000000.0     292576195.0     8.355246e+08  \n",
       "2        165000000.0     238736787.0     7.562447e+08  \n",
       "3         68000000.0     300531751.0     7.061028e+08  \n",
       "4        170000000.0     312433331.0     6.211564e+08  "
      ]
     },
     "execution_count": 9,
     "metadata": {},
     "output_type": "execute_result"
    }
   ],
   "source": [
    "# Convert foreign gross from string to numeric\n",
    "gross_budget['foreign_gross'] = pd.to_numeric(gross_budget['foreign_gross'], errors='coerce') \n",
    "gross_budget['production_budget'] = pd.to_numeric(gross_budget['production_budget'], errors='coerce')\n",
    "gross_budget['domestic_gross'] = pd.to_numeric(gross_budget['domestic_gross'], errors='coerce')\n",
    "gross_budget['worldwide_gross'] = pd.to_numeric(gross_budget['worldwide_gross'], errors='coerce')\n",
    "gross_budget.head()"
   ]
  },
  {
   "cell_type": "code",
   "execution_count": 10,
   "metadata": {},
   "outputs": [
    {
     "name": "stdout",
     "output_type": "stream",
     "text": [
      "<class 'pandas.core.frame.DataFrame'>\n",
      "RangeIndex: 1247 entries, 0 to 1246\n",
      "Data columns (total 7 columns):\n",
      " #   Column             Non-Null Count  Dtype  \n",
      "---  ------             --------------  -----  \n",
      " 0   movie              1247 non-null   object \n",
      " 1   studio             1246 non-null   object \n",
      " 2   foreign_gross      1082 non-null   float64\n",
      " 3   release_date       1247 non-null   object \n",
      " 4   production_budget  1247 non-null   float64\n",
      " 5   domestic_gross     1247 non-null   float64\n",
      " 6   worldwide_gross    1247 non-null   float64\n",
      "dtypes: float64(4), object(3)\n",
      "memory usage: 68.3+ KB\n"
     ]
    }
   ],
   "source": [
    "gross_budget.info()"
   ]
  },
  {
   "cell_type": "code",
   "execution_count": 16,
   "metadata": {},
   "outputs": [
    {
     "data": {
      "text/plain": [
       "original_title         0\n",
       "studio                 1\n",
       "foreign_gross        161\n",
       "release_date           0\n",
       "production_budget      0\n",
       "domestic_gross         0\n",
       "worldwide_gross        0\n",
       "dtype: int64"
      ]
     },
     "execution_count": 16,
     "metadata": {},
     "output_type": "execute_result"
    }
   ],
   "source": [
    "#Check for missing values\n",
    "gross_budget.isna().sum()"
   ]
  },
  {
   "cell_type": "code",
   "execution_count": null,
   "metadata": {},
   "outputs": [
    {
     "data": {
      "text/plain": [
       "original_title       0\n",
       "studio               0\n",
       "foreign_gross        0\n",
       "release_date         0\n",
       "production_budget    0\n",
       "domestic_gross       0\n",
       "worldwide_gross      0\n",
       "dtype: int64"
      ]
     },
     "execution_count": 17,
     "metadata": {},
     "output_type": "execute_result"
    }
   ],
   "source": [
    "# Drop missing values in every colum \n",
    "for column in gross_budget.columns:\n",
    "    gross_budget = gross_budget.dropna(subset=[column])\n",
    "\n",
    "gross_budget.isna().sum()"
   ]
  },
  {
   "cell_type": "code",
   "execution_count": 18,
   "metadata": {},
   "outputs": [
    {
     "data": {
      "text/plain": [
       "0"
      ]
     },
     "execution_count": 18,
     "metadata": {},
     "output_type": "execute_result"
    }
   ],
   "source": [
    "#Check for duplicates\n",
    "gross_budget.duplicated().sum()"
   ]
  },
  {
   "cell_type": "code",
   "execution_count": 19,
   "metadata": {},
   "outputs": [
    {
     "name": "stdout",
     "output_type": "stream",
     "text": [
      "<class 'pandas.core.frame.DataFrame'>\n",
      "Index: 1085 entries, 0 to 1244\n",
      "Data columns (total 7 columns):\n",
      " #   Column             Non-Null Count  Dtype  \n",
      "---  ------             --------------  -----  \n",
      " 0   original_title     1085 non-null   object \n",
      " 1   studio             1085 non-null   object \n",
      " 2   foreign_gross      1085 non-null   object \n",
      " 3   release_date       1085 non-null   object \n",
      " 4   production_budget  1085 non-null   float64\n",
      " 5   domestic_gross     1085 non-null   float64\n",
      " 6   worldwide_gross    1085 non-null   float64\n",
      "dtypes: float64(3), object(4)\n",
      "memory usage: 67.8+ KB\n"
     ]
    }
   ],
   "source": [
    "gross_budget.info()"
   ]
  },
  {
   "cell_type": "code",
   "execution_count": null,
   "metadata": {},
   "outputs": [],
   "source": [
    "# Determining profit\n",
    "gross_budget[\"profit\"] = gross_budget[\"worldwide_gross\"] - gross_budget[\"production_budget\"]"
   ]
  },
  {
   "cell_type": "code",
   "execution_count": 20,
   "metadata": {},
   "outputs": [],
   "source": [
    "gross_budget['release_date'] = pd.to_datetime(gross_budget['release_date'])"
   ]
  },
  {
   "cell_type": "code",
   "execution_count": 22,
   "metadata": {},
   "outputs": [
    {
     "data": {
      "text/html": [
       "<div>\n",
       "<style scoped>\n",
       "    .dataframe tbody tr th:only-of-type {\n",
       "        vertical-align: middle;\n",
       "    }\n",
       "\n",
       "    .dataframe tbody tr th {\n",
       "        vertical-align: top;\n",
       "    }\n",
       "\n",
       "    .dataframe thead th {\n",
       "        text-align: right;\n",
       "    }\n",
       "</style>\n",
       "<table border=\"1\" class=\"dataframe\">\n",
       "  <thead>\n",
       "    <tr style=\"text-align: right;\">\n",
       "      <th></th>\n",
       "      <th>count</th>\n",
       "      <th>mean</th>\n",
       "      <th>min</th>\n",
       "      <th>25%</th>\n",
       "      <th>50%</th>\n",
       "      <th>75%</th>\n",
       "      <th>max</th>\n",
       "      <th>std</th>\n",
       "    </tr>\n",
       "  </thead>\n",
       "  <tbody>\n",
       "    <tr>\n",
       "      <th>release_date</th>\n",
       "      <td>1085</td>\n",
       "      <td>2013-11-19 01:39:32.350230272</td>\n",
       "      <td>1967-09-18 00:00:00</td>\n",
       "      <td>2011-09-02 00:00:00</td>\n",
       "      <td>2013-11-01 00:00:00</td>\n",
       "      <td>2016-02-19 00:00:00</td>\n",
       "      <td>2018-12-25 00:00:00</td>\n",
       "      <td>NaN</td>\n",
       "    </tr>\n",
       "    <tr>\n",
       "      <th>production_budget</th>\n",
       "      <td>1085.0</td>\n",
       "      <td>52524546.221198</td>\n",
       "      <td>100000.0</td>\n",
       "      <td>13500000.0</td>\n",
       "      <td>30000000.0</td>\n",
       "      <td>68000000.0</td>\n",
       "      <td>410600000.0</td>\n",
       "      <td>57788606.329374</td>\n",
       "    </tr>\n",
       "    <tr>\n",
       "      <th>domestic_gross</th>\n",
       "      <td>1085.0</td>\n",
       "      <td>68696288.647926</td>\n",
       "      <td>0.0</td>\n",
       "      <td>15024049.0</td>\n",
       "      <td>39322544.0</td>\n",
       "      <td>84752907.0</td>\n",
       "      <td>700059566.0</td>\n",
       "      <td>87921537.08385</td>\n",
       "    </tr>\n",
       "    <tr>\n",
       "      <th>worldwide_gross</th>\n",
       "      <td>1085.0</td>\n",
       "      <td>173052234.267281</td>\n",
       "      <td>0.0</td>\n",
       "      <td>31149251.0</td>\n",
       "      <td>81424988.0</td>\n",
       "      <td>206598789.0</td>\n",
       "      <td>2048134200.0</td>\n",
       "      <td>245087803.234854</td>\n",
       "    </tr>\n",
       "  </tbody>\n",
       "</table>\n",
       "</div>"
      ],
      "text/plain": [
       "                    count                           mean                  min  \\\n",
       "release_date         1085  2013-11-19 01:39:32.350230272  1967-09-18 00:00:00   \n",
       "production_budget  1085.0                52524546.221198             100000.0   \n",
       "domestic_gross     1085.0                68696288.647926                  0.0   \n",
       "worldwide_gross    1085.0               173052234.267281                  0.0   \n",
       "\n",
       "                                   25%                  50%  \\\n",
       "release_date       2011-09-02 00:00:00  2013-11-01 00:00:00   \n",
       "production_budget           13500000.0           30000000.0   \n",
       "domestic_gross              15024049.0           39322544.0   \n",
       "worldwide_gross             31149251.0           81424988.0   \n",
       "\n",
       "                                   75%                  max               std  \n",
       "release_date       2016-02-19 00:00:00  2018-12-25 00:00:00               NaN  \n",
       "production_budget           68000000.0          410600000.0   57788606.329374  \n",
       "domestic_gross              84752907.0          700059566.0    87921537.08385  \n",
       "worldwide_gross            206598789.0         2048134200.0  245087803.234854  "
      ]
     },
     "execution_count": 22,
     "metadata": {},
     "output_type": "execute_result"
    }
   ],
   "source": [
    "#Checking distribution of my of my numerical columns\n",
    "gross_budget.describe().T"
   ]
  },
  {
   "cell_type": "code",
   "execution_count": 23,
   "metadata": {},
   "outputs": [
    {
     "name": "stdout",
     "output_type": "stream",
     "text": [
      "<class 'pandas.core.frame.DataFrame'>\n",
      "Index: 1085 entries, 0 to 1244\n",
      "Data columns (total 7 columns):\n",
      " #   Column             Non-Null Count  Dtype         \n",
      "---  ------             --------------  -----         \n",
      " 0   original_title     1085 non-null   object        \n",
      " 1   studio             1085 non-null   object        \n",
      " 2   foreign_gross      1085 non-null   object        \n",
      " 3   release_date       1085 non-null   datetime64[ns]\n",
      " 4   production_budget  1085 non-null   float64       \n",
      " 5   domestic_gross     1085 non-null   float64       \n",
      " 6   worldwide_gross    1085 non-null   float64       \n",
      "dtypes: datetime64[ns](1), float64(3), object(3)\n",
      "memory usage: 67.8+ KB\n"
     ]
    }
   ],
   "source": [
    "gross_budget.info()"
   ]
  },
  {
   "cell_type": "code",
   "execution_count": 24,
   "metadata": {},
   "outputs": [],
   "source": [
    "# save the cleaned data\n",
    "gross_budget.to_csv('cleaned_gross_budget.csv', index=False)  # Saves without row index"
   ]
  },
  {
   "cell_type": "markdown",
   "metadata": {},
   "source": [
    "Creation of a cleaned merged data."
   ]
  },
  {
   "cell_type": "code",
   "execution_count": null,
   "metadata": {},
   "outputs": [],
   "source": []
  }
 ],
 "metadata": {
  "kernelspec": {
   "display_name": "base",
   "language": "python",
   "name": "python3"
  },
  "language_info": {
   "codemirror_mode": {
    "name": "ipython",
    "version": 3
   },
   "file_extension": ".py",
   "mimetype": "text/x-python",
   "name": "python",
   "nbconvert_exporter": "python",
   "pygments_lexer": "ipython3",
   "version": "3.11.7"
  }
 },
 "nbformat": 4,
 "nbformat_minor": 2
}
