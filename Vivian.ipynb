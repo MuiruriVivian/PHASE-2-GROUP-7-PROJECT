{
 "cells": [
  {
   "cell_type": "code",
   "execution_count": 1,
   "metadata": {},
   "outputs": [],
   "source": [
    "import pandas as pd\n",
    "import seaborn as sns\n",
    "import matplotlib.pyplot as plt"
   ]
  },
  {
   "cell_type": "code",
   "execution_count": null,
   "metadata": {},
   "outputs": [],
   "source": []
  },
  {
   "cell_type": "markdown",
   "metadata": {},
   "source": [
    "## OBJECTIVES"
   ]
  },
  {
   "cell_type": "markdown",
   "metadata": {},
   "source": [
    "1.  Determine which genres are most popular based on the popularity and vote_count metrics."
   ]
  },
  {
   "cell_type": "code",
   "execution_count": null,
   "metadata": {},
   "outputs": [],
   "source": [
    "\n",
    "\n",
    "# 2. Runtime vs Rating Analysis\n",
    "plt.figure(figsize=(10, 6))\n",
    "sns.scatterplot(data=df, x='runtime_minutes', y='vote_average', alpha=0.5)\n",
    "plt.title('Movie Runtime vs Rating')\n",
    "plt.show()\n",
    "\n",
    "# 3. Release Month Analysis\n",
    "df['release_month'] = pd.to_datetime(df['release_date']).dt.month\n",
    "monthly_success = df.groupby('release_month').agg({\n",
    "    'vote_average': 'mean',\n",
    "    'popularity': 'mean'\n",
    "}).round(2)\n",
    "\n",
    "plt.figure(figsize=(10, 6))\n",
    "monthly_success['popularity'].plot(kind='bar')\n",
    "plt.title('Average Popularity by Release Month')\n",
    "plt.xlabel('Month')\n",
    "plt.xticks(rotation=45)\n",
    "plt.tight_layout()\n",
    "plt.show()\n",
    "\n",
    "print(\"\\\n",
    "Monthly Performance Metrics:\")\n",
    "print(monthly_success)"
   ]
  }
 ],
 "metadata": {
  "kernelspec": {
   "display_name": "base",
   "language": "python",
   "name": "python3"
  },
  "language_info": {
   "codemirror_mode": {
    "name": "ipython",
    "version": 3
   },
   "file_extension": ".py",
   "mimetype": "text/x-python",
   "name": "python",
   "nbconvert_exporter": "python",
   "pygments_lexer": "ipython3",
   "version": "3.11.7"
  }
 },
 "nbformat": 4,
 "nbformat_minor": 2
}
