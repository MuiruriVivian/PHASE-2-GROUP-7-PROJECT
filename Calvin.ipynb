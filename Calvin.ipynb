{
 "cells": [
  {
   "cell_type": "code",
   "execution_count": 4,
   "id": "6ed55ff2",
   "metadata": {},
   "outputs": [],
   "source": [
    "import itertools\n",
    "import numpy as np\n",
    "import pandas as pd \n",
    "from numbers import Number\n",
    "import sqlite3\n",
    "from scipy import stats\n",
    "import matplotlib.pyplot as plt\n",
    "import seaborn as sns\n",
    "import warnings\n",
    "warnings.filterwarnings('ignore')\n",
    "\n",
    "import pickle"
   ]
  },
  {
   "cell_type": "markdown",
   "id": "086be1e5",
   "metadata": {},
   "source": [
    "# creation of cleaned_gross_budget.csv"
   ]
  },
  {
   "cell_type": "code",
   "execution_count": 112,
   "id": "3fffb4cd",
   "metadata": {},
   "outputs": [
    {
     "data": {
      "text/html": [
       "<div>\n",
       "<style scoped>\n",
       "    .dataframe tbody tr th:only-of-type {\n",
       "        vertical-align: middle;\n",
       "    }\n",
       "\n",
       "    .dataframe tbody tr th {\n",
       "        vertical-align: top;\n",
       "    }\n",
       "\n",
       "    .dataframe thead th {\n",
       "        text-align: right;\n",
       "    }\n",
       "</style>\n",
       "<table border=\"1\" class=\"dataframe\">\n",
       "  <thead>\n",
       "    <tr style=\"text-align: right;\">\n",
       "      <th></th>\n",
       "      <th>movie</th>\n",
       "      <th>studio</th>\n",
       "      <th>foreign_gross</th>\n",
       "    </tr>\n",
       "  </thead>\n",
       "  <tbody>\n",
       "    <tr>\n",
       "      <th>0</th>\n",
       "      <td>Toy Story 3</td>\n",
       "      <td>BV</td>\n",
       "      <td>652000000</td>\n",
       "    </tr>\n",
       "    <tr>\n",
       "      <th>1</th>\n",
       "      <td>Alice in Wonderland (2010)</td>\n",
       "      <td>BV</td>\n",
       "      <td>691300000</td>\n",
       "    </tr>\n",
       "    <tr>\n",
       "      <th>2</th>\n",
       "      <td>Harry Potter and the Deathly Hallows Part 1</td>\n",
       "      <td>WB</td>\n",
       "      <td>664300000</td>\n",
       "    </tr>\n",
       "    <tr>\n",
       "      <th>3</th>\n",
       "      <td>Inception</td>\n",
       "      <td>WB</td>\n",
       "      <td>535700000</td>\n",
       "    </tr>\n",
       "    <tr>\n",
       "      <th>4</th>\n",
       "      <td>Shrek Forever After</td>\n",
       "      <td>P/DW</td>\n",
       "      <td>513900000</td>\n",
       "    </tr>\n",
       "  </tbody>\n",
       "</table>\n",
       "</div>"
      ],
      "text/plain": [
       "                                         movie studio foreign_gross\n",
       "0                                  Toy Story 3     BV     652000000\n",
       "1                   Alice in Wonderland (2010)     BV     691300000\n",
       "2  Harry Potter and the Deathly Hallows Part 1     WB     664300000\n",
       "3                                    Inception     WB     535700000\n",
       "4                          Shrek Forever After   P/DW     513900000"
      ]
     },
     "execution_count": 112,
     "metadata": {},
     "output_type": "execute_result"
    }
   ],
   "source": [
    "bom = pd.read_csv('bom.movie_gross.csv.gz')\n",
    "bom2 = bom.rename(columns={'title': 'movie'})\n",
    "bom3 = bom2.drop(['domestic_gross', 'year'], axis=1)\n",
    "bom3.head()"
   ]
  },
  {
   "cell_type": "code",
   "execution_count": 113,
   "id": "9a3522a9",
   "metadata": {},
   "outputs": [
    {
     "data": {
      "text/html": [
       "<div>\n",
       "<style scoped>\n",
       "    .dataframe tbody tr th:only-of-type {\n",
       "        vertical-align: middle;\n",
       "    }\n",
       "\n",
       "    .dataframe tbody tr th {\n",
       "        vertical-align: top;\n",
       "    }\n",
       "\n",
       "    .dataframe thead th {\n",
       "        text-align: right;\n",
       "    }\n",
       "</style>\n",
       "<table border=\"1\" class=\"dataframe\">\n",
       "  <thead>\n",
       "    <tr style=\"text-align: right;\">\n",
       "      <th></th>\n",
       "      <th>release_date</th>\n",
       "      <th>movie</th>\n",
       "      <th>production_budget</th>\n",
       "      <th>domestic_gross</th>\n",
       "      <th>worldwide_gross</th>\n",
       "    </tr>\n",
       "  </thead>\n",
       "  <tbody>\n",
       "    <tr>\n",
       "      <th>0</th>\n",
       "      <td>Dec 18, 2009</td>\n",
       "      <td>Avatar</td>\n",
       "      <td>$425,000,000</td>\n",
       "      <td>$760,507,625</td>\n",
       "      <td>$2,776,345,279</td>\n",
       "    </tr>\n",
       "    <tr>\n",
       "      <th>1</th>\n",
       "      <td>May 20, 2011</td>\n",
       "      <td>Pirates of the Caribbean: On Stranger Tides</td>\n",
       "      <td>$410,600,000</td>\n",
       "      <td>$241,063,875</td>\n",
       "      <td>$1,045,663,875</td>\n",
       "    </tr>\n",
       "    <tr>\n",
       "      <th>2</th>\n",
       "      <td>Jun 7, 2019</td>\n",
       "      <td>Dark Phoenix</td>\n",
       "      <td>$350,000,000</td>\n",
       "      <td>$42,762,350</td>\n",
       "      <td>$149,762,350</td>\n",
       "    </tr>\n",
       "    <tr>\n",
       "      <th>3</th>\n",
       "      <td>May 1, 2015</td>\n",
       "      <td>Avengers: Age of Ultron</td>\n",
       "      <td>$330,600,000</td>\n",
       "      <td>$459,005,868</td>\n",
       "      <td>$1,403,013,963</td>\n",
       "    </tr>\n",
       "    <tr>\n",
       "      <th>4</th>\n",
       "      <td>Dec 15, 2017</td>\n",
       "      <td>Star Wars Ep. VIII: The Last Jedi</td>\n",
       "      <td>$317,000,000</td>\n",
       "      <td>$620,181,382</td>\n",
       "      <td>$1,316,721,747</td>\n",
       "    </tr>\n",
       "  </tbody>\n",
       "</table>\n",
       "</div>"
      ],
      "text/plain": [
       "   release_date                                        movie  \\\n",
       "0  Dec 18, 2009                                       Avatar   \n",
       "1  May 20, 2011  Pirates of the Caribbean: On Stranger Tides   \n",
       "2   Jun 7, 2019                                 Dark Phoenix   \n",
       "3   May 1, 2015                      Avengers: Age of Ultron   \n",
       "4  Dec 15, 2017            Star Wars Ep. VIII: The Last Jedi   \n",
       "\n",
       "  production_budget domestic_gross worldwide_gross  \n",
       "0      $425,000,000   $760,507,625  $2,776,345,279  \n",
       "1      $410,600,000   $241,063,875  $1,045,663,875  \n",
       "2      $350,000,000    $42,762,350    $149,762,350  \n",
       "3      $330,600,000   $459,005,868  $1,403,013,963  \n",
       "4      $317,000,000   $620,181,382  $1,316,721,747  "
      ]
     },
     "execution_count": 113,
     "metadata": {},
     "output_type": "execute_result"
    }
   ],
   "source": [
    "tnmovie = pd.read_csv('tn.movie_budgets.csv.gz')\n",
    "tnmovie1 = tnmovie.drop(['id'], axis=1)\n",
    "tnmovie1.head()"
   ]
  },
  {
   "cell_type": "code",
   "execution_count": 114,
   "id": "b8b2eb19",
   "metadata": {},
   "outputs": [
    {
     "data": {
      "text/html": [
       "<div>\n",
       "<style scoped>\n",
       "    .dataframe tbody tr th:only-of-type {\n",
       "        vertical-align: middle;\n",
       "    }\n",
       "\n",
       "    .dataframe tbody tr th {\n",
       "        vertical-align: top;\n",
       "    }\n",
       "\n",
       "    .dataframe thead th {\n",
       "        text-align: right;\n",
       "    }\n",
       "</style>\n",
       "<table border=\"1\" class=\"dataframe\">\n",
       "  <thead>\n",
       "    <tr style=\"text-align: right;\">\n",
       "      <th></th>\n",
       "      <th>movie</th>\n",
       "      <th>studio</th>\n",
       "      <th>foreign_gross</th>\n",
       "      <th>release_date</th>\n",
       "      <th>production_budget</th>\n",
       "      <th>domestic_gross</th>\n",
       "      <th>worldwide_gross</th>\n",
       "    </tr>\n",
       "  </thead>\n",
       "  <tbody>\n",
       "    <tr>\n",
       "      <th>0</th>\n",
       "      <td>Toy Story 3</td>\n",
       "      <td>BV</td>\n",
       "      <td>652000000</td>\n",
       "      <td>Jun 18, 2010</td>\n",
       "      <td>$200,000,000</td>\n",
       "      <td>$415,004,880</td>\n",
       "      <td>$1,068,879,522</td>\n",
       "    </tr>\n",
       "    <tr>\n",
       "      <th>1</th>\n",
       "      <td>Inception</td>\n",
       "      <td>WB</td>\n",
       "      <td>535700000</td>\n",
       "      <td>Jul 16, 2010</td>\n",
       "      <td>$160,000,000</td>\n",
       "      <td>$292,576,195</td>\n",
       "      <td>$835,524,642</td>\n",
       "    </tr>\n",
       "    <tr>\n",
       "      <th>2</th>\n",
       "      <td>Shrek Forever After</td>\n",
       "      <td>P/DW</td>\n",
       "      <td>513900000</td>\n",
       "      <td>May 21, 2010</td>\n",
       "      <td>$165,000,000</td>\n",
       "      <td>$238,736,787</td>\n",
       "      <td>$756,244,673</td>\n",
       "    </tr>\n",
       "    <tr>\n",
       "      <th>3</th>\n",
       "      <td>The Twilight Saga: Eclipse</td>\n",
       "      <td>Sum.</td>\n",
       "      <td>398000000</td>\n",
       "      <td>Jun 30, 2010</td>\n",
       "      <td>$68,000,000</td>\n",
       "      <td>$300,531,751</td>\n",
       "      <td>$706,102,828</td>\n",
       "    </tr>\n",
       "    <tr>\n",
       "      <th>4</th>\n",
       "      <td>Iron Man 2</td>\n",
       "      <td>Par.</td>\n",
       "      <td>311500000</td>\n",
       "      <td>May 7, 2010</td>\n",
       "      <td>$170,000,000</td>\n",
       "      <td>$312,433,331</td>\n",
       "      <td>$621,156,389</td>\n",
       "    </tr>\n",
       "  </tbody>\n",
       "</table>\n",
       "</div>"
      ],
      "text/plain": [
       "                        movie studio foreign_gross  release_date  \\\n",
       "0                 Toy Story 3     BV     652000000  Jun 18, 2010   \n",
       "1                   Inception     WB     535700000  Jul 16, 2010   \n",
       "2         Shrek Forever After   P/DW     513900000  May 21, 2010   \n",
       "3  The Twilight Saga: Eclipse   Sum.     398000000  Jun 30, 2010   \n",
       "4                  Iron Man 2   Par.     311500000   May 7, 2010   \n",
       "\n",
       "  production_budget domestic_gross worldwide_gross  \n",
       "0      $200,000,000   $415,004,880  $1,068,879,522  \n",
       "1      $160,000,000   $292,576,195    $835,524,642  \n",
       "2      $165,000,000   $238,736,787    $756,244,673  \n",
       "3       $68,000,000   $300,531,751    $706,102,828  \n",
       "4      $170,000,000   $312,433,331    $621,156,389  "
      ]
     },
     "execution_count": 114,
     "metadata": {},
     "output_type": "execute_result"
    }
   ],
   "source": [
    "gross_budget= pd.merge(bom3, tnmovie1, on='movie', how='inner')\n",
    "gross_budget.head()"
   ]
  },
  {
   "cell_type": "code",
   "execution_count": 115,
   "id": "e5ecd888",
   "metadata": {},
   "outputs": [
    {
     "name": "stdout",
     "output_type": "stream",
     "text": [
      "<class 'pandas.core.frame.DataFrame'>\n",
      "Int64Index: 1247 entries, 0 to 1246\n",
      "Data columns (total 7 columns):\n",
      " #   Column             Non-Null Count  Dtype \n",
      "---  ------             --------------  ----- \n",
      " 0   movie              1247 non-null   object\n",
      " 1   studio             1246 non-null   object\n",
      " 2   foreign_gross      1086 non-null   object\n",
      " 3   release_date       1247 non-null   object\n",
      " 4   production_budget  1247 non-null   object\n",
      " 5   domestic_gross     1247 non-null   object\n",
      " 6   worldwide_gross    1247 non-null   object\n",
      "dtypes: object(7)\n",
      "memory usage: 77.9+ KB\n"
     ]
    }
   ],
   "source": [
    "gross_budget.info()"
   ]
  },
  {
   "cell_type": "code",
   "execution_count": 116,
   "id": "1dce788a",
   "metadata": {},
   "outputs": [
    {
     "name": "stdout",
     "output_type": "stream",
     "text": [
      "<class 'pandas.core.frame.DataFrame'>\n",
      "Int64Index: 1247 entries, 0 to 1246\n",
      "Data columns (total 7 columns):\n",
      " #   Column             Non-Null Count  Dtype  \n",
      "---  ------             --------------  -----  \n",
      " 0   movie              1247 non-null   object \n",
      " 1   studio             1246 non-null   object \n",
      " 2   foreign_gross      1086 non-null   object \n",
      " 3   release_date       1247 non-null   object \n",
      " 4   production_budget  1247 non-null   float64\n",
      " 5   domestic_gross     1247 non-null   float64\n",
      " 6   worldwide_gross    1247 non-null   float64\n",
      "dtypes: float64(3), object(4)\n",
      "memory usage: 77.9+ KB\n"
     ]
    }
   ],
   "source": [
    "for col in ['production_budget', 'domestic_gross', 'worldwide_gross']:\n",
    "\n",
    "    gross_budget[col] = gross_budget[col].replace({'\\\\$': '', ',': ''}, regex=True).astype(float)\n",
    "gross_budget.info()"
   ]
  },
  {
   "cell_type": "code",
   "execution_count": 117,
   "id": "63d333a0",
   "metadata": {},
   "outputs": [
    {
     "data": {
      "text/html": [
       "<div>\n",
       "<style scoped>\n",
       "    .dataframe tbody tr th:only-of-type {\n",
       "        vertical-align: middle;\n",
       "    }\n",
       "\n",
       "    .dataframe tbody tr th {\n",
       "        vertical-align: top;\n",
       "    }\n",
       "\n",
       "    .dataframe thead th {\n",
       "        text-align: right;\n",
       "    }\n",
       "</style>\n",
       "<table border=\"1\" class=\"dataframe\">\n",
       "  <thead>\n",
       "    <tr style=\"text-align: right;\">\n",
       "      <th></th>\n",
       "      <th>movie</th>\n",
       "      <th>studio</th>\n",
       "      <th>foreign_gross</th>\n",
       "      <th>release_date</th>\n",
       "      <th>production_budget</th>\n",
       "      <th>domestic_gross</th>\n",
       "      <th>worldwide_gross</th>\n",
       "    </tr>\n",
       "  </thead>\n",
       "  <tbody>\n",
       "    <tr>\n",
       "      <th>0</th>\n",
       "      <td>Toy Story 3</td>\n",
       "      <td>BV</td>\n",
       "      <td>652000000.0</td>\n",
       "      <td>Jun 18, 2010</td>\n",
       "      <td>200000000.0</td>\n",
       "      <td>415004880.0</td>\n",
       "      <td>1.068880e+09</td>\n",
       "    </tr>\n",
       "    <tr>\n",
       "      <th>1</th>\n",
       "      <td>Inception</td>\n",
       "      <td>WB</td>\n",
       "      <td>535700000.0</td>\n",
       "      <td>Jul 16, 2010</td>\n",
       "      <td>160000000.0</td>\n",
       "      <td>292576195.0</td>\n",
       "      <td>8.355246e+08</td>\n",
       "    </tr>\n",
       "    <tr>\n",
       "      <th>2</th>\n",
       "      <td>Shrek Forever After</td>\n",
       "      <td>P/DW</td>\n",
       "      <td>513900000.0</td>\n",
       "      <td>May 21, 2010</td>\n",
       "      <td>165000000.0</td>\n",
       "      <td>238736787.0</td>\n",
       "      <td>7.562447e+08</td>\n",
       "    </tr>\n",
       "    <tr>\n",
       "      <th>3</th>\n",
       "      <td>The Twilight Saga: Eclipse</td>\n",
       "      <td>Sum.</td>\n",
       "      <td>398000000.0</td>\n",
       "      <td>Jun 30, 2010</td>\n",
       "      <td>68000000.0</td>\n",
       "      <td>300531751.0</td>\n",
       "      <td>7.061028e+08</td>\n",
       "    </tr>\n",
       "    <tr>\n",
       "      <th>4</th>\n",
       "      <td>Iron Man 2</td>\n",
       "      <td>Par.</td>\n",
       "      <td>311500000.0</td>\n",
       "      <td>May 7, 2010</td>\n",
       "      <td>170000000.0</td>\n",
       "      <td>312433331.0</td>\n",
       "      <td>6.211564e+08</td>\n",
       "    </tr>\n",
       "  </tbody>\n",
       "</table>\n",
       "</div>"
      ],
      "text/plain": [
       "                        movie studio  foreign_gross  release_date  \\\n",
       "0                 Toy Story 3     BV    652000000.0  Jun 18, 2010   \n",
       "1                   Inception     WB    535700000.0  Jul 16, 2010   \n",
       "2         Shrek Forever After   P/DW    513900000.0  May 21, 2010   \n",
       "3  The Twilight Saga: Eclipse   Sum.    398000000.0  Jun 30, 2010   \n",
       "4                  Iron Man 2   Par.    311500000.0   May 7, 2010   \n",
       "\n",
       "   production_budget  domestic_gross  worldwide_gross  \n",
       "0        200000000.0     415004880.0     1.068880e+09  \n",
       "1        160000000.0     292576195.0     8.355246e+08  \n",
       "2        165000000.0     238736787.0     7.562447e+08  \n",
       "3         68000000.0     300531751.0     7.061028e+08  \n",
       "4        170000000.0     312433331.0     6.211564e+08  "
      ]
     },
     "execution_count": 117,
     "metadata": {},
     "output_type": "execute_result"
    }
   ],
   "source": [
    "# Convert foreign gross from string to numeric\n",
    "gross_budget['foreign_gross'] = pd.to_numeric(gross_budget['foreign_gross'], errors='coerce') \n",
    "gross_budget['production_budget'] = pd.to_numeric(gross_budget['production_budget'], errors='coerce')\n",
    "gross_budget['domestic_gross'] = pd.to_numeric(gross_budget['domestic_gross'], errors='coerce')\n",
    "gross_budget['worldwide_gross'] = pd.to_numeric(gross_budget['worldwide_gross'], errors='coerce')\n",
    "gross_budget.head()"
   ]
  },
  {
   "cell_type": "code",
   "execution_count": 118,
   "id": "d8727fa5",
   "metadata": {},
   "outputs": [
    {
     "name": "stdout",
     "output_type": "stream",
     "text": [
      "<class 'pandas.core.frame.DataFrame'>\n",
      "Int64Index: 1247 entries, 0 to 1246\n",
      "Data columns (total 7 columns):\n",
      " #   Column             Non-Null Count  Dtype  \n",
      "---  ------             --------------  -----  \n",
      " 0   movie              1247 non-null   object \n",
      " 1   studio             1246 non-null   object \n",
      " 2   foreign_gross      1082 non-null   float64\n",
      " 3   release_date       1247 non-null   object \n",
      " 4   production_budget  1247 non-null   float64\n",
      " 5   domestic_gross     1247 non-null   float64\n",
      " 6   worldwide_gross    1247 non-null   float64\n",
      "dtypes: float64(4), object(3)\n",
      "memory usage: 77.9+ KB\n"
     ]
    }
   ],
   "source": [
    "gross_budget.info()"
   ]
  },
  {
   "cell_type": "code",
   "execution_count": 119,
   "id": "6c02d054",
   "metadata": {},
   "outputs": [
    {
     "data": {
      "text/plain": [
       "movie                  0\n",
       "studio                 1\n",
       "foreign_gross        165\n",
       "release_date           0\n",
       "production_budget      0\n",
       "domestic_gross         0\n",
       "worldwide_gross        0\n",
       "dtype: int64"
      ]
     },
     "execution_count": 119,
     "metadata": {},
     "output_type": "execute_result"
    }
   ],
   "source": [
    "gross_budget.isna().sum()"
   ]
  },
  {
   "cell_type": "code",
   "execution_count": 120,
   "id": "9e3b4744",
   "metadata": {},
   "outputs": [
    {
     "data": {
      "text/plain": [
       "movie                0\n",
       "studio               0\n",
       "foreign_gross        0\n",
       "release_date         0\n",
       "production_budget    0\n",
       "domestic_gross       0\n",
       "worldwide_gross      0\n",
       "dtype: int64"
      ]
     },
     "execution_count": 120,
     "metadata": {},
     "output_type": "execute_result"
    }
   ],
   "source": [
    "# drop missing values in every colum \n",
    "for column in gross_budget.columns:\n",
    "    gross_budget = gross_budget.dropna(subset=[column])\n",
    "\n",
    "gross_budget.isna().sum()\n"
   ]
  },
  {
   "cell_type": "code",
   "execution_count": 121,
   "id": "a6eb2125",
   "metadata": {},
   "outputs": [
    {
     "data": {
      "text/plain": [
       "0"
      ]
     },
     "execution_count": 121,
     "metadata": {},
     "output_type": "execute_result"
    }
   ],
   "source": [
    "gross_budget.duplicated().sum()"
   ]
  },
  {
   "cell_type": "code",
   "execution_count": 122,
   "id": "96685dc4",
   "metadata": {},
   "outputs": [],
   "source": [
    "# save the cleaned data\n",
    "gross_budget.to_csv('cleaned_gross_budget.csv', index=False)  # Saves without row index"
   ]
  },
  {
   "cell_type": "code",
   "execution_count": 123,
   "id": "de055bef",
   "metadata": {},
   "outputs": [
    {
     "data": {
      "text/html": [
       "<div>\n",
       "<style scoped>\n",
       "    .dataframe tbody tr th:only-of-type {\n",
       "        vertical-align: middle;\n",
       "    }\n",
       "\n",
       "    .dataframe tbody tr th {\n",
       "        vertical-align: top;\n",
       "    }\n",
       "\n",
       "    .dataframe thead th {\n",
       "        text-align: right;\n",
       "    }\n",
       "</style>\n",
       "<table border=\"1\" class=\"dataframe\">\n",
       "  <thead>\n",
       "    <tr style=\"text-align: right;\">\n",
       "      <th></th>\n",
       "      <th>count</th>\n",
       "      <th>mean</th>\n",
       "      <th>std</th>\n",
       "      <th>min</th>\n",
       "      <th>25%</th>\n",
       "      <th>50%</th>\n",
       "      <th>75%</th>\n",
       "      <th>max</th>\n",
       "    </tr>\n",
       "  </thead>\n",
       "  <tbody>\n",
       "    <tr>\n",
       "      <th>foreign_gross</th>\n",
       "      <td>1081.0</td>\n",
       "      <td>1.010362e+08</td>\n",
       "      <td>1.540983e+08</td>\n",
       "      <td>600.0</td>\n",
       "      <td>10500000.0</td>\n",
       "      <td>38100000.0</td>\n",
       "      <td>112200000.0</td>\n",
       "      <td>9.464000e+08</td>\n",
       "    </tr>\n",
       "    <tr>\n",
       "      <th>production_budget</th>\n",
       "      <td>1081.0</td>\n",
       "      <td>5.183546e+07</td>\n",
       "      <td>5.671559e+07</td>\n",
       "      <td>100000.0</td>\n",
       "      <td>13400000.0</td>\n",
       "      <td>30000000.0</td>\n",
       "      <td>66000000.0</td>\n",
       "      <td>4.106000e+08</td>\n",
       "    </tr>\n",
       "    <tr>\n",
       "      <th>domestic_gross</th>\n",
       "      <td>1081.0</td>\n",
       "      <td>6.718373e+07</td>\n",
       "      <td>8.365910e+07</td>\n",
       "      <td>0.0</td>\n",
       "      <td>14945541.0</td>\n",
       "      <td>39175066.0</td>\n",
       "      <td>84273813.0</td>\n",
       "      <td>7.000596e+08</td>\n",
       "    </tr>\n",
       "    <tr>\n",
       "      <th>worldwide_gross</th>\n",
       "      <td>1081.0</td>\n",
       "      <td>1.677254e+08</td>\n",
       "      <td>2.286249e+08</td>\n",
       "      <td>0.0</td>\n",
       "      <td>31124367.0</td>\n",
       "      <td>81209222.0</td>\n",
       "      <td>203127894.0</td>\n",
       "      <td>1.403014e+09</td>\n",
       "    </tr>\n",
       "  </tbody>\n",
       "</table>\n",
       "</div>"
      ],
      "text/plain": [
       "                    count          mean           std       min         25%  \\\n",
       "foreign_gross      1081.0  1.010362e+08  1.540983e+08     600.0  10500000.0   \n",
       "production_budget  1081.0  5.183546e+07  5.671559e+07  100000.0  13400000.0   \n",
       "domestic_gross     1081.0  6.718373e+07  8.365910e+07       0.0  14945541.0   \n",
       "worldwide_gross    1081.0  1.677254e+08  2.286249e+08       0.0  31124367.0   \n",
       "\n",
       "                          50%          75%           max  \n",
       "foreign_gross      38100000.0  112200000.0  9.464000e+08  \n",
       "production_budget  30000000.0   66000000.0  4.106000e+08  \n",
       "domestic_gross     39175066.0   84273813.0  7.000596e+08  \n",
       "worldwide_gross    81209222.0  203127894.0  1.403014e+09  "
      ]
     },
     "execution_count": 123,
     "metadata": {},
     "output_type": "execute_result"
    }
   ],
   "source": [
    "gross_budget.describe().T"
   ]
  },
  {
   "cell_type": "markdown",
   "id": "95c73dd5",
   "metadata": {},
   "source": [
    "# creation of cleaned_merged_data.csv"
   ]
  },
  {
   "cell_type": "code",
   "execution_count": 92,
   "id": "fdf97dee",
   "metadata": {},
   "outputs": [
    {
     "data": {
      "text/html": [
       "<div>\n",
       "<style scoped>\n",
       "    .dataframe tbody tr th:only-of-type {\n",
       "        vertical-align: middle;\n",
       "    }\n",
       "\n",
       "    .dataframe tbody tr th {\n",
       "        vertical-align: top;\n",
       "    }\n",
       "\n",
       "    .dataframe thead th {\n",
       "        text-align: right;\n",
       "    }\n",
       "</style>\n",
       "<table border=\"1\" class=\"dataframe\">\n",
       "  <thead>\n",
       "    <tr style=\"text-align: right;\">\n",
       "      <th></th>\n",
       "      <th>original_language</th>\n",
       "      <th>original_title</th>\n",
       "      <th>popularity</th>\n",
       "      <th>release_date</th>\n",
       "      <th>vote_average</th>\n",
       "      <th>vote_count</th>\n",
       "    </tr>\n",
       "  </thead>\n",
       "  <tbody>\n",
       "    <tr>\n",
       "      <th>0</th>\n",
       "      <td>en</td>\n",
       "      <td>Harry Potter and the Deathly Hallows: Part 1</td>\n",
       "      <td>33.533</td>\n",
       "      <td>2010-11-19</td>\n",
       "      <td>7.7</td>\n",
       "      <td>10788</td>\n",
       "    </tr>\n",
       "    <tr>\n",
       "      <th>1</th>\n",
       "      <td>en</td>\n",
       "      <td>How to Train Your Dragon</td>\n",
       "      <td>28.734</td>\n",
       "      <td>2010-03-26</td>\n",
       "      <td>7.7</td>\n",
       "      <td>7610</td>\n",
       "    </tr>\n",
       "    <tr>\n",
       "      <th>2</th>\n",
       "      <td>en</td>\n",
       "      <td>Iron Man 2</td>\n",
       "      <td>28.515</td>\n",
       "      <td>2010-05-07</td>\n",
       "      <td>6.8</td>\n",
       "      <td>12368</td>\n",
       "    </tr>\n",
       "    <tr>\n",
       "      <th>3</th>\n",
       "      <td>en</td>\n",
       "      <td>Toy Story</td>\n",
       "      <td>28.005</td>\n",
       "      <td>1995-11-22</td>\n",
       "      <td>7.9</td>\n",
       "      <td>10174</td>\n",
       "    </tr>\n",
       "    <tr>\n",
       "      <th>4</th>\n",
       "      <td>en</td>\n",
       "      <td>Inception</td>\n",
       "      <td>27.920</td>\n",
       "      <td>2010-07-16</td>\n",
       "      <td>8.3</td>\n",
       "      <td>22186</td>\n",
       "    </tr>\n",
       "  </tbody>\n",
       "</table>\n",
       "</div>"
      ],
      "text/plain": [
       "  original_language                                original_title  popularity  \\\n",
       "0                en  Harry Potter and the Deathly Hallows: Part 1      33.533   \n",
       "1                en                      How to Train Your Dragon      28.734   \n",
       "2                en                                    Iron Man 2      28.515   \n",
       "3                en                                     Toy Story      28.005   \n",
       "4                en                                     Inception      27.920   \n",
       "\n",
       "  release_date  vote_average  vote_count  \n",
       "0   2010-11-19           7.7       10788  \n",
       "1   2010-03-26           7.7        7610  \n",
       "2   2010-05-07           6.8       12368  \n",
       "3   1995-11-22           7.9       10174  \n",
       "4   2010-07-16           8.3       22186  "
      ]
     },
     "execution_count": 92,
     "metadata": {},
     "output_type": "execute_result"
    }
   ],
   "source": [
    "tmdb = pd.read_csv('tmdb.movies.csv.gz')\n",
    "tmdb_drop = tmdb.drop(['Unnamed: 0', 'genre_ids', 'title', 'id'], axis=1)\n",
    "tmdb_drop.head()"
   ]
  },
  {
   "cell_type": "code",
   "execution_count": 93,
   "id": "8fd87391",
   "metadata": {},
   "outputs": [
    {
     "data": {
      "text/html": [
       "<div>\n",
       "<style scoped>\n",
       "    .dataframe tbody tr th:only-of-type {\n",
       "        vertical-align: middle;\n",
       "    }\n",
       "\n",
       "    .dataframe tbody tr th {\n",
       "        vertical-align: top;\n",
       "    }\n",
       "\n",
       "    .dataframe thead th {\n",
       "        text-align: right;\n",
       "    }\n",
       "</style>\n",
       "<table border=\"1\" class=\"dataframe\">\n",
       "  <thead>\n",
       "    <tr style=\"text-align: right;\">\n",
       "      <th></th>\n",
       "      <th>type</th>\n",
       "      <th>name</th>\n",
       "      <th>tbl_name</th>\n",
       "      <th>rootpage</th>\n",
       "      <th>sql</th>\n",
       "    </tr>\n",
       "  </thead>\n",
       "  <tbody>\n",
       "    <tr>\n",
       "      <th>0</th>\n",
       "      <td>table</td>\n",
       "      <td>movie_basics</td>\n",
       "      <td>movie_basics</td>\n",
       "      <td>2</td>\n",
       "      <td>CREATE TABLE \"movie_basics\" (\\n\"movie_id\" TEXT...</td>\n",
       "    </tr>\n",
       "    <tr>\n",
       "      <th>1</th>\n",
       "      <td>table</td>\n",
       "      <td>directors</td>\n",
       "      <td>directors</td>\n",
       "      <td>3</td>\n",
       "      <td>CREATE TABLE \"directors\" (\\n\"movie_id\" TEXT,\\n...</td>\n",
       "    </tr>\n",
       "    <tr>\n",
       "      <th>2</th>\n",
       "      <td>table</td>\n",
       "      <td>known_for</td>\n",
       "      <td>known_for</td>\n",
       "      <td>4</td>\n",
       "      <td>CREATE TABLE \"known_for\" (\\n\"person_id\" TEXT,\\...</td>\n",
       "    </tr>\n",
       "    <tr>\n",
       "      <th>3</th>\n",
       "      <td>table</td>\n",
       "      <td>movie_akas</td>\n",
       "      <td>movie_akas</td>\n",
       "      <td>5</td>\n",
       "      <td>CREATE TABLE \"movie_akas\" (\\n\"movie_id\" TEXT,\\...</td>\n",
       "    </tr>\n",
       "    <tr>\n",
       "      <th>4</th>\n",
       "      <td>table</td>\n",
       "      <td>movie_ratings</td>\n",
       "      <td>movie_ratings</td>\n",
       "      <td>6</td>\n",
       "      <td>CREATE TABLE \"movie_ratings\" (\\n\"movie_id\" TEX...</td>\n",
       "    </tr>\n",
       "  </tbody>\n",
       "</table>\n",
       "</div>"
      ],
      "text/plain": [
       "    type           name       tbl_name  rootpage  \\\n",
       "0  table   movie_basics   movie_basics         2   \n",
       "1  table      directors      directors         3   \n",
       "2  table      known_for      known_for         4   \n",
       "3  table     movie_akas     movie_akas         5   \n",
       "4  table  movie_ratings  movie_ratings         6   \n",
       "\n",
       "                                                 sql  \n",
       "0  CREATE TABLE \"movie_basics\" (\\n\"movie_id\" TEXT...  \n",
       "1  CREATE TABLE \"directors\" (\\n\"movie_id\" TEXT,\\n...  \n",
       "2  CREATE TABLE \"known_for\" (\\n\"person_id\" TEXT,\\...  \n",
       "3  CREATE TABLE \"movie_akas\" (\\n\"movie_id\" TEXT,\\...  \n",
       "4  CREATE TABLE \"movie_ratings\" (\\n\"movie_id\" TEX...  "
      ]
     },
     "execution_count": 93,
     "metadata": {},
     "output_type": "execute_result"
    }
   ],
   "source": [
    "con = sqlite3.connect(\"im.db\")\n",
    "imdb = pd.read_sql(\"\"\"\n",
    "SELECT *\n",
    "FROM sqlite_master\n",
    "\"\"\"\n",
    ", con)\n",
    "imdb.head()"
   ]
  },
  {
   "cell_type": "code",
   "execution_count": 94,
   "id": "dd2189e0",
   "metadata": {},
   "outputs": [
    {
     "data": {
      "text/html": [
       "<div>\n",
       "<style scoped>\n",
       "    .dataframe tbody tr th:only-of-type {\n",
       "        vertical-align: middle;\n",
       "    }\n",
       "\n",
       "    .dataframe tbody tr th {\n",
       "        vertical-align: top;\n",
       "    }\n",
       "\n",
       "    .dataframe thead th {\n",
       "        text-align: right;\n",
       "    }\n",
       "</style>\n",
       "<table border=\"1\" class=\"dataframe\">\n",
       "  <thead>\n",
       "    <tr style=\"text-align: right;\">\n",
       "      <th></th>\n",
       "      <th>movie_id</th>\n",
       "      <th>primary_title</th>\n",
       "      <th>original_title</th>\n",
       "      <th>start_year</th>\n",
       "      <th>runtime_minutes</th>\n",
       "      <th>genres</th>\n",
       "    </tr>\n",
       "  </thead>\n",
       "  <tbody>\n",
       "    <tr>\n",
       "      <th>0</th>\n",
       "      <td>tt0063540</td>\n",
       "      <td>Sunghursh</td>\n",
       "      <td>Sunghursh</td>\n",
       "      <td>2013</td>\n",
       "      <td>175.0</td>\n",
       "      <td>Action,Crime,Drama</td>\n",
       "    </tr>\n",
       "    <tr>\n",
       "      <th>1</th>\n",
       "      <td>tt0066787</td>\n",
       "      <td>One Day Before the Rainy Season</td>\n",
       "      <td>Ashad Ka Ek Din</td>\n",
       "      <td>2019</td>\n",
       "      <td>114.0</td>\n",
       "      <td>Biography,Drama</td>\n",
       "    </tr>\n",
       "    <tr>\n",
       "      <th>2</th>\n",
       "      <td>tt0069049</td>\n",
       "      <td>The Other Side of the Wind</td>\n",
       "      <td>The Other Side of the Wind</td>\n",
       "      <td>2018</td>\n",
       "      <td>122.0</td>\n",
       "      <td>Drama</td>\n",
       "    </tr>\n",
       "    <tr>\n",
       "      <th>3</th>\n",
       "      <td>tt0069204</td>\n",
       "      <td>Sabse Bada Sukh</td>\n",
       "      <td>Sabse Bada Sukh</td>\n",
       "      <td>2018</td>\n",
       "      <td>NaN</td>\n",
       "      <td>Comedy,Drama</td>\n",
       "    </tr>\n",
       "    <tr>\n",
       "      <th>4</th>\n",
       "      <td>tt0100275</td>\n",
       "      <td>The Wandering Soap Opera</td>\n",
       "      <td>La Telenovela Errante</td>\n",
       "      <td>2017</td>\n",
       "      <td>80.0</td>\n",
       "      <td>Comedy,Drama,Fantasy</td>\n",
       "    </tr>\n",
       "  </tbody>\n",
       "</table>\n",
       "</div>"
      ],
      "text/plain": [
       "    movie_id                    primary_title              original_title  \\\n",
       "0  tt0063540                        Sunghursh                   Sunghursh   \n",
       "1  tt0066787  One Day Before the Rainy Season             Ashad Ka Ek Din   \n",
       "2  tt0069049       The Other Side of the Wind  The Other Side of the Wind   \n",
       "3  tt0069204                  Sabse Bada Sukh             Sabse Bada Sukh   \n",
       "4  tt0100275         The Wandering Soap Opera       La Telenovela Errante   \n",
       "\n",
       "   start_year  runtime_minutes                genres  \n",
       "0        2013            175.0    Action,Crime,Drama  \n",
       "1        2019            114.0       Biography,Drama  \n",
       "2        2018            122.0                 Drama  \n",
       "3        2018              NaN          Comedy,Drama  \n",
       "4        2017             80.0  Comedy,Drama,Fantasy  "
      ]
     },
     "execution_count": 94,
     "metadata": {},
     "output_type": "execute_result"
    }
   ],
   "source": [
    "movbasic = pd.read_sql(\"\"\"\n",
    "select *\n",
    "from movie_basics\n",
    ";\"\"\", con)\n",
    "movbasic.head()"
   ]
  },
  {
   "cell_type": "code",
   "execution_count": 95,
   "id": "5415b3a5",
   "metadata": {},
   "outputs": [
    {
     "data": {
      "text/html": [
       "<div>\n",
       "<style scoped>\n",
       "    .dataframe tbody tr th:only-of-type {\n",
       "        vertical-align: middle;\n",
       "    }\n",
       "\n",
       "    .dataframe tbody tr th {\n",
       "        vertical-align: top;\n",
       "    }\n",
       "\n",
       "    .dataframe thead th {\n",
       "        text-align: right;\n",
       "    }\n",
       "</style>\n",
       "<table border=\"1\" class=\"dataframe\">\n",
       "  <thead>\n",
       "    <tr style=\"text-align: right;\">\n",
       "      <th></th>\n",
       "      <th>movie_id</th>\n",
       "      <th>averagerating</th>\n",
       "      <th>numvotes</th>\n",
       "    </tr>\n",
       "  </thead>\n",
       "  <tbody>\n",
       "    <tr>\n",
       "      <th>0</th>\n",
       "      <td>tt10356526</td>\n",
       "      <td>8.3</td>\n",
       "      <td>31</td>\n",
       "    </tr>\n",
       "    <tr>\n",
       "      <th>1</th>\n",
       "      <td>tt10384606</td>\n",
       "      <td>8.9</td>\n",
       "      <td>559</td>\n",
       "    </tr>\n",
       "    <tr>\n",
       "      <th>2</th>\n",
       "      <td>tt1042974</td>\n",
       "      <td>6.4</td>\n",
       "      <td>20</td>\n",
       "    </tr>\n",
       "    <tr>\n",
       "      <th>3</th>\n",
       "      <td>tt1043726</td>\n",
       "      <td>4.2</td>\n",
       "      <td>50352</td>\n",
       "    </tr>\n",
       "    <tr>\n",
       "      <th>4</th>\n",
       "      <td>tt1060240</td>\n",
       "      <td>6.5</td>\n",
       "      <td>21</td>\n",
       "    </tr>\n",
       "  </tbody>\n",
       "</table>\n",
       "</div>"
      ],
      "text/plain": [
       "     movie_id  averagerating  numvotes\n",
       "0  tt10356526            8.3        31\n",
       "1  tt10384606            8.9       559\n",
       "2   tt1042974            6.4        20\n",
       "3   tt1043726            4.2     50352\n",
       "4   tt1060240            6.5        21"
      ]
     },
     "execution_count": 95,
     "metadata": {},
     "output_type": "execute_result"
    }
   ],
   "source": [
    "movrating = pd.read_sql(\"\"\"\n",
    "select *\n",
    "from movie_ratings\n",
    ";\"\"\", con)\n",
    "movrating.head()"
   ]
  },
  {
   "cell_type": "code",
   "execution_count": 96,
   "id": "6151a7cb",
   "metadata": {},
   "outputs": [
    {
     "data": {
      "text/html": [
       "<div>\n",
       "<style scoped>\n",
       "    .dataframe tbody tr th:only-of-type {\n",
       "        vertical-align: middle;\n",
       "    }\n",
       "\n",
       "    .dataframe tbody tr th {\n",
       "        vertical-align: top;\n",
       "    }\n",
       "\n",
       "    .dataframe thead th {\n",
       "        text-align: right;\n",
       "    }\n",
       "</style>\n",
       "<table border=\"1\" class=\"dataframe\">\n",
       "  <thead>\n",
       "    <tr style=\"text-align: right;\">\n",
       "      <th></th>\n",
       "      <th>original_title</th>\n",
       "      <th>runtime_minutes</th>\n",
       "      <th>genres</th>\n",
       "      <th>averagerating</th>\n",
       "      <th>numvotes</th>\n",
       "    </tr>\n",
       "  </thead>\n",
       "  <tbody>\n",
       "    <tr>\n",
       "      <th>0</th>\n",
       "      <td>Sunghursh</td>\n",
       "      <td>175.0</td>\n",
       "      <td>Action,Crime,Drama</td>\n",
       "      <td>7.0</td>\n",
       "      <td>77</td>\n",
       "    </tr>\n",
       "    <tr>\n",
       "      <th>1</th>\n",
       "      <td>Ashad Ka Ek Din</td>\n",
       "      <td>114.0</td>\n",
       "      <td>Biography,Drama</td>\n",
       "      <td>7.2</td>\n",
       "      <td>43</td>\n",
       "    </tr>\n",
       "    <tr>\n",
       "      <th>2</th>\n",
       "      <td>The Other Side of the Wind</td>\n",
       "      <td>122.0</td>\n",
       "      <td>Drama</td>\n",
       "      <td>6.9</td>\n",
       "      <td>4517</td>\n",
       "    </tr>\n",
       "    <tr>\n",
       "      <th>3</th>\n",
       "      <td>Sabse Bada Sukh</td>\n",
       "      <td>NaN</td>\n",
       "      <td>Comedy,Drama</td>\n",
       "      <td>6.1</td>\n",
       "      <td>13</td>\n",
       "    </tr>\n",
       "    <tr>\n",
       "      <th>4</th>\n",
       "      <td>La Telenovela Errante</td>\n",
       "      <td>80.0</td>\n",
       "      <td>Comedy,Drama,Fantasy</td>\n",
       "      <td>6.5</td>\n",
       "      <td>119</td>\n",
       "    </tr>\n",
       "    <tr>\n",
       "      <th>5</th>\n",
       "      <td>Bigfoot</td>\n",
       "      <td>NaN</td>\n",
       "      <td>Horror,Thriller</td>\n",
       "      <td>4.1</td>\n",
       "      <td>32</td>\n",
       "    </tr>\n",
       "    <tr>\n",
       "      <th>6</th>\n",
       "      <td>Joe Finds Grace</td>\n",
       "      <td>83.0</td>\n",
       "      <td>Adventure,Animation,Comedy</td>\n",
       "      <td>8.1</td>\n",
       "      <td>263</td>\n",
       "    </tr>\n",
       "    <tr>\n",
       "      <th>7</th>\n",
       "      <td>Pál Adrienn</td>\n",
       "      <td>136.0</td>\n",
       "      <td>Drama</td>\n",
       "      <td>6.8</td>\n",
       "      <td>451</td>\n",
       "    </tr>\n",
       "    <tr>\n",
       "      <th>8</th>\n",
       "      <td>Oda az igazság</td>\n",
       "      <td>100.0</td>\n",
       "      <td>History</td>\n",
       "      <td>4.6</td>\n",
       "      <td>64</td>\n",
       "    </tr>\n",
       "    <tr>\n",
       "      <th>9</th>\n",
       "      <td>Cooper and Hemingway: The True Gen</td>\n",
       "      <td>180.0</td>\n",
       "      <td>Documentary</td>\n",
       "      <td>7.6</td>\n",
       "      <td>53</td>\n",
       "    </tr>\n",
       "    <tr>\n",
       "      <th>10</th>\n",
       "      <td>A zöld sárkány gyermekei</td>\n",
       "      <td>89.0</td>\n",
       "      <td>Drama</td>\n",
       "      <td>6.9</td>\n",
       "      <td>120</td>\n",
       "    </tr>\n",
       "    <tr>\n",
       "      <th>11</th>\n",
       "      <td>T.G.M. - osvoboditel</td>\n",
       "      <td>60.0</td>\n",
       "      <td>Documentary</td>\n",
       "      <td>7.5</td>\n",
       "      <td>6</td>\n",
       "    </tr>\n",
       "    <tr>\n",
       "      <th>12</th>\n",
       "      <td>Az ember tragédiája</td>\n",
       "      <td>160.0</td>\n",
       "      <td>Animation,Drama,History</td>\n",
       "      <td>7.8</td>\n",
       "      <td>584</td>\n",
       "    </tr>\n",
       "    <tr>\n",
       "      <th>13</th>\n",
       "      <td>Reverse Heaven</td>\n",
       "      <td>104.0</td>\n",
       "      <td>Drama</td>\n",
       "      <td>4.0</td>\n",
       "      <td>72</td>\n",
       "    </tr>\n",
       "    <tr>\n",
       "      <th>14</th>\n",
       "      <td>The Final Journey</td>\n",
       "      <td>120.0</td>\n",
       "      <td>Drama</td>\n",
       "      <td>8.8</td>\n",
       "      <td>8</td>\n",
       "    </tr>\n",
       "    <tr>\n",
       "      <th>15</th>\n",
       "      <td>Los pájaros se van con la muerte</td>\n",
       "      <td>110.0</td>\n",
       "      <td>Drama,Mystery</td>\n",
       "      <td>4.0</td>\n",
       "      <td>12</td>\n",
       "    </tr>\n",
       "    <tr>\n",
       "      <th>16</th>\n",
       "      <td>Foodfight!</td>\n",
       "      <td>91.0</td>\n",
       "      <td>Action,Animation,Comedy</td>\n",
       "      <td>1.9</td>\n",
       "      <td>8248</td>\n",
       "    </tr>\n",
       "    <tr>\n",
       "      <th>17</th>\n",
       "      <td>Godfather</td>\n",
       "      <td>NaN</td>\n",
       "      <td>Crime,Drama</td>\n",
       "      <td>6.7</td>\n",
       "      <td>236</td>\n",
       "    </tr>\n",
       "    <tr>\n",
       "      <th>18</th>\n",
       "      <td>Gangavataran</td>\n",
       "      <td>134.0</td>\n",
       "      <td>None</td>\n",
       "      <td>6.6</td>\n",
       "      <td>8</td>\n",
       "    </tr>\n",
       "    <tr>\n",
       "      <th>19</th>\n",
       "      <td>Return to Babylon</td>\n",
       "      <td>75.0</td>\n",
       "      <td>Biography,Comedy,Drama</td>\n",
       "      <td>5.9</td>\n",
       "      <td>123</td>\n",
       "    </tr>\n",
       "  </tbody>\n",
       "</table>\n",
       "</div>"
      ],
      "text/plain": [
       "                        original_title  runtime_minutes  \\\n",
       "0                            Sunghursh            175.0   \n",
       "1                      Ashad Ka Ek Din            114.0   \n",
       "2           The Other Side of the Wind            122.0   \n",
       "3                      Sabse Bada Sukh              NaN   \n",
       "4                La Telenovela Errante             80.0   \n",
       "5                              Bigfoot              NaN   \n",
       "6                      Joe Finds Grace             83.0   \n",
       "7                          Pál Adrienn            136.0   \n",
       "8                       Oda az igazság            100.0   \n",
       "9   Cooper and Hemingway: The True Gen            180.0   \n",
       "10            A zöld sárkány gyermekei             89.0   \n",
       "11                T.G.M. - osvoboditel             60.0   \n",
       "12                 Az ember tragédiája            160.0   \n",
       "13                      Reverse Heaven            104.0   \n",
       "14                   The Final Journey            120.0   \n",
       "15    Los pájaros se van con la muerte            110.0   \n",
       "16                          Foodfight!             91.0   \n",
       "17                           Godfather              NaN   \n",
       "18                        Gangavataran            134.0   \n",
       "19                   Return to Babylon             75.0   \n",
       "\n",
       "                        genres  averagerating  numvotes  \n",
       "0           Action,Crime,Drama            7.0        77  \n",
       "1              Biography,Drama            7.2        43  \n",
       "2                        Drama            6.9      4517  \n",
       "3                 Comedy,Drama            6.1        13  \n",
       "4         Comedy,Drama,Fantasy            6.5       119  \n",
       "5              Horror,Thriller            4.1        32  \n",
       "6   Adventure,Animation,Comedy            8.1       263  \n",
       "7                        Drama            6.8       451  \n",
       "8                      History            4.6        64  \n",
       "9                  Documentary            7.6        53  \n",
       "10                       Drama            6.9       120  \n",
       "11                 Documentary            7.5         6  \n",
       "12     Animation,Drama,History            7.8       584  \n",
       "13                       Drama            4.0        72  \n",
       "14                       Drama            8.8         8  \n",
       "15               Drama,Mystery            4.0        12  \n",
       "16     Action,Animation,Comedy            1.9      8248  \n",
       "17                 Crime,Drama            6.7       236  \n",
       "18                        None            6.6         8  \n",
       "19      Biography,Comedy,Drama            5.9       123  "
      ]
     },
     "execution_count": 96,
     "metadata": {},
     "output_type": "execute_result"
    }
   ],
   "source": [
    "movies = pd.read_sql(\"\"\"\n",
    "select original_title, runtime_minutes, genres, averagerating, numvotes\n",
    "from movie_basics\n",
    "join movie_ratings\n",
    "on movie_basics.movie_id = movie_ratings.movie_id\n",
    ";\"\"\", con)\n",
    "movies.head(20)"
   ]
  },
  {
   "cell_type": "code",
   "execution_count": 97,
   "id": "95cada37",
   "metadata": {},
   "outputs": [
    {
     "name": "stdout",
     "output_type": "stream",
     "text": [
      "<class 'pandas.core.frame.DataFrame'>\n",
      "RangeIndex: 73856 entries, 0 to 73855\n",
      "Data columns (total 5 columns):\n",
      " #   Column           Non-Null Count  Dtype  \n",
      "---  ------           --------------  -----  \n",
      " 0   original_title   73856 non-null  object \n",
      " 1   runtime_minutes  66236 non-null  float64\n",
      " 2   genres           73052 non-null  object \n",
      " 3   averagerating    73856 non-null  float64\n",
      " 4   numvotes         73856 non-null  int64  \n",
      "dtypes: float64(2), int64(1), object(2)\n",
      "memory usage: 2.8+ MB\n"
     ]
    }
   ],
   "source": [
    "movies.info()"
   ]
  },
  {
   "cell_type": "code",
   "execution_count": 98,
   "id": "f13687ae",
   "metadata": {},
   "outputs": [
    {
     "data": {
      "text/html": [
       "<div>\n",
       "<style scoped>\n",
       "    .dataframe tbody tr th:only-of-type {\n",
       "        vertical-align: middle;\n",
       "    }\n",
       "\n",
       "    .dataframe tbody tr th {\n",
       "        vertical-align: top;\n",
       "    }\n",
       "\n",
       "    .dataframe thead th {\n",
       "        text-align: right;\n",
       "    }\n",
       "</style>\n",
       "<table border=\"1\" class=\"dataframe\">\n",
       "  <thead>\n",
       "    <tr style=\"text-align: right;\">\n",
       "      <th></th>\n",
       "      <th>original_language</th>\n",
       "      <th>original_title</th>\n",
       "      <th>popularity</th>\n",
       "      <th>release_date</th>\n",
       "      <th>vote_average</th>\n",
       "      <th>vote_count</th>\n",
       "      <th>runtime_minutes</th>\n",
       "      <th>genres</th>\n",
       "      <th>averagerating</th>\n",
       "      <th>numvotes</th>\n",
       "    </tr>\n",
       "  </thead>\n",
       "  <tbody>\n",
       "    <tr>\n",
       "      <th>0</th>\n",
       "      <td>en</td>\n",
       "      <td>Harry Potter and the Deathly Hallows: Part 1</td>\n",
       "      <td>33.533</td>\n",
       "      <td>2010-11-19</td>\n",
       "      <td>7.7</td>\n",
       "      <td>10788</td>\n",
       "      <td>146.0</td>\n",
       "      <td>Adventure,Fantasy,Mystery</td>\n",
       "      <td>7.7</td>\n",
       "      <td>425530</td>\n",
       "    </tr>\n",
       "    <tr>\n",
       "      <th>1</th>\n",
       "      <td>en</td>\n",
       "      <td>How to Train Your Dragon</td>\n",
       "      <td>28.734</td>\n",
       "      <td>2010-03-26</td>\n",
       "      <td>7.7</td>\n",
       "      <td>7610</td>\n",
       "      <td>98.0</td>\n",
       "      <td>Action,Adventure,Animation</td>\n",
       "      <td>8.1</td>\n",
       "      <td>611299</td>\n",
       "    </tr>\n",
       "    <tr>\n",
       "      <th>2</th>\n",
       "      <td>en</td>\n",
       "      <td>Iron Man 2</td>\n",
       "      <td>28.515</td>\n",
       "      <td>2010-05-07</td>\n",
       "      <td>6.8</td>\n",
       "      <td>12368</td>\n",
       "      <td>124.0</td>\n",
       "      <td>Action,Adventure,Sci-Fi</td>\n",
       "      <td>7.0</td>\n",
       "      <td>657690</td>\n",
       "    </tr>\n",
       "    <tr>\n",
       "      <th>3</th>\n",
       "      <td>en</td>\n",
       "      <td>Inception</td>\n",
       "      <td>27.920</td>\n",
       "      <td>2010-07-16</td>\n",
       "      <td>8.3</td>\n",
       "      <td>22186</td>\n",
       "      <td>148.0</td>\n",
       "      <td>Action,Adventure,Sci-Fi</td>\n",
       "      <td>8.8</td>\n",
       "      <td>1841066</td>\n",
       "    </tr>\n",
       "    <tr>\n",
       "      <th>4</th>\n",
       "      <td>en</td>\n",
       "      <td>Percy Jackson &amp; the Olympians: The Lightning T...</td>\n",
       "      <td>26.691</td>\n",
       "      <td>2010-02-11</td>\n",
       "      <td>6.1</td>\n",
       "      <td>4229</td>\n",
       "      <td>118.0</td>\n",
       "      <td>Adventure,Family,Fantasy</td>\n",
       "      <td>5.9</td>\n",
       "      <td>165108</td>\n",
       "    </tr>\n",
       "    <tr>\n",
       "      <th>...</th>\n",
       "      <td>...</td>\n",
       "      <td>...</td>\n",
       "      <td>...</td>\n",
       "      <td>...</td>\n",
       "      <td>...</td>\n",
       "      <td>...</td>\n",
       "      <td>...</td>\n",
       "      <td>...</td>\n",
       "      <td>...</td>\n",
       "      <td>...</td>\n",
       "    </tr>\n",
       "    <tr>\n",
       "      <th>17886</th>\n",
       "      <td>en</td>\n",
       "      <td>Closing Time</td>\n",
       "      <td>0.600</td>\n",
       "      <td>2018-02-24</td>\n",
       "      <td>0.0</td>\n",
       "      <td>1</td>\n",
       "      <td>116.0</td>\n",
       "      <td>Documentary</td>\n",
       "      <td>6.4</td>\n",
       "      <td>51</td>\n",
       "    </tr>\n",
       "    <tr>\n",
       "      <th>17887</th>\n",
       "      <td>en</td>\n",
       "      <td>The Last One</td>\n",
       "      <td>0.600</td>\n",
       "      <td>2018-10-01</td>\n",
       "      <td>0.0</td>\n",
       "      <td>1</td>\n",
       "      <td>80.0</td>\n",
       "      <td>Documentary,History,News</td>\n",
       "      <td>7.0</td>\n",
       "      <td>26</td>\n",
       "    </tr>\n",
       "    <tr>\n",
       "      <th>17888</th>\n",
       "      <td>en</td>\n",
       "      <td>The Last One</td>\n",
       "      <td>0.600</td>\n",
       "      <td>2018-10-01</td>\n",
       "      <td>0.0</td>\n",
       "      <td>1</td>\n",
       "      <td>85.0</td>\n",
       "      <td>Action,Adventure,Fantasy</td>\n",
       "      <td>6.1</td>\n",
       "      <td>15</td>\n",
       "    </tr>\n",
       "    <tr>\n",
       "      <th>17889</th>\n",
       "      <td>en</td>\n",
       "      <td>Trailer Made</td>\n",
       "      <td>0.600</td>\n",
       "      <td>2018-06-22</td>\n",
       "      <td>0.0</td>\n",
       "      <td>1</td>\n",
       "      <td>79.0</td>\n",
       "      <td>Adventure</td>\n",
       "      <td>4.3</td>\n",
       "      <td>25</td>\n",
       "    </tr>\n",
       "    <tr>\n",
       "      <th>17890</th>\n",
       "      <td>en</td>\n",
       "      <td>The Church</td>\n",
       "      <td>0.600</td>\n",
       "      <td>2018-10-05</td>\n",
       "      <td>0.0</td>\n",
       "      <td>1</td>\n",
       "      <td>81.0</td>\n",
       "      <td>Horror,Thriller</td>\n",
       "      <td>5.7</td>\n",
       "      <td>19</td>\n",
       "    </tr>\n",
       "  </tbody>\n",
       "</table>\n",
       "<p>17891 rows × 10 columns</p>\n",
       "</div>"
      ],
      "text/plain": [
       "      original_language                                     original_title  \\\n",
       "0                    en       Harry Potter and the Deathly Hallows: Part 1   \n",
       "1                    en                           How to Train Your Dragon   \n",
       "2                    en                                         Iron Man 2   \n",
       "3                    en                                          Inception   \n",
       "4                    en  Percy Jackson & the Olympians: The Lightning T...   \n",
       "...                 ...                                                ...   \n",
       "17886                en                                       Closing Time   \n",
       "17887                en                                       The Last One   \n",
       "17888                en                                       The Last One   \n",
       "17889                en                                       Trailer Made   \n",
       "17890                en                                         The Church   \n",
       "\n",
       "       popularity release_date  vote_average  vote_count  runtime_minutes  \\\n",
       "0          33.533   2010-11-19           7.7       10788            146.0   \n",
       "1          28.734   2010-03-26           7.7        7610             98.0   \n",
       "2          28.515   2010-05-07           6.8       12368            124.0   \n",
       "3          27.920   2010-07-16           8.3       22186            148.0   \n",
       "4          26.691   2010-02-11           6.1        4229            118.0   \n",
       "...           ...          ...           ...         ...              ...   \n",
       "17886       0.600   2018-02-24           0.0           1            116.0   \n",
       "17887       0.600   2018-10-01           0.0           1             80.0   \n",
       "17888       0.600   2018-10-01           0.0           1             85.0   \n",
       "17889       0.600   2018-06-22           0.0           1             79.0   \n",
       "17890       0.600   2018-10-05           0.0           1             81.0   \n",
       "\n",
       "                           genres  averagerating  numvotes  \n",
       "0       Adventure,Fantasy,Mystery            7.7    425530  \n",
       "1      Action,Adventure,Animation            8.1    611299  \n",
       "2         Action,Adventure,Sci-Fi            7.0    657690  \n",
       "3         Action,Adventure,Sci-Fi            8.8   1841066  \n",
       "4        Adventure,Family,Fantasy            5.9    165108  \n",
       "...                           ...            ...       ...  \n",
       "17886                 Documentary            6.4        51  \n",
       "17887    Documentary,History,News            7.0        26  \n",
       "17888    Action,Adventure,Fantasy            6.1        15  \n",
       "17889                   Adventure            4.3        25  \n",
       "17890             Horror,Thriller            5.7        19  \n",
       "\n",
       "[17891 rows x 10 columns]"
      ]
     },
     "execution_count": 98,
     "metadata": {},
     "output_type": "execute_result"
    }
   ],
   "source": [
    "merged_data = pd.merge(tmdb_drop, movies, on='original_title', how='inner')\n",
    "merged_data"
   ]
  },
  {
   "cell_type": "code",
   "execution_count": 99,
   "id": "6cf2c7db",
   "metadata": {},
   "outputs": [
    {
     "name": "stdout",
     "output_type": "stream",
     "text": [
      "<class 'pandas.core.frame.DataFrame'>\n",
      "Int64Index: 17891 entries, 0 to 17890\n",
      "Data columns (total 10 columns):\n",
      " #   Column             Non-Null Count  Dtype  \n",
      "---  ------             --------------  -----  \n",
      " 0   original_language  17891 non-null  object \n",
      " 1   original_title     17891 non-null  object \n",
      " 2   popularity         17891 non-null  float64\n",
      " 3   release_date       17891 non-null  object \n",
      " 4   vote_average       17891 non-null  float64\n",
      " 5   vote_count         17891 non-null  int64  \n",
      " 6   runtime_minutes    17394 non-null  float64\n",
      " 7   genres             17831 non-null  object \n",
      " 8   averagerating      17891 non-null  float64\n",
      " 9   numvotes           17891 non-null  int64  \n",
      "dtypes: float64(4), int64(2), object(4)\n",
      "memory usage: 1.5+ MB\n"
     ]
    }
   ],
   "source": [
    "merged_data.info()"
   ]
  },
  {
   "cell_type": "code",
   "execution_count": 100,
   "id": "eeb941f9",
   "metadata": {},
   "outputs": [
    {
     "data": {
      "text/plain": [
       "original_language      0\n",
       "original_title         0\n",
       "popularity             0\n",
       "release_date           0\n",
       "vote_average           0\n",
       "vote_count             0\n",
       "runtime_minutes      497\n",
       "genres                60\n",
       "averagerating          0\n",
       "numvotes               0\n",
       "dtype: int64"
      ]
     },
     "execution_count": 100,
     "metadata": {},
     "output_type": "execute_result"
    }
   ],
   "source": [
    "merged_data.isna().sum()"
   ]
  },
  {
   "cell_type": "code",
   "execution_count": 101,
   "id": "36fda09d",
   "metadata": {},
   "outputs": [
    {
     "name": "stdout",
     "output_type": "stream",
     "text": [
      "original_language    0\n",
      "original_title       0\n",
      "popularity           0\n",
      "release_date         0\n",
      "vote_average         0\n",
      "vote_count           0\n",
      "runtime_minutes      0\n",
      "genres               0\n",
      "averagerating        0\n",
      "numvotes             0\n",
      "dtype: int64\n"
     ]
    }
   ],
   "source": [
    "# drop missing values in every colum \n",
    "for column in merged_data.columns:\n",
    "    merged_data = merged_data.dropna(subset=[column])\n",
    "\n",
    "print(merged_data.isna().sum())"
   ]
  },
  {
   "cell_type": "code",
   "execution_count": 102,
   "id": "fcc46203",
   "metadata": {},
   "outputs": [
    {
     "name": "stdout",
     "output_type": "stream",
     "text": [
      "<class 'pandas.core.frame.DataFrame'>\n",
      "Int64Index: 17347 entries, 0 to 17890\n",
      "Data columns (total 10 columns):\n",
      " #   Column             Non-Null Count  Dtype  \n",
      "---  ------             --------------  -----  \n",
      " 0   original_language  17347 non-null  object \n",
      " 1   original_title     17347 non-null  object \n",
      " 2   popularity         17347 non-null  float64\n",
      " 3   release_date       17347 non-null  object \n",
      " 4   vote_average       17347 non-null  float64\n",
      " 5   vote_count         17347 non-null  int64  \n",
      " 6   runtime_minutes    17347 non-null  float64\n",
      " 7   genres             17347 non-null  object \n",
      " 8   averagerating      17347 non-null  float64\n",
      " 9   numvotes           17347 non-null  int64  \n",
      "dtypes: float64(4), int64(2), object(4)\n",
      "memory usage: 1.5+ MB\n"
     ]
    }
   ],
   "source": [
    "merged_data.info()"
   ]
  },
  {
   "cell_type": "code",
   "execution_count": 103,
   "id": "bce73a02",
   "metadata": {},
   "outputs": [
    {
     "data": {
      "text/plain": [
       "0"
      ]
     },
     "execution_count": 103,
     "metadata": {},
     "output_type": "execute_result"
    }
   ],
   "source": [
    "merged_data = merged_data.drop_duplicates()\n",
    "merged_data.duplicated().sum()"
   ]
  },
  {
   "cell_type": "code",
   "execution_count": 104,
   "id": "72f3d86a",
   "metadata": {},
   "outputs": [
    {
     "name": "stdout",
     "output_type": "stream",
     "text": [
      "<class 'pandas.core.frame.DataFrame'>\n",
      "Int64Index: 16402 entries, 0 to 17890\n",
      "Data columns (total 10 columns):\n",
      " #   Column             Non-Null Count  Dtype  \n",
      "---  ------             --------------  -----  \n",
      " 0   original_language  16402 non-null  object \n",
      " 1   original_title     16402 non-null  object \n",
      " 2   popularity         16402 non-null  float64\n",
      " 3   release_date       16402 non-null  object \n",
      " 4   vote_average       16402 non-null  float64\n",
      " 5   vote_count         16402 non-null  int64  \n",
      " 6   runtime_minutes    16402 non-null  float64\n",
      " 7   genres             16402 non-null  object \n",
      " 8   averagerating      16402 non-null  float64\n",
      " 9   numvotes           16402 non-null  int64  \n",
      "dtypes: float64(4), int64(2), object(4)\n",
      "memory usage: 1.4+ MB\n"
     ]
    }
   ],
   "source": [
    "merged_data.info()"
   ]
  },
  {
   "cell_type": "code",
   "execution_count": 5,
   "metadata": {},
   "outputs": [],
   "source": [
    "merged_data = pd.read_csv(\"cleaned_merged_data.csv\")"
   ]
  },
  {
   "cell_type": "code",
   "execution_count": 6,
   "id": "cfff74f1",
   "metadata": {},
   "outputs": [
    {
     "data": {
      "text/html": [
       "<div>\n",
       "<style scoped>\n",
       "    .dataframe tbody tr th:only-of-type {\n",
       "        vertical-align: middle;\n",
       "    }\n",
       "\n",
       "    .dataframe tbody tr th {\n",
       "        vertical-align: top;\n",
       "    }\n",
       "\n",
       "    .dataframe thead th {\n",
       "        text-align: right;\n",
       "    }\n",
       "</style>\n",
       "<table border=\"1\" class=\"dataframe\">\n",
       "  <thead>\n",
       "    <tr style=\"text-align: right;\">\n",
       "      <th></th>\n",
       "      <th>original_language</th>\n",
       "      <th>original_title</th>\n",
       "      <th>popularity</th>\n",
       "      <th>release_date</th>\n",
       "      <th>vote_average</th>\n",
       "      <th>vote_count</th>\n",
       "      <th>runtime_minutes</th>\n",
       "      <th>genres</th>\n",
       "      <th>averagerating</th>\n",
       "      <th>numvotes</th>\n",
       "    </tr>\n",
       "  </thead>\n",
       "  <tbody>\n",
       "    <tr>\n",
       "      <th>0</th>\n",
       "      <td>en</td>\n",
       "      <td>Harry Potter and the Deathly Hallows: Part 1</td>\n",
       "      <td>33.533</td>\n",
       "      <td>2010-11-19</td>\n",
       "      <td>7.7</td>\n",
       "      <td>10788</td>\n",
       "      <td>146.0</td>\n",
       "      <td>Adventure,Fantasy,Mystery</td>\n",
       "      <td>7.7</td>\n",
       "      <td>425530</td>\n",
       "    </tr>\n",
       "    <tr>\n",
       "      <th>1</th>\n",
       "      <td>en</td>\n",
       "      <td>How to Train Your Dragon</td>\n",
       "      <td>28.734</td>\n",
       "      <td>2010-03-26</td>\n",
       "      <td>7.7</td>\n",
       "      <td>7610</td>\n",
       "      <td>98.0</td>\n",
       "      <td>Action,Adventure,Animation</td>\n",
       "      <td>8.1</td>\n",
       "      <td>611299</td>\n",
       "    </tr>\n",
       "    <tr>\n",
       "      <th>2</th>\n",
       "      <td>en</td>\n",
       "      <td>Iron Man 2</td>\n",
       "      <td>28.515</td>\n",
       "      <td>2010-05-07</td>\n",
       "      <td>6.8</td>\n",
       "      <td>12368</td>\n",
       "      <td>124.0</td>\n",
       "      <td>Action,Adventure,Sci-Fi</td>\n",
       "      <td>7.0</td>\n",
       "      <td>657690</td>\n",
       "    </tr>\n",
       "    <tr>\n",
       "      <th>3</th>\n",
       "      <td>en</td>\n",
       "      <td>Inception</td>\n",
       "      <td>27.920</td>\n",
       "      <td>2010-07-16</td>\n",
       "      <td>8.3</td>\n",
       "      <td>22186</td>\n",
       "      <td>148.0</td>\n",
       "      <td>Action,Adventure,Sci-Fi</td>\n",
       "      <td>8.8</td>\n",
       "      <td>1841066</td>\n",
       "    </tr>\n",
       "    <tr>\n",
       "      <th>4</th>\n",
       "      <td>en</td>\n",
       "      <td>Percy Jackson &amp; the Olympians: The Lightning T...</td>\n",
       "      <td>26.691</td>\n",
       "      <td>2010-02-11</td>\n",
       "      <td>6.1</td>\n",
       "      <td>4229</td>\n",
       "      <td>118.0</td>\n",
       "      <td>Adventure,Family,Fantasy</td>\n",
       "      <td>5.9</td>\n",
       "      <td>165108</td>\n",
       "    </tr>\n",
       "  </tbody>\n",
       "</table>\n",
       "</div>"
      ],
      "text/plain": [
       "  original_language                                     original_title  \\\n",
       "0                en       Harry Potter and the Deathly Hallows: Part 1   \n",
       "1                en                           How to Train Your Dragon   \n",
       "2                en                                         Iron Man 2   \n",
       "3                en                                          Inception   \n",
       "4                en  Percy Jackson & the Olympians: The Lightning T...   \n",
       "\n",
       "   popularity release_date  vote_average  vote_count  runtime_minutes  \\\n",
       "0      33.533   2010-11-19           7.7       10788            146.0   \n",
       "1      28.734   2010-03-26           7.7        7610             98.0   \n",
       "2      28.515   2010-05-07           6.8       12368            124.0   \n",
       "3      27.920   2010-07-16           8.3       22186            148.0   \n",
       "4      26.691   2010-02-11           6.1        4229            118.0   \n",
       "\n",
       "                       genres  averagerating  numvotes  \n",
       "0   Adventure,Fantasy,Mystery            7.7    425530  \n",
       "1  Action,Adventure,Animation            8.1    611299  \n",
       "2     Action,Adventure,Sci-Fi            7.0    657690  \n",
       "3     Action,Adventure,Sci-Fi            8.8   1841066  \n",
       "4    Adventure,Family,Fantasy            5.9    165108  "
      ]
     },
     "execution_count": 6,
     "metadata": {},
     "output_type": "execute_result"
    }
   ],
   "source": [
    "merged_data.head()"
   ]
  },
  {
   "cell_type": "code",
   "execution_count": 17,
   "metadata": {},
   "outputs": [
    {
     "data": {
      "text/plain": [
       "Index(['original_language', 'original_title', 'popularity', 'release_date',\n",
       "       'vote_average', 'vote_count', 'runtime_minutes', 'genres',\n",
       "       'averagerating', 'numvotes'],\n",
       "      dtype='object')"
      ]
     },
     "execution_count": 17,
     "metadata": {},
     "output_type": "execute_result"
    }
   ],
   "source": [
    "merged_data.columns"
   ]
  },
  {
   "cell_type": "code",
   "execution_count": 9,
   "metadata": {},
   "outputs": [
    {
     "data": {
      "text/plain": [
       "(16402, 10)"
      ]
     },
     "execution_count": 9,
     "metadata": {},
     "output_type": "execute_result"
    }
   ],
   "source": [
    "merged_data.shape"
   ]
  },
  {
   "cell_type": "code",
   "execution_count": 10,
   "metadata": {},
   "outputs": [
    {
     "data": {
      "text/plain": [
       "original_language     object\n",
       "original_title        object\n",
       "popularity           float64\n",
       "release_date          object\n",
       "vote_average         float64\n",
       "vote_count             int64\n",
       "runtime_minutes      float64\n",
       "genres                object\n",
       "averagerating        float64\n",
       "numvotes               int64\n",
       "dtype: object"
      ]
     },
     "execution_count": 10,
     "metadata": {},
     "output_type": "execute_result"
    }
   ],
   "source": [
    "merged_data.dtypes"
   ]
  },
  {
   "cell_type": "code",
   "execution_count": 11,
   "metadata": {},
   "outputs": [
    {
     "data": {
      "text/html": [
       "<div>\n",
       "<style scoped>\n",
       "    .dataframe tbody tr th:only-of-type {\n",
       "        vertical-align: middle;\n",
       "    }\n",
       "\n",
       "    .dataframe tbody tr th {\n",
       "        vertical-align: top;\n",
       "    }\n",
       "\n",
       "    .dataframe thead th {\n",
       "        text-align: right;\n",
       "    }\n",
       "</style>\n",
       "<table border=\"1\" class=\"dataframe\">\n",
       "  <thead>\n",
       "    <tr style=\"text-align: right;\">\n",
       "      <th></th>\n",
       "      <th>popularity</th>\n",
       "      <th>vote_average</th>\n",
       "      <th>vote_count</th>\n",
       "      <th>runtime_minutes</th>\n",
       "      <th>averagerating</th>\n",
       "      <th>numvotes</th>\n",
       "    </tr>\n",
       "  </thead>\n",
       "  <tbody>\n",
       "    <tr>\n",
       "      <th>count</th>\n",
       "      <td>16402.000000</td>\n",
       "      <td>16402.000000</td>\n",
       "      <td>16402.000000</td>\n",
       "      <td>16402.000000</td>\n",
       "      <td>16402.000000</td>\n",
       "      <td>1.640200e+04</td>\n",
       "    </tr>\n",
       "    <tr>\n",
       "      <th>mean</th>\n",
       "      <td>3.888187</td>\n",
       "      <td>5.731478</td>\n",
       "      <td>283.187050</td>\n",
       "      <td>93.605597</td>\n",
       "      <td>5.848488</td>\n",
       "      <td>1.496057e+04</td>\n",
       "    </tr>\n",
       "    <tr>\n",
       "      <th>std</th>\n",
       "      <td>5.008357</td>\n",
       "      <td>1.718946</td>\n",
       "      <td>1151.691744</td>\n",
       "      <td>18.710496</td>\n",
       "      <td>1.407888</td>\n",
       "      <td>6.320184e+04</td>\n",
       "    </tr>\n",
       "    <tr>\n",
       "      <th>min</th>\n",
       "      <td>0.600000</td>\n",
       "      <td>0.000000</td>\n",
       "      <td>1.000000</td>\n",
       "      <td>3.000000</td>\n",
       "      <td>1.100000</td>\n",
       "      <td>5.000000e+00</td>\n",
       "    </tr>\n",
       "    <tr>\n",
       "      <th>25%</th>\n",
       "      <td>0.665000</td>\n",
       "      <td>4.900000</td>\n",
       "      <td>2.000000</td>\n",
       "      <td>84.000000</td>\n",
       "      <td>4.900000</td>\n",
       "      <td>9.700000e+01</td>\n",
       "    </tr>\n",
       "    <tr>\n",
       "      <th>50%</th>\n",
       "      <td>1.787000</td>\n",
       "      <td>5.900000</td>\n",
       "      <td>8.000000</td>\n",
       "      <td>91.000000</td>\n",
       "      <td>6.000000</td>\n",
       "      <td>4.220000e+02</td>\n",
       "    </tr>\n",
       "    <tr>\n",
       "      <th>75%</th>\n",
       "      <td>5.774750</td>\n",
       "      <td>6.800000</td>\n",
       "      <td>55.000000</td>\n",
       "      <td>101.000000</td>\n",
       "      <td>6.900000</td>\n",
       "      <td>2.889250e+03</td>\n",
       "    </tr>\n",
       "    <tr>\n",
       "      <th>max</th>\n",
       "      <td>80.773000</td>\n",
       "      <td>10.000000</td>\n",
       "      <td>22186.000000</td>\n",
       "      <td>724.000000</td>\n",
       "      <td>9.800000</td>\n",
       "      <td>1.841066e+06</td>\n",
       "    </tr>\n",
       "  </tbody>\n",
       "</table>\n",
       "</div>"
      ],
      "text/plain": [
       "         popularity  vote_average    vote_count  runtime_minutes  \\\n",
       "count  16402.000000  16402.000000  16402.000000     16402.000000   \n",
       "mean       3.888187      5.731478    283.187050        93.605597   \n",
       "std        5.008357      1.718946   1151.691744        18.710496   \n",
       "min        0.600000      0.000000      1.000000         3.000000   \n",
       "25%        0.665000      4.900000      2.000000        84.000000   \n",
       "50%        1.787000      5.900000      8.000000        91.000000   \n",
       "75%        5.774750      6.800000     55.000000       101.000000   \n",
       "max       80.773000     10.000000  22186.000000       724.000000   \n",
       "\n",
       "       averagerating      numvotes  \n",
       "count   16402.000000  1.640200e+04  \n",
       "mean        5.848488  1.496057e+04  \n",
       "std         1.407888  6.320184e+04  \n",
       "min         1.100000  5.000000e+00  \n",
       "25%         4.900000  9.700000e+01  \n",
       "50%         6.000000  4.220000e+02  \n",
       "75%         6.900000  2.889250e+03  \n",
       "max         9.800000  1.841066e+06  "
      ]
     },
     "execution_count": 11,
     "metadata": {},
     "output_type": "execute_result"
    }
   ],
   "source": [
    "merged_data.describe()"
   ]
  },
  {
   "cell_type": "code",
   "execution_count": 18,
   "metadata": {},
   "outputs": [
    {
     "data": {
      "text/plain": [
       "<AxesSubplot:xlabel='popularity', ylabel='Count'>"
      ]
     },
     "execution_count": 18,
     "metadata": {},
     "output_type": "execute_result"
    },
    {
     "data": {
      "image/png": "[encoded data removed]",
      "text/plain": [
       "<Figure size 432x288 with 1 Axes>"
      ]
     },
     "metadata": {
      "needs_background": "light"
     },
     "output_type": "display_data"
    }
   ],
   "source": [
    "sns.histplot(merged_data['popularity'])\n",
    "sns.scatterplot(x='popularity', y='vote_count', data=merged_data)\n",
    "\n"
   ]
  },
  {
   "cell_type": "code",
   "execution_count": 20,
   "metadata": {},
   "outputs": [
    {
     "data": {
      "text/plain": [
       "<AxesSubplot:xlabel='release_year', ylabel='count'>"
      ]
     },
     "execution_count": 20,
     "metadata": {},
     "output_type": "execute_result"
    },
    {
     "data": {
      "image/png": "[encoded data removed]",
      "text/plain": [
       "<Figure size 432x288 with 1 Axes>"
      ]
     },
     "metadata": {
      "needs_background": "light"
     },
     "output_type": "display_data"
    }
   ],
   "source": [
    "merged_data['release_date'] = pd.to_datetime(merged_data['release_date'])\n",
    "merged_data['release_year'] = merged_data['release_date'].dt.year\n",
    "sns.lineplot(x='release_year', y='averagerating', data=merged_data)\n",
    "sns.countplot(x='release_year', data=merged_data)\n"
   ]
  },
  {
   "cell_type": "code",
   "execution_count": 22,
   "metadata": {},
   "outputs": [],
   "source": [
    "df2 = pd.read_csv(\"cleaned_gross_budget.csv\")"
   ]
  },
  {
   "cell_type": "code",
   "execution_count": 23,
   "metadata": {},
   "outputs": [
    {
     "data": {
      "text/html": [
       "<div>\n",
       "<style scoped>\n",
       "    .dataframe tbody tr th:only-of-type {\n",
       "        vertical-align: middle;\n",
       "    }\n",
       "\n",
       "    .dataframe tbody tr th {\n",
       "        vertical-align: top;\n",
       "    }\n",
       "\n",
       "    .dataframe thead th {\n",
       "        text-align: right;\n",
       "    }\n",
       "</style>\n",
       "<table border=\"1\" class=\"dataframe\">\n",
       "  <thead>\n",
       "    <tr style=\"text-align: right;\">\n",
       "      <th></th>\n",
       "      <th>movie</th>\n",
       "      <th>studio</th>\n",
       "      <th>foreign_gross</th>\n",
       "      <th>release_date</th>\n",
       "      <th>production_budget</th>\n",
       "      <th>domestic_gross</th>\n",
       "      <th>worldwide_gross</th>\n",
       "    </tr>\n",
       "  </thead>\n",
       "  <tbody>\n",
       "    <tr>\n",
       "      <th>0</th>\n",
       "      <td>Toy Story 3</td>\n",
       "      <td>BV</td>\n",
       "      <td>652000000.0</td>\n",
       "      <td>Jun 18, 2010</td>\n",
       "      <td>200000000.0</td>\n",
       "      <td>415004880.0</td>\n",
       "      <td>1.068880e+09</td>\n",
       "    </tr>\n",
       "    <tr>\n",
       "      <th>1</th>\n",
       "      <td>Inception</td>\n",
       "      <td>WB</td>\n",
       "      <td>535700000.0</td>\n",
       "      <td>Jul 16, 2010</td>\n",
       "      <td>160000000.0</td>\n",
       "      <td>292576195.0</td>\n",
       "      <td>8.355246e+08</td>\n",
       "    </tr>\n",
       "    <tr>\n",
       "      <th>2</th>\n",
       "      <td>Shrek Forever After</td>\n",
       "      <td>P/DW</td>\n",
       "      <td>513900000.0</td>\n",
       "      <td>May 21, 2010</td>\n",
       "      <td>165000000.0</td>\n",
       "      <td>238736787.0</td>\n",
       "      <td>7.562447e+08</td>\n",
       "    </tr>\n",
       "    <tr>\n",
       "      <th>3</th>\n",
       "      <td>The Twilight Saga: Eclipse</td>\n",
       "      <td>Sum.</td>\n",
       "      <td>398000000.0</td>\n",
       "      <td>Jun 30, 2010</td>\n",
       "      <td>68000000.0</td>\n",
       "      <td>300531751.0</td>\n",
       "      <td>7.061028e+08</td>\n",
       "    </tr>\n",
       "    <tr>\n",
       "      <th>4</th>\n",
       "      <td>Iron Man 2</td>\n",
       "      <td>Par.</td>\n",
       "      <td>311500000.0</td>\n",
       "      <td>May 7, 2010</td>\n",
       "      <td>170000000.0</td>\n",
       "      <td>312433331.0</td>\n",
       "      <td>6.211564e+08</td>\n",
       "    </tr>\n",
       "  </tbody>\n",
       "</table>\n",
       "</div>"
      ],
      "text/plain": [
       "                        movie studio  foreign_gross  release_date  \\\n",
       "0                 Toy Story 3     BV    652000000.0  Jun 18, 2010   \n",
       "1                   Inception     WB    535700000.0  Jul 16, 2010   \n",
       "2         Shrek Forever After   P/DW    513900000.0  May 21, 2010   \n",
       "3  The Twilight Saga: Eclipse   Sum.    398000000.0  Jun 30, 2010   \n",
       "4                  Iron Man 2   Par.    311500000.0   May 7, 2010   \n",
       "\n",
       "   production_budget  domestic_gross  worldwide_gross  \n",
       "0        200000000.0     415004880.0     1.068880e+09  \n",
       "1        160000000.0     292576195.0     8.355246e+08  \n",
       "2        165000000.0     238736787.0     7.562447e+08  \n",
       "3         68000000.0     300531751.0     7.061028e+08  \n",
       "4        170000000.0     312433331.0     6.211564e+08  "
      ]
     },
     "execution_count": 23,
     "metadata": {},
     "output_type": "execute_result"
    }
   ],
   "source": [
    "df2.head()"
   ]
  },
  {
   "cell_type": "code",
   "execution_count": 24,
   "metadata": {},
   "outputs": [
    {
     "data": {
      "text/plain": [
       "Index(['movie', 'studio', 'foreign_gross', 'release_date', 'production_budget',\n",
       "       'domestic_gross', 'worldwide_gross'],\n",
       "      dtype='object')"
      ]
     },
     "execution_count": 24,
     "metadata": {},
     "output_type": "execute_result"
    }
   ],
   "source": [
    "df2.columns"
   ]
  },
  {
   "cell_type": "markdown",
   "metadata": {},
   "source": [
    "DATA ANALYSIS"
   ]
  },
  {
   "cell_type": "markdown",
   "metadata": {},
   "source": [
    "OBJECTIVE 2:  Identify which type of film is profitable"
   ]
  },
  {
   "cell_type": "markdown",
   "metadata": {},
   "source": [
    "1. **How does the production budget relate to the domestic and worldwide gross revenue?**\n",
    "\n",
    "Explore the correlation between production budget and earnings to identify films that generate higher returns on investment.\n",
    "\n",
    "2. **What is the profitability of films over different release periods?**\n",
    "\n",
    "Analyze how the release date affects movie profits, including seasonality trends (e.g., summer blockbusters).\n",
    "\n",
    "3. **Which movie studios consistently produce profitable films?**\n",
    "\n",
    "Compare the gross earnings of films released by different studios to identify trends in profitability based on the studio."
   ]
  },
  {
   "cell_type": "markdown",
   "metadata": {},
   "source": [
    "Scatter Plot:\n",
    "\n",
    "How does the productions budget ralate to the domestic and worldwide gross revenue"
   ]
  },
  {
   "cell_type": "code",
   "execution_count": 26,
   "metadata": {},
   "outputs": [
    {
     "data": {
      "image/png": "[encoded data removed]",
      "text/plain": [
       "<Figure size 432x288 with 1 Axes>"
      ]
     },
     "metadata": {
      "needs_background": "light"
     },
     "output_type": "display_data"
    },
    {
     "data": {
      "image/png": "[encoded data removed]",
      "text/plain": [
       "<Figure size 432x288 with 1 Axes>"
      ]
     },
     "metadata": {
      "needs_background": "light"
     },
     "output_type": "display_data"
    }
   ],
   "source": [
    "#How does the productions budget ralate to the domestic and worldwide gross revenue\n",
    "\n",
    "import matplotlib.pyplot as plt\n",
    "\n",
    "# Scatter plot for Production Budget vs Domestic Gross\n",
    "plt.scatter(df2['production_budget'], df2['domestic_gross'], alpha=0.5)\n",
    "plt.title('Production Budget vs Domestic Gross')\n",
    "plt.xlabel('Production Budget ($)')\n",
    "plt.ylabel('Domestic Gross ($)')\n",
    "plt.show()\n",
    "\n",
    "# Scatter plot for Production Budget vs Worldwide Gross\n",
    "plt.scatter(df2['production_budget'], df2['worldwide_gross'], alpha=0.5, color='r')\n",
    "plt.title('Production Budget vs Worldwide Gross')\n",
    "plt.xlabel('Production Budget ($)')\n",
    "plt.ylabel('Worldwide Gross ($)')\n",
    "plt.show()\n"
   ]
  },
  {
   "cell_type": "markdown",
   "metadata": {},
   "source": [
    "Correlation Analysis"
   ]
  },
  {
   "cell_type": "code",
   "execution_count": 28,
   "metadata": {},
   "outputs": [
    {
     "name": "stdout",
     "output_type": "stream",
     "text": [
      "Correlation between Production Budget and Domestic Gross: 0.6744277885879324\n",
      "Correlation between Production Budget and Worldwide Gross: 0.7669256443309962\n"
     ]
    }
   ],
   "source": [
    "correlation_domestic = df2['production_budget'].corr(df2['domestic_gross'])\n",
    "correlation_worldwide = df2['production_budget'].corr(df2['worldwide_gross'])\n",
    "\n",
    "print(f\"Correlation between Production Budget and Domestic Gross: {correlation_domestic}\")\n",
    "print(f\"Correlation between Production Budget and Worldwide Gross: {correlation_worldwide}\")\n"
   ]
  },
  {
   "cell_type": "markdown",
   "metadata": {},
   "source": [
    "Profitability Metric (Return on Investment)"
   ]
  },
  {
   "cell_type": "code",
   "execution_count": 30,
   "metadata": {},
   "outputs": [
    {
     "data": {
      "image/png": "[encoded data removed]",
      "text/plain": [
       "<Figure size 432x288 with 1 Axes>"
      ]
     },
     "metadata": {
      "needs_background": "light"
     },
     "output_type": "display_data"
    }
   ],
   "source": [
    "df2['roi_worldwide'] = (df2['worldwide_gross'] - df2['production_budget']) / df2['production_budget']\n",
    "df2['roi_domestic'] = (df2['domestic_gross'] - df2['production_budget']) / df2['production_budget']\n",
    "\n",
    "# Plot ROI\n",
    "plt.hist(df2['roi_worldwide'], bins=20, alpha=0.5, label='Worldwide ROI')\n",
    "plt.hist(df2['roi_domestic'], bins=20, alpha=0.5, label='Domestic ROI')\n",
    "plt.title('Distribution of ROI')\n",
    "plt.xlabel('Return on Investment')\n",
    "plt.ylabel('Frequency')\n",
    "plt.legend()\n",
    "plt.show()\n"
   ]
  },
  {
   "cell_type": "markdown",
   "metadata": {},
   "source": [
    "**What is the profitability of films over different release periods?**"
   ]
  },
  {
   "cell_type": "markdown",
   "metadata": {},
   "source": [
    "Profitability by genre and Studio"
   ]
  },
  {
   "cell_type": "code",
   "execution_count": 34,
   "metadata": {},
   "outputs": [
    {
     "data": {
      "image/png": "[encoded data removed]",
      "text/plain": [
       "<Figure size 864x432 with 1 Axes>"
      ]
     },
     "metadata": {
      "needs_background": "light"
     },
     "output_type": "display_data"
    },
    {
     "data": {
      "image/png": "[encoded data removed]",
      "text/plain": [
       "<Figure size 864x432 with 1 Axes>"
      ]
     },
     "metadata": {
      "needs_background": "light"
     },
     "output_type": "display_data"
    }
   ],
   "source": [
    "# Top 10 studios by profitability\n",
    "top_studios = df2.groupby('studio')['profitability'].sum().nlargest(10).index\n",
    "df2['studio_grouped'] = df2['studio'].apply(lambda x: x if x in top_studios else 'Other')\n",
    "\n",
    "# 1. Profitability by grouped Studio\n",
    "plt.figure(figsize=(12,6))\n",
    "sns.boxplot(data=df2, x='studio_grouped', y='profitability')\n",
    "plt.title('Profitability by Studio (Top 10 + Other)')\n",
    "plt.xticks(rotation=90)\n",
    "plt.show()\n",
    "\n",
    "# 2. ROI by grouped Studio\n",
    "df2['ROI'] = df2['profitability'] / df2['production_budget']\n",
    "plt.figure(figsize=(12,6))\n",
    "sns.boxplot(data=df2, x='studio_grouped', y='ROI')\n",
    "plt.title('ROI by Studio (Top 10 + Other)')\n",
    "plt.xticks(rotation=90)\n",
    "plt.show()\n",
    "\n"
   ]
  },
  {
   "cell_type": "code",
   "execution_count": 35,
   "metadata": {},
   "outputs": [
    {
     "data": {
      "image/png": "[encoded data removed]",
      "text/plain": [
       "<Figure size 864x432 with 1 Axes>"
      ]
     },
     "metadata": {
      "needs_background": "light"
     },
     "output_type": "display_data"
    }
   ],
   "source": [
    "# 1. Count the number of films per studio\n",
    "top_studios = df2['studio'].value_counts().head(10).index\n",
    "\n",
    "# 2. Filter the dataframe to include only top studios\n",
    "df2_top_studios = df2[df2['studio'].isin(top_studios)]\n",
    "\n",
    "# 3. Profitability visualization for top studios\n",
    "plt.figure(figsize=(12,6))\n",
    "sns.boxplot(data=df2_top_studios, x='studio', y='profitability')\n",
    "plt.title('Profitability by Top Studios')\n",
    "plt.xticks(rotation=45)\n",
    "plt.show()\n"
   ]
  },
  {
   "cell_type": "code",
   "execution_count": 39,
   "metadata": {},
   "outputs": [
    {
     "data": {
      "text/plain": [
       "Index(['movie', 'studio', 'foreign_gross', 'release_date', 'production_budget',\n",
       "       'domestic_gross', 'worldwide_gross', 'roi_worldwide', 'roi_domestic',\n",
       "       'profitability', 'ROI', 'studio_grouped'],\n",
       "      dtype='object')"
      ]
     },
     "execution_count": 39,
     "metadata": {},
     "output_type": "execute_result"
    }
   ],
   "source": [
    "df2.columns"
   ]
  },
  {
   "cell_type": "code",
   "execution_count": 40,
   "metadata": {},
   "outputs": [
    {
     "name": "stdout",
     "output_type": "stream",
     "text": [
      "     original_language              original_title  popularity release_date_x  \\\n",
      "0                   en    How to Train Your Dragon      28.734     2010-03-26   \n",
      "1                   en                  Iron Man 2      28.515     2010-05-07   \n",
      "2                   en                   Inception      27.920     2010-07-16   \n",
      "3                   en                 Toy Story 3      24.445     2010-06-17   \n",
      "4                   en               Despicable Me      23.673     2010-07-09   \n",
      "...                ...                         ...         ...            ...   \n",
      "1239                en     Paul, Apostle of Christ      12.005     2018-03-28   \n",
      "1240                en          The 15:17 to Paris      11.576     2018-02-09   \n",
      "1241                en                  Uncle Drew      10.836     2018-06-29   \n",
      "1242                en                  Proud Mary       9.371     2018-01-12   \n",
      "1243                en  Bilal: A New Breed of Hero       2.707     2018-02-02   \n",
      "\n",
      "      vote_average  vote_count  runtime_minutes                      genres  \\\n",
      "0              7.7        7610             98.0  Action,Adventure,Animation   \n",
      "1              6.8       12368            124.0     Action,Adventure,Sci-Fi   \n",
      "2              8.3       22186            148.0     Action,Adventure,Sci-Fi   \n",
      "3              7.7        8340            103.0  Adventure,Animation,Comedy   \n",
      "4              7.2       10057             95.0     Animation,Comedy,Family   \n",
      "...            ...         ...              ...                         ...   \n",
      "1239           7.1          98            108.0   Adventure,Biography,Drama   \n",
      "1240           5.3         799             94.0    Biography,Drama,Thriller   \n",
      "1241           6.5         220            103.0                Comedy,Sport   \n",
      "1242           5.5         259             89.0          Action,Crime,Drama   \n",
      "1243           6.8          54            105.0  Action,Adventure,Animation   \n",
      "\n",
      "      averagerating  numvotes  ...  foreign_gross release_date_y  \\\n",
      "0               8.1    611299  ...    277300000.0   Mar 26, 2010   \n",
      "1               7.0    657690  ...    311500000.0    May 7, 2010   \n",
      "2               8.8   1841066  ...    535700000.0   Jul 16, 2010   \n",
      "3               8.3    682218  ...    652000000.0   Jun 18, 2010   \n",
      "4               7.7    464511  ...    291600000.0    Jul 9, 2010   \n",
      "...             ...       ...  ...            ...            ...   \n",
      "1239            6.7      5662  ...      5500000.0   Mar 23, 2018   \n",
      "1240            5.2     21880  ...     20800000.0    Feb 9, 2018   \n",
      "1241            5.7      9739  ...      4200000.0   Jun 29, 2018   \n",
      "1242            4.9      6805  ...       876000.0   Jan 12, 2018   \n",
      "1243            8.0     16854  ...      1700000.0    Feb 2, 2018   \n",
      "\n",
      "     production_budget  domestic_gross worldwide_gross  roi_worldwide  \\\n",
      "0          165000000.0     217581232.0    4.948710e+08       1.999218   \n",
      "1          170000000.0     312433331.0    6.211564e+08       2.653861   \n",
      "2          160000000.0     292576195.0    8.355246e+08       4.222029   \n",
      "3          200000000.0     415004880.0    1.068880e+09       4.344398   \n",
      "4           69000000.0     251513985.0    5.434646e+08       6.876298   \n",
      "...                ...             ...             ...            ...   \n",
      "1239         5000000.0      17547999.0    2.552950e+07       4.105900   \n",
      "1240        30000000.0      36276286.0    5.609620e+07       0.869873   \n",
      "1241        18000000.0      42469946.0    4.652716e+07       1.584842   \n",
      "1242        30000000.0      20868638.0    2.170954e+07      -0.276349   \n",
      "1243        30000000.0        490973.0    6.485990e+05      -0.978380   \n",
      "\n",
      "      roi_domestic  profitability       ROI  studio_grouped  \n",
      "0         0.318674    329870992.0  1.999218            P/DW  \n",
      "1         0.837843    451156389.0  2.653861            Par.  \n",
      "2         0.828601    675524642.0  4.222029              WB  \n",
      "3         1.075024    868879522.0  4.344398              BV  \n",
      "4         2.645130    474464573.0  6.876298            Uni.  \n",
      "...            ...            ...       ...             ...  \n",
      "1239      2.509600     20529498.0  4.105900           Other  \n",
      "1240      0.209210     26096200.0  0.869873              WB  \n",
      "1241      1.359441     28527161.0  1.584842            LG/S  \n",
      "1242     -0.304379     -8290461.0 -0.276349           Other  \n",
      "1243     -0.983634    -29351401.0 -0.978380           Other  \n",
      "\n",
      "[1244 rows x 23 columns]\n"
     ]
    }
   ],
   "source": [
    "# Merge the dataframes based on matching titles\n",
    "merged_df = pd.merge(merged_data, df2, left_on='original_title', right_on='movie', how='inner')\n",
    "\n",
    "# Display the merged dataframe\n",
    "print(merged_df)\n"
   ]
  },
  {
   "cell_type": "code",
   "execution_count": 41,
   "metadata": {},
   "outputs": [
    {
     "data": {
      "text/html": [
       "<div>\n",
       "<style scoped>\n",
       "    .dataframe tbody tr th:only-of-type {\n",
       "        vertical-align: middle;\n",
       "    }\n",
       "\n",
       "    .dataframe tbody tr th {\n",
       "        vertical-align: top;\n",
       "    }\n",
       "\n",
       "    .dataframe thead th {\n",
       "        text-align: right;\n",
       "    }\n",
       "</style>\n",
       "<table border=\"1\" class=\"dataframe\">\n",
       "  <thead>\n",
       "    <tr style=\"text-align: right;\">\n",
       "      <th></th>\n",
       "      <th>original_language</th>\n",
       "      <th>original_title</th>\n",
       "      <th>popularity</th>\n",
       "      <th>release_date_x</th>\n",
       "      <th>vote_average</th>\n",
       "      <th>vote_count</th>\n",
       "      <th>runtime_minutes</th>\n",
       "      <th>genres</th>\n",
       "      <th>averagerating</th>\n",
       "      <th>numvotes</th>\n",
       "      <th>...</th>\n",
       "      <th>foreign_gross</th>\n",
       "      <th>release_date_y</th>\n",
       "      <th>production_budget</th>\n",
       "      <th>domestic_gross</th>\n",
       "      <th>worldwide_gross</th>\n",
       "      <th>roi_worldwide</th>\n",
       "      <th>roi_domestic</th>\n",
       "      <th>profitability</th>\n",
       "      <th>ROI</th>\n",
       "      <th>studio_grouped</th>\n",
       "    </tr>\n",
       "  </thead>\n",
       "  <tbody>\n",
       "    <tr>\n",
       "      <th>0</th>\n",
       "      <td>en</td>\n",
       "      <td>How to Train Your Dragon</td>\n",
       "      <td>28.734</td>\n",
       "      <td>2010-03-26</td>\n",
       "      <td>7.7</td>\n",
       "      <td>7610</td>\n",
       "      <td>98.0</td>\n",
       "      <td>Action,Adventure,Animation</td>\n",
       "      <td>8.1</td>\n",
       "      <td>611299</td>\n",
       "      <td>...</td>\n",
       "      <td>277300000.0</td>\n",
       "      <td>Mar 26, 2010</td>\n",
       "      <td>165000000.0</td>\n",
       "      <td>217581232.0</td>\n",
       "      <td>4.948710e+08</td>\n",
       "      <td>1.999218</td>\n",
       "      <td>0.318674</td>\n",
       "      <td>329870992.0</td>\n",
       "      <td>1.999218</td>\n",
       "      <td>P/DW</td>\n",
       "    </tr>\n",
       "    <tr>\n",
       "      <th>1</th>\n",
       "      <td>en</td>\n",
       "      <td>Iron Man 2</td>\n",
       "      <td>28.515</td>\n",
       "      <td>2010-05-07</td>\n",
       "      <td>6.8</td>\n",
       "      <td>12368</td>\n",
       "      <td>124.0</td>\n",
       "      <td>Action,Adventure,Sci-Fi</td>\n",
       "      <td>7.0</td>\n",
       "      <td>657690</td>\n",
       "      <td>...</td>\n",
       "      <td>311500000.0</td>\n",
       "      <td>May 7, 2010</td>\n",
       "      <td>170000000.0</td>\n",
       "      <td>312433331.0</td>\n",
       "      <td>6.211564e+08</td>\n",
       "      <td>2.653861</td>\n",
       "      <td>0.837843</td>\n",
       "      <td>451156389.0</td>\n",
       "      <td>2.653861</td>\n",
       "      <td>Par.</td>\n",
       "    </tr>\n",
       "    <tr>\n",
       "      <th>2</th>\n",
       "      <td>en</td>\n",
       "      <td>Inception</td>\n",
       "      <td>27.920</td>\n",
       "      <td>2010-07-16</td>\n",
       "      <td>8.3</td>\n",
       "      <td>22186</td>\n",
       "      <td>148.0</td>\n",
       "      <td>Action,Adventure,Sci-Fi</td>\n",
       "      <td>8.8</td>\n",
       "      <td>1841066</td>\n",
       "      <td>...</td>\n",
       "      <td>535700000.0</td>\n",
       "      <td>Jul 16, 2010</td>\n",
       "      <td>160000000.0</td>\n",
       "      <td>292576195.0</td>\n",
       "      <td>8.355246e+08</td>\n",
       "      <td>4.222029</td>\n",
       "      <td>0.828601</td>\n",
       "      <td>675524642.0</td>\n",
       "      <td>4.222029</td>\n",
       "      <td>WB</td>\n",
       "    </tr>\n",
       "    <tr>\n",
       "      <th>3</th>\n",
       "      <td>en</td>\n",
       "      <td>Toy Story 3</td>\n",
       "      <td>24.445</td>\n",
       "      <td>2010-06-17</td>\n",
       "      <td>7.7</td>\n",
       "      <td>8340</td>\n",
       "      <td>103.0</td>\n",
       "      <td>Adventure,Animation,Comedy</td>\n",
       "      <td>8.3</td>\n",
       "      <td>682218</td>\n",
       "      <td>...</td>\n",
       "      <td>652000000.0</td>\n",
       "      <td>Jun 18, 2010</td>\n",
       "      <td>200000000.0</td>\n",
       "      <td>415004880.0</td>\n",
       "      <td>1.068880e+09</td>\n",
       "      <td>4.344398</td>\n",
       "      <td>1.075024</td>\n",
       "      <td>868879522.0</td>\n",
       "      <td>4.344398</td>\n",
       "      <td>BV</td>\n",
       "    </tr>\n",
       "    <tr>\n",
       "      <th>4</th>\n",
       "      <td>en</td>\n",
       "      <td>Despicable Me</td>\n",
       "      <td>23.673</td>\n",
       "      <td>2010-07-09</td>\n",
       "      <td>7.2</td>\n",
       "      <td>10057</td>\n",
       "      <td>95.0</td>\n",
       "      <td>Animation,Comedy,Family</td>\n",
       "      <td>7.7</td>\n",
       "      <td>464511</td>\n",
       "      <td>...</td>\n",
       "      <td>291600000.0</td>\n",
       "      <td>Jul 9, 2010</td>\n",
       "      <td>69000000.0</td>\n",
       "      <td>251513985.0</td>\n",
       "      <td>5.434646e+08</td>\n",
       "      <td>6.876298</td>\n",
       "      <td>2.645130</td>\n",
       "      <td>474464573.0</td>\n",
       "      <td>6.876298</td>\n",
       "      <td>Uni.</td>\n",
       "    </tr>\n",
       "  </tbody>\n",
       "</table>\n",
       "<p>5 rows × 23 columns</p>\n",
       "</div>"
      ],
      "text/plain": [
       "  original_language            original_title  popularity release_date_x  \\\n",
       "0                en  How to Train Your Dragon      28.734     2010-03-26   \n",
       "1                en                Iron Man 2      28.515     2010-05-07   \n",
       "2                en                 Inception      27.920     2010-07-16   \n",
       "3                en               Toy Story 3      24.445     2010-06-17   \n",
       "4                en             Despicable Me      23.673     2010-07-09   \n",
       "\n",
       "   vote_average  vote_count  runtime_minutes                      genres  \\\n",
       "0           7.7        7610             98.0  Action,Adventure,Animation   \n",
       "1           6.8       12368            124.0     Action,Adventure,Sci-Fi   \n",
       "2           8.3       22186            148.0     Action,Adventure,Sci-Fi   \n",
       "3           7.7        8340            103.0  Adventure,Animation,Comedy   \n",
       "4           7.2       10057             95.0     Animation,Comedy,Family   \n",
       "\n",
       "   averagerating  numvotes  ...  foreign_gross release_date_y  \\\n",
       "0            8.1    611299  ...    277300000.0   Mar 26, 2010   \n",
       "1            7.0    657690  ...    311500000.0    May 7, 2010   \n",
       "2            8.8   1841066  ...    535700000.0   Jul 16, 2010   \n",
       "3            8.3    682218  ...    652000000.0   Jun 18, 2010   \n",
       "4            7.7    464511  ...    291600000.0    Jul 9, 2010   \n",
       "\n",
       "  production_budget  domestic_gross worldwide_gross  roi_worldwide  \\\n",
       "0       165000000.0     217581232.0    4.948710e+08       1.999218   \n",
       "1       170000000.0     312433331.0    6.211564e+08       2.653861   \n",
       "2       160000000.0     292576195.0    8.355246e+08       4.222029   \n",
       "3       200000000.0     415004880.0    1.068880e+09       4.344398   \n",
       "4        69000000.0     251513985.0    5.434646e+08       6.876298   \n",
       "\n",
       "   roi_domestic  profitability       ROI  studio_grouped  \n",
       "0      0.318674    329870992.0  1.999218            P/DW  \n",
       "1      0.837843    451156389.0  2.653861            Par.  \n",
       "2      0.828601    675524642.0  4.222029              WB  \n",
       "3      1.075024    868879522.0  4.344398              BV  \n",
       "4      2.645130    474464573.0  6.876298            Uni.  \n",
       "\n",
       "[5 rows x 23 columns]"
      ]
     },
     "execution_count": 41,
     "metadata": {},
     "output_type": "execute_result"
    }
   ],
   "source": [
    "merged_df.head()"
   ]
  },
  {
   "cell_type": "code",
   "execution_count": 45,
   "metadata": {},
   "outputs": [
    {
     "data": {
      "image/png": "[encoded data removed]",
      "text/plain": [
       "<Figure size 720x432 with 1 Axes>"
      ]
     },
     "metadata": {
      "needs_background": "light"
     },
     "output_type": "display_data"
    },
    {
     "data": {
      "image/png": "[encoded data removed]",
      "text/plain": [
       "<Figure size 864x432 with 1 Axes>"
      ]
     },
     "metadata": {
      "needs_background": "light"
     },
     "output_type": "display_data"
    },
    {
     "data": {
      "image/png": "[encoded data removed]",
      "text/plain": [
       "<Figure size 720x432 with 1 Axes>"
      ]
     },
     "metadata": {
      "needs_background": "light"
     },
     "output_type": "display_data"
    }
   ],
   "source": [
    "top_genres = merged_df.groupby('genres')['profitability'].median().nlargest(10).index\n",
    "plt.figure(figsize=(10,6))\n",
    "sns.boxplot(data=merged_df[merged_df['genres'].isin(top_genres)], x='genres', y='profitability')\n",
    "plt.title('Profitability by Top 10 Genres')\n",
    "plt.xticks(rotation=90)\n",
    "plt.show()\n",
    "\n",
    "top_studios = merged_df.groupby('studio')['profitability'].median().nlargest(10).index\n",
    "plt.figure(figsize=(12,6))\n",
    "sns.boxplot(data=merged_df[merged_df['studio'].isin(top_studios)], x='studio', y='profitability')\n",
    "plt.title('Profitability by Top 10 Studios')\n",
    "plt.xticks(rotation=90)\n",
    "plt.show()\n",
    "\n",
    "merged_df['ROI'] = merged_df['profitability'] / merged_df['production_budget']\n",
    "top_roi_genres = merged_df.groupby('genres')['ROI'].median().nlargest(10).index\n",
    "plt.figure(figsize=(10,6))\n",
    "sns.boxplot(data=merged_df[merged_df['genres'].isin(top_roi_genres)], x='genres', y='ROI')\n",
    "plt.title('ROI by Top 10 Genres')\n",
    "plt.xticks(rotation=90)\n",
    "plt.show()\n",
    "\n",
    "\n"
   ]
  }
 ],
 "metadata": {
  "kernelspec": {
   "display_name": "learn-env",
   "language": "python",
   "name": "python3"
  },
  "language_info": {
   "codemirror_mode": {
    "name": "ipython",
    "version": 3
   },
   "file_extension": ".py",
   "mimetype": "text/x-python",
   "name": "python",
   "nbconvert_exporter": "python",
   "pygments_lexer": "ipython3",
   "version": "3.8.5"
  }
 },
 "nbformat": 4,
 "nbformat_minor": 2
}
