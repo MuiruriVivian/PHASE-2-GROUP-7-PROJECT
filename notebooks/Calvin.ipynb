{
 "cells": [
  {
   "cell_type": "markdown",
   "metadata": {},
   "source": [
    "**Objective 2:  Identify which type of film is profitable**"
   ]
  },
  {
   "cell_type": "code",
   "execution_count": 62,
   "id": "6ed55ff2",
   "metadata": {},
   "outputs": [],
   "source": [
    "import itertools\n",
    "import numpy as np\n",
    "import pandas as pd \n",
    "from numbers import Number\n",
    "import sqlite3\n",
    "from scipy import stats\n",
    "import matplotlib.pyplot as plt\n",
    "import seaborn as sns\n",
    "import warnings\n",
    "warnings.filterwarnings('ignore')\n",
    "from collections import Counter\n",
    "from collections import defaultdict\n",
    "\n",
    "import pickle"
   ]
  },
  {
   "cell_type": "code",
   "execution_count": 5,
   "metadata": {},
   "outputs": [],
   "source": [
    "merged_data = pd.read_csv(\"cleaned_merged_data.csv\")"
   ]
  },
  {
   "cell_type": "code",
   "execution_count": 71,
   "id": "cfff74f1",
   "metadata": {},
   "outputs": [
    {
     "data": {
      "text/html": [
       "<div>\n",
       "<style scoped>\n",
       "    .dataframe tbody tr th:only-of-type {\n",
       "        vertical-align: middle;\n",
       "    }\n",
       "\n",
       "    .dataframe tbody tr th {\n",
       "        vertical-align: top;\n",
       "    }\n",
       "\n",
       "    .dataframe thead th {\n",
       "        text-align: right;\n",
       "    }\n",
       "</style>\n",
       "<table border=\"1\" class=\"dataframe\">\n",
       "  <thead>\n",
       "    <tr style=\"text-align: right;\">\n",
       "      <th></th>\n",
       "      <th>original_language</th>\n",
       "      <th>original_title</th>\n",
       "      <th>popularity</th>\n",
       "      <th>release_date</th>\n",
       "      <th>vote_average</th>\n",
       "      <th>vote_count</th>\n",
       "      <th>runtime_minutes</th>\n",
       "      <th>genres</th>\n",
       "      <th>averagerating</th>\n",
       "      <th>numvotes</th>\n",
       "      <th>release_year</th>\n",
       "    </tr>\n",
       "  </thead>\n",
       "  <tbody>\n",
       "    <tr>\n",
       "      <th>0</th>\n",
       "      <td>en</td>\n",
       "      <td>Harry Potter and the Deathly Hallows: Part 1</td>\n",
       "      <td>33.533</td>\n",
       "      <td>2010-11-19</td>\n",
       "      <td>7.7</td>\n",
       "      <td>10788</td>\n",
       "      <td>146.0</td>\n",
       "      <td>Adventure,Fantasy,Mystery</td>\n",
       "      <td>7.7</td>\n",
       "      <td>425530</td>\n",
       "      <td>2010</td>\n",
       "    </tr>\n",
       "    <tr>\n",
       "      <th>1</th>\n",
       "      <td>en</td>\n",
       "      <td>How to Train Your Dragon</td>\n",
       "      <td>28.734</td>\n",
       "      <td>2010-03-26</td>\n",
       "      <td>7.7</td>\n",
       "      <td>7610</td>\n",
       "      <td>98.0</td>\n",
       "      <td>Action,Adventure,Animation</td>\n",
       "      <td>8.1</td>\n",
       "      <td>611299</td>\n",
       "      <td>2010</td>\n",
       "    </tr>\n",
       "    <tr>\n",
       "      <th>2</th>\n",
       "      <td>en</td>\n",
       "      <td>Iron Man 2</td>\n",
       "      <td>28.515</td>\n",
       "      <td>2010-05-07</td>\n",
       "      <td>6.8</td>\n",
       "      <td>12368</td>\n",
       "      <td>124.0</td>\n",
       "      <td>Action,Adventure,Sci-Fi</td>\n",
       "      <td>7.0</td>\n",
       "      <td>657690</td>\n",
       "      <td>2010</td>\n",
       "    </tr>\n",
       "    <tr>\n",
       "      <th>3</th>\n",
       "      <td>en</td>\n",
       "      <td>Inception</td>\n",
       "      <td>27.920</td>\n",
       "      <td>2010-07-16</td>\n",
       "      <td>8.3</td>\n",
       "      <td>22186</td>\n",
       "      <td>148.0</td>\n",
       "      <td>Action,Adventure,Sci-Fi</td>\n",
       "      <td>8.8</td>\n",
       "      <td>1841066</td>\n",
       "      <td>2010</td>\n",
       "    </tr>\n",
       "    <tr>\n",
       "      <th>4</th>\n",
       "      <td>en</td>\n",
       "      <td>Percy Jackson &amp; the Olympians: The Lightning T...</td>\n",
       "      <td>26.691</td>\n",
       "      <td>2010-02-11</td>\n",
       "      <td>6.1</td>\n",
       "      <td>4229</td>\n",
       "      <td>118.0</td>\n",
       "      <td>Adventure,Family,Fantasy</td>\n",
       "      <td>5.9</td>\n",
       "      <td>165108</td>\n",
       "      <td>2010</td>\n",
       "    </tr>\n",
       "  </tbody>\n",
       "</table>\n",
       "</div>"
      ],
      "text/plain": [
       "  original_language                                     original_title  \\\n",
       "0                en       Harry Potter and the Deathly Hallows: Part 1   \n",
       "1                en                           How to Train Your Dragon   \n",
       "2                en                                         Iron Man 2   \n",
       "3                en                                          Inception   \n",
       "4                en  Percy Jackson & the Olympians: The Lightning T...   \n",
       "\n",
       "   popularity release_date  vote_average  vote_count  runtime_minutes  \\\n",
       "0      33.533   2010-11-19           7.7       10788            146.0   \n",
       "1      28.734   2010-03-26           7.7        7610             98.0   \n",
       "2      28.515   2010-05-07           6.8       12368            124.0   \n",
       "3      27.920   2010-07-16           8.3       22186            148.0   \n",
       "4      26.691   2010-02-11           6.1        4229            118.0   \n",
       "\n",
       "                       genres  averagerating  numvotes  release_year  \n",
       "0   Adventure,Fantasy,Mystery            7.7    425530          2010  \n",
       "1  Action,Adventure,Animation            8.1    611299          2010  \n",
       "2     Action,Adventure,Sci-Fi            7.0    657690          2010  \n",
       "3     Action,Adventure,Sci-Fi            8.8   1841066          2010  \n",
       "4    Adventure,Family,Fantasy            5.9    165108          2010  "
      ]
     },
     "execution_count": 71,
     "metadata": {},
     "output_type": "execute_result"
    }
   ],
   "source": [
    "merged_data.head()"
   ]
  },
  {
   "cell_type": "code",
   "execution_count": 28,
   "metadata": {},
   "outputs": [
    {
     "data": {
      "text/plain": [
       "Index(['original_language', 'original_title', 'popularity', 'release_date',\n",
       "       'vote_average', 'vote_count', 'runtime_minutes', 'genres',\n",
       "       'averagerating', 'numvotes', 'release_year'],\n",
       "      dtype='object')"
      ]
     },
     "execution_count": 28,
     "metadata": {},
     "output_type": "execute_result"
    }
   ],
   "source": [
    "merged_data.columns"
   ]
  },
  {
   "cell_type": "code",
   "execution_count": 7,
   "metadata": {},
   "outputs": [
    {
     "data": {
      "text/plain": [
       "(16402, 10)"
      ]
     },
     "execution_count": 7,
     "metadata": {},
     "output_type": "execute_result"
    }
   ],
   "source": [
    "merged_data.shape"
   ]
  },
  {
   "cell_type": "code",
   "execution_count": 8,
   "metadata": {},
   "outputs": [
    {
     "data": {
      "text/plain": [
       "original_language     object\n",
       "original_title        object\n",
       "popularity           float64\n",
       "release_date          object\n",
       "vote_average         float64\n",
       "vote_count             int64\n",
       "runtime_minutes      float64\n",
       "genres                object\n",
       "averagerating        float64\n",
       "numvotes               int64\n",
       "dtype: object"
      ]
     },
     "execution_count": 8,
     "metadata": {},
     "output_type": "execute_result"
    }
   ],
   "source": [
    "merged_data.dtypes"
   ]
  },
  {
   "cell_type": "code",
   "execution_count": 9,
   "metadata": {},
   "outputs": [
    {
     "data": {
      "text/html": [
       "<div>\n",
       "<style scoped>\n",
       "    .dataframe tbody tr th:only-of-type {\n",
       "        vertical-align: middle;\n",
       "    }\n",
       "\n",
       "    .dataframe tbody tr th {\n",
       "        vertical-align: top;\n",
       "    }\n",
       "\n",
       "    .dataframe thead th {\n",
       "        text-align: right;\n",
       "    }\n",
       "</style>\n",
       "<table border=\"1\" class=\"dataframe\">\n",
       "  <thead>\n",
       "    <tr style=\"text-align: right;\">\n",
       "      <th></th>\n",
       "      <th>popularity</th>\n",
       "      <th>vote_average</th>\n",
       "      <th>vote_count</th>\n",
       "      <th>runtime_minutes</th>\n",
       "      <th>averagerating</th>\n",
       "      <th>numvotes</th>\n",
       "    </tr>\n",
       "  </thead>\n",
       "  <tbody>\n",
       "    <tr>\n",
       "      <th>count</th>\n",
       "      <td>16402.000000</td>\n",
       "      <td>16402.000000</td>\n",
       "      <td>16402.000000</td>\n",
       "      <td>16402.000000</td>\n",
       "      <td>16402.000000</td>\n",
       "      <td>1.640200e+04</td>\n",
       "    </tr>\n",
       "    <tr>\n",
       "      <th>mean</th>\n",
       "      <td>3.888187</td>\n",
       "      <td>5.731478</td>\n",
       "      <td>283.187050</td>\n",
       "      <td>93.605597</td>\n",
       "      <td>5.848488</td>\n",
       "      <td>1.496057e+04</td>\n",
       "    </tr>\n",
       "    <tr>\n",
       "      <th>std</th>\n",
       "      <td>5.008357</td>\n",
       "      <td>1.718946</td>\n",
       "      <td>1151.691744</td>\n",
       "      <td>18.710496</td>\n",
       "      <td>1.407888</td>\n",
       "      <td>6.320184e+04</td>\n",
       "    </tr>\n",
       "    <tr>\n",
       "      <th>min</th>\n",
       "      <td>0.600000</td>\n",
       "      <td>0.000000</td>\n",
       "      <td>1.000000</td>\n",
       "      <td>3.000000</td>\n",
       "      <td>1.100000</td>\n",
       "      <td>5.000000e+00</td>\n",
       "    </tr>\n",
       "    <tr>\n",
       "      <th>25%</th>\n",
       "      <td>0.665000</td>\n",
       "      <td>4.900000</td>\n",
       "      <td>2.000000</td>\n",
       "      <td>84.000000</td>\n",
       "      <td>4.900000</td>\n",
       "      <td>9.700000e+01</td>\n",
       "    </tr>\n",
       "    <tr>\n",
       "      <th>50%</th>\n",
       "      <td>1.787000</td>\n",
       "      <td>5.900000</td>\n",
       "      <td>8.000000</td>\n",
       "      <td>91.000000</td>\n",
       "      <td>6.000000</td>\n",
       "      <td>4.220000e+02</td>\n",
       "    </tr>\n",
       "    <tr>\n",
       "      <th>75%</th>\n",
       "      <td>5.774750</td>\n",
       "      <td>6.800000</td>\n",
       "      <td>55.000000</td>\n",
       "      <td>101.000000</td>\n",
       "      <td>6.900000</td>\n",
       "      <td>2.889250e+03</td>\n",
       "    </tr>\n",
       "    <tr>\n",
       "      <th>max</th>\n",
       "      <td>80.773000</td>\n",
       "      <td>10.000000</td>\n",
       "      <td>22186.000000</td>\n",
       "      <td>724.000000</td>\n",
       "      <td>9.800000</td>\n",
       "      <td>1.841066e+06</td>\n",
       "    </tr>\n",
       "  </tbody>\n",
       "</table>\n",
       "</div>"
      ],
      "text/plain": [
       "         popularity  vote_average    vote_count  runtime_minutes  \\\n",
       "count  16402.000000  16402.000000  16402.000000     16402.000000   \n",
       "mean       3.888187      5.731478    283.187050        93.605597   \n",
       "std        5.008357      1.718946   1151.691744        18.710496   \n",
       "min        0.600000      0.000000      1.000000         3.000000   \n",
       "25%        0.665000      4.900000      2.000000        84.000000   \n",
       "50%        1.787000      5.900000      8.000000        91.000000   \n",
       "75%        5.774750      6.800000     55.000000       101.000000   \n",
       "max       80.773000     10.000000  22186.000000       724.000000   \n",
       "\n",
       "       averagerating      numvotes  \n",
       "count   16402.000000  1.640200e+04  \n",
       "mean        5.848488  1.496057e+04  \n",
       "std         1.407888  6.320184e+04  \n",
       "min         1.100000  5.000000e+00  \n",
       "25%         4.900000  9.700000e+01  \n",
       "50%         6.000000  4.220000e+02  \n",
       "75%         6.900000  2.889250e+03  \n",
       "max         9.800000  1.841066e+06  "
      ]
     },
     "execution_count": 9,
     "metadata": {},
     "output_type": "execute_result"
    }
   ],
   "source": [
    "merged_data.describe()"
   ]
  },
  {
   "cell_type": "code",
   "execution_count": 32,
   "metadata": {},
   "outputs": [],
   "source": [
    "df2 = pd.read_csv(\"cleaned_gross_budget.csv\")"
   ]
  },
  {
   "cell_type": "code",
   "execution_count": 30,
   "metadata": {},
   "outputs": [
    {
     "data": {
      "text/html": [
       "<div>\n",
       "<style scoped>\n",
       "    .dataframe tbody tr th:only-of-type {\n",
       "        vertical-align: middle;\n",
       "    }\n",
       "\n",
       "    .dataframe tbody tr th {\n",
       "        vertical-align: top;\n",
       "    }\n",
       "\n",
       "    .dataframe thead th {\n",
       "        text-align: right;\n",
       "    }\n",
       "</style>\n",
       "<table border=\"1\" class=\"dataframe\">\n",
       "  <thead>\n",
       "    <tr style=\"text-align: right;\">\n",
       "      <th></th>\n",
       "      <th>movie</th>\n",
       "      <th>studio</th>\n",
       "      <th>foreign_gross</th>\n",
       "      <th>release_date</th>\n",
       "      <th>production_budget</th>\n",
       "      <th>domestic_gross</th>\n",
       "      <th>worldwide_gross</th>\n",
       "    </tr>\n",
       "  </thead>\n",
       "  <tbody>\n",
       "    <tr>\n",
       "      <th>0</th>\n",
       "      <td>Toy Story 3</td>\n",
       "      <td>BV</td>\n",
       "      <td>652000000.0</td>\n",
       "      <td>Jun 18, 2010</td>\n",
       "      <td>200000000.0</td>\n",
       "      <td>415004880.0</td>\n",
       "      <td>1.068880e+09</td>\n",
       "    </tr>\n",
       "    <tr>\n",
       "      <th>1</th>\n",
       "      <td>Inception</td>\n",
       "      <td>WB</td>\n",
       "      <td>535700000.0</td>\n",
       "      <td>Jul 16, 2010</td>\n",
       "      <td>160000000.0</td>\n",
       "      <td>292576195.0</td>\n",
       "      <td>8.355246e+08</td>\n",
       "    </tr>\n",
       "    <tr>\n",
       "      <th>2</th>\n",
       "      <td>Shrek Forever After</td>\n",
       "      <td>P/DW</td>\n",
       "      <td>513900000.0</td>\n",
       "      <td>May 21, 2010</td>\n",
       "      <td>165000000.0</td>\n",
       "      <td>238736787.0</td>\n",
       "      <td>7.562447e+08</td>\n",
       "    </tr>\n",
       "    <tr>\n",
       "      <th>3</th>\n",
       "      <td>The Twilight Saga: Eclipse</td>\n",
       "      <td>Sum.</td>\n",
       "      <td>398000000.0</td>\n",
       "      <td>Jun 30, 2010</td>\n",
       "      <td>68000000.0</td>\n",
       "      <td>300531751.0</td>\n",
       "      <td>7.061028e+08</td>\n",
       "    </tr>\n",
       "    <tr>\n",
       "      <th>4</th>\n",
       "      <td>Iron Man 2</td>\n",
       "      <td>Par.</td>\n",
       "      <td>311500000.0</td>\n",
       "      <td>May 7, 2010</td>\n",
       "      <td>170000000.0</td>\n",
       "      <td>312433331.0</td>\n",
       "      <td>6.211564e+08</td>\n",
       "    </tr>\n",
       "  </tbody>\n",
       "</table>\n",
       "</div>"
      ],
      "text/plain": [
       "                        movie studio  foreign_gross  release_date  \\\n",
       "0                 Toy Story 3     BV    652000000.0  Jun 18, 2010   \n",
       "1                   Inception     WB    535700000.0  Jul 16, 2010   \n",
       "2         Shrek Forever After   P/DW    513900000.0  May 21, 2010   \n",
       "3  The Twilight Saga: Eclipse   Sum.    398000000.0  Jun 30, 2010   \n",
       "4                  Iron Man 2   Par.    311500000.0   May 7, 2010   \n",
       "\n",
       "   production_budget  domestic_gross  worldwide_gross  \n",
       "0        200000000.0     415004880.0     1.068880e+09  \n",
       "1        160000000.0     292576195.0     8.355246e+08  \n",
       "2        165000000.0     238736787.0     7.562447e+08  \n",
       "3         68000000.0     300531751.0     7.061028e+08  \n",
       "4        170000000.0     312433331.0     6.211564e+08  "
      ]
     },
     "execution_count": 30,
     "metadata": {},
     "output_type": "execute_result"
    }
   ],
   "source": [
    "df2.head()"
   ]
  },
  {
   "cell_type": "code",
   "execution_count": 93,
   "metadata": {},
   "outputs": [
    {
     "data": {
      "text/plain": [
       "Index(['movie', 'studio', 'foreign_gross', 'release_date', 'production_budget',\n",
       "       'domestic_gross', 'worldwide_gross', 'profitability'],\n",
       "      dtype='object')"
      ]
     },
     "execution_count": 93,
     "metadata": {},
     "output_type": "execute_result"
    }
   ],
   "source": [
    "df2.columns"
   ]
  },
  {
   "cell_type": "markdown",
   "metadata": {},
   "source": [
    "**Handling outliers**"
   ]
  },
  {
   "cell_type": "code",
   "execution_count": null,
   "metadata": {},
   "outputs": [],
   "source": [
    "\n",
    "# Step 1: Calculate Q1 (25th percentile), Q3 (75th percentile), and IQR\n",
    "Q1 = df2['profitability'].quantile(0.25)\n",
    "Q3 = df2['profitability'].quantile(0.75)\n",
    "IQR = Q3 - Q1\n",
    "\n",
    "# Step 2: Calculate lower and upper bounds\n",
    "lower_bound = Q1 - 1.5 * IQR\n",
    "upper_bound = Q3 + 1.5 * IQR\n",
    "\n",
    "# Step 3: Identify outliers\n",
    "outliers = df2[(df2['profitability'] < lower_bound) | (df2['profitability'] > upper_bound)]\n",
    "\n",
    "# Option 2 - Replace outliers with the median (instead of removing)\n",
    "df2['profitability'] = df2['profitability'].apply(lambda x: df2['profitability'].median() if x < lower_bound or x > upper_bound else x)\n",
    "\n",
    "\n",
    "\n",
    "\n"
   ]
  },
  {
   "cell_type": "code",
   "execution_count": 110,
   "metadata": {},
   "outputs": [
    {
     "name": "stdout",
     "output_type": "stream",
     "text": [
      "                 movie studio  foreign_gross  release_date  production_budget  \\\n",
      "10      The Karate Kid   Sony    182500000.0  Jun 22, 1984          8000000.0   \n",
      "14          Robin Hood   Uni.    216400000.0  Nov 21, 2018         99000000.0   \n",
      "21         The Tourist   Sony    210700000.0  Dec 10, 2010        100000000.0   \n",
      "22     The Expendables    LGF    171400000.0  Aug 13, 2010         82000000.0   \n",
      "25  Gulliver's Travels    Fox    194600000.0  Dec 25, 2010        112000000.0   \n",
      "\n",
      "    domestic_gross  worldwide_gross  profitability  \n",
      "10      90815558.0       90815558.0     82815558.0  \n",
      "14      30824628.0       84747441.0    -14252559.0  \n",
      "21      67631157.0      278731369.0    178731369.0  \n",
      "22     103068524.0      268268174.0    186268174.0  \n",
      "25      42779261.0      232017848.0    120017848.0  \n"
     ]
    }
   ],
   "source": [
    "# Function to remove or replace outliers based on IQR for each column\n",
    "def clean_outliers(df, column_name):\n",
    "    # Calculate Q1, Q3 and IQR\n",
    "    Q1 = df[column_name].quantile(0.25)\n",
    "    Q3 = df[column_name].quantile(0.75)\n",
    "    IQR = Q3 - Q1\n",
    "    \n",
    "    # Calculate the lower and upper bounds for outliers\n",
    "    lower_bound = Q1 - 1.5 * IQR\n",
    "    upper_bound = Q3 + 1.5 * IQR\n",
    "    \n",
    "    # Filter out the outliers (Option 1 - Removing outliers)\n",
    "    df_cleaned = df[(df[column_name] >= lower_bound) & (df[column_name] <= upper_bound)]\n",
    "    \n",
    "    # Option 2 - Replace outliers with the median\n",
    "    # df[column_name] = df[column_name].apply(lambda x: df[column_name].median() if x < lower_bound or x > upper_bound else x)\n",
    "    \n",
    "    return df_cleaned\n",
    "\n",
    "# Clean outliers for foreign_gross, domestic_gross, and worldwide_gross\n",
    "df_cleaned = df2.copy()\n",
    "df_cleaned = clean_outliers(df_cleaned, 'foreign_gross')\n",
    "df_cleaned = clean_outliers(df_cleaned, 'domestic_gross')\n",
    "df_cleaned = clean_outliers(df_cleaned, 'worldwide_gross')\n",
    "\n",
    "# Show cleaned data (You can replace or remove outliers as per your choice)\n",
    "print(df_cleaned.head())\n"
   ]
  },
  {
   "cell_type": "markdown",
   "metadata": {},
   "source": [
    "**Exploratory Data Analysis EDA** \n",
    "\n",
    "Questions:\n",
    "\n",
    "How does the productions budget ralate to the domestic and foreign gross revenue\n",
    "\n",
    "Analysing profitability across genres and studios"
   ]
  },
  {
   "cell_type": "code",
   "execution_count": 34,
   "metadata": {},
   "outputs": [
    {
     "data": {
      "image/png": "[encoded data removed]",
      "text/plain": [
       "<Figure size 432x288 with 1 Axes>"
      ]
     },
     "metadata": {
      "needs_background": "light"
     },
     "output_type": "display_data"
    },
    {
     "data": {
      "image/png": "[encoded data removed]",
      "text/plain": [
       "<Figure size 432x288 with 1 Axes>"
      ]
     },
     "metadata": {
      "needs_background": "light"
     },
     "output_type": "display_data"
    }
   ],
   "source": [
    "#How does the productions budget ralate to the domestic and worldwide gross revenue\n",
    "\n",
    "import matplotlib.pyplot as plt\n",
    "\n",
    "# Scatter plot for Production Budget vs Domestic Gross\n",
    "plt.scatter(df2['production_budget'], df2['domestic_gross'], alpha=0.5)\n",
    "plt.title('Production Budget vs Domestic Gross')\n",
    "plt.xlabel('Production Budget ($)')\n",
    "plt.ylabel('Domestic Gross ($)')\n",
    "plt.show()\n",
    "\n",
    "# Scatter plot for Production Budget vs Worldwide Gross\n",
    "plt.scatter(df2['production_budget'], df2['foreign_gross'], alpha=0.5, color='r')\n",
    "plt.title('Production Budget vs foreign_gross')\n",
    "plt.xlabel('Production Budget ($)')\n",
    "plt.ylabel('foreign Gross ($)')\n",
    "plt.show()\n"
   ]
  },
  {
   "cell_type": "code",
   "execution_count": 37,
   "metadata": {},
   "outputs": [
    {
     "name": "stdout",
     "output_type": "stream",
     "text": [
      "         Genre  Count  Percentage\n",
      "0        Drama   7252   21.745127\n",
      "1       Comedy   3799   11.391304\n",
      "2  Documentary   3142    9.421289\n",
      "3     Thriller   3106    9.313343\n",
      "4       Horror   2977    8.926537\n",
      "5       Action   2006    6.014993\n",
      "6      Romance   1596    4.785607\n",
      "7        Crime   1545    4.632684\n",
      "8    Adventure   1217    3.649175\n",
      "9      Mystery   1091    3.271364\n",
      " \n",
      "The Top five top watched movies are Drama, Comedy, Documentary, Thriller and Horror\n"
     ]
    }
   ],
   "source": [
    "# Create an empty list to store individual genres\n",
    "genres_list = []\n",
    "\n",
    "# Split genres in each row and add them directly to genres_list\n",
    "for genres in merged_data[\"genres\"]:\n",
    "    genres_list.extend(genres.split(','))\n",
    "\n",
    "# Count the number of films by genre\n",
    "genres_sum = Counter(genres_list)\n",
    "\n",
    "# Calculate the total number of genre entries for percentage calculation\n",
    "total_genres = sum(genres_sum.values())\n",
    "\n",
    "# Create a DataFrame from the Counter, including percentage calculation\n",
    "genre_df = pd.DataFrame(genres_sum.items(), columns=[\"Genre\", \"Count\"])\n",
    "genre_df[\"Percentage\"] = (genre_df[\"Count\"] / total_genres) * 100\n",
    "\n",
    "# Sort the DataFrame by 'Count' in descending order\n",
    "genre_df = genre_df.sort_values(by=\"Count\", ascending=False).reset_index(drop=True)\n",
    "\n",
    "# Display the table\n",
    "print(genre_df.head(10))\n",
    "print(\" \")\n",
    "print(\"The Top five top watched movies are Drama, Comedy, Documentary, Thriller and Horror\")"
   ]
  },
  {
   "cell_type": "markdown",
   "metadata": {},
   "source": [
    "**Analysing the profitability across genres, studios & Return On Investment**"
   ]
  },
  {
   "cell_type": "code",
   "execution_count": 100,
   "metadata": {},
   "outputs": [
    {
     "name": "stdout",
     "output_type": "stream",
     "text": [
      "     original_language              original_title  popularity release_date_x  \\\n",
      "0                   en    How to Train Your Dragon      28.734     2010-03-26   \n",
      "1                   en                  Iron Man 2      28.515     2010-05-07   \n",
      "2                   en                   Inception      27.920     2010-07-16   \n",
      "3                   en                 Toy Story 3      24.445     2010-06-17   \n",
      "4                   en               Despicable Me      23.673     2010-07-09   \n",
      "...                ...                         ...         ...            ...   \n",
      "1239                en     Paul, Apostle of Christ      12.005     2018-03-28   \n",
      "1240                en          The 15:17 to Paris      11.576     2018-02-09   \n",
      "1241                en                  Uncle Drew      10.836     2018-06-29   \n",
      "1242                en                  Proud Mary       9.371     2018-01-12   \n",
      "1243                en  Bilal: A New Breed of Hero       2.707     2018-02-02   \n",
      "\n",
      "      vote_average  vote_count  runtime_minutes                      genres  \\\n",
      "0              7.7        7610             98.0  Action,Adventure,Animation   \n",
      "1              6.8       12368            124.0     Action,Adventure,Sci-Fi   \n",
      "2              8.3       22186            148.0     Action,Adventure,Sci-Fi   \n",
      "3              7.7        8340            103.0  Adventure,Animation,Comedy   \n",
      "4              7.2       10057             95.0     Animation,Comedy,Family   \n",
      "...            ...         ...              ...                         ...   \n",
      "1239           7.1          98            108.0   Adventure,Biography,Drama   \n",
      "1240           5.3         799             94.0    Biography,Drama,Thriller   \n",
      "1241           6.5         220            103.0                Comedy,Sport   \n",
      "1242           5.5         259             89.0          Action,Crime,Drama   \n",
      "1243           6.8          54            105.0  Action,Adventure,Animation   \n",
      "\n",
      "      averagerating  numvotes  release_year                       movie  \\\n",
      "0               8.1    611299          2010    How to Train Your Dragon   \n",
      "1               7.0    657690          2010                  Iron Man 2   \n",
      "2               8.8   1841066          2010                   Inception   \n",
      "3               8.3    682218          2010                 Toy Story 3   \n",
      "4               7.7    464511          2010               Despicable Me   \n",
      "...             ...       ...           ...                         ...   \n",
      "1239            6.7      5662          2018     Paul, Apostle of Christ   \n",
      "1240            5.2     21880          2018          The 15:17 to Paris   \n",
      "1241            5.7      9739          2018                  Uncle Drew   \n",
      "1242            4.9      6805          2018                  Proud Mary   \n",
      "1243            8.0     16854          2018  Bilal: A New Breed of Hero   \n",
      "\n",
      "      studio  foreign_gross release_date_y  production_budget  domestic_gross  \\\n",
      "0       P/DW    277300000.0   Mar 26, 2010        165000000.0     217581232.0   \n",
      "1       Par.    311500000.0    May 7, 2010        170000000.0     312433331.0   \n",
      "2         WB    535700000.0   Jul 16, 2010        160000000.0     292576195.0   \n",
      "3         BV    652000000.0   Jun 18, 2010        200000000.0     415004880.0   \n",
      "4       Uni.    291600000.0    Jul 9, 2010         69000000.0     251513985.0   \n",
      "...      ...            ...            ...                ...             ...   \n",
      "1239  Affirm      5500000.0   Mar 23, 2018          5000000.0      17547999.0   \n",
      "1240      WB     20800000.0    Feb 9, 2018         30000000.0      36276286.0   \n",
      "1241    LG/S      4200000.0   Jun 29, 2018         18000000.0      42469946.0   \n",
      "1242    SGem       876000.0   Jan 12, 2018         30000000.0      20868638.0   \n",
      "1243      VE      1700000.0    Feb 2, 2018         30000000.0        490973.0   \n",
      "\n",
      "      worldwide_gross  profitability  \n",
      "0        4.948710e+08    329870992.0  \n",
      "1        6.211564e+08    451156389.0  \n",
      "2        8.355246e+08    675524642.0  \n",
      "3        1.068880e+09    868879522.0  \n",
      "4        5.434646e+08    474464573.0  \n",
      "...               ...            ...  \n",
      "1239     2.552950e+07     20529498.0  \n",
      "1240     5.609620e+07     26096200.0  \n",
      "1241     4.652716e+07     28527161.0  \n",
      "1242     2.170954e+07     -8290461.0  \n",
      "1243     6.485990e+05    -29351401.0  \n",
      "\n",
      "[1244 rows x 19 columns]\n"
     ]
    },
    {
     "data": {
      "image/png": "[encoded data removed]",
      "text/plain": [
       "<Figure size 720x432 with 1 Axes>"
      ]
     },
     "metadata": {
      "needs_background": "light"
     },
     "output_type": "display_data"
    },
    {
     "data": {
      "image/png": "[encoded data removed]",
      "text/plain": [
       "<Figure size 720x432 with 1 Axes>"
      ]
     },
     "metadata": {
      "needs_background": "light"
     },
     "output_type": "display_data"
    }
   ],
   "source": [
    "# Calculate profitability per movie\n",
    "df2['profitability'] = df2['worldwide_gross'] - df2['production_budget']\n",
    "# Merge the dataframes based on matching titles\n",
    "merged_df = pd.merge(merged_data, df2, left_on='original_title', right_on='movie', how='inner')\n",
    "\n",
    "# Display the merged dataframe\n",
    "print(merged_df)\n",
    "# Split genres in each row and associate profitability with each genre\n",
    "split_genres = []\n",
    "profits = []\n",
    "\n",
    "for index, row in merged_df.iterrows():\n",
    "    genre_split = row[\"genres\"].split(',')\n",
    "    split_genres.extend(genre_split)\n",
    "    profits.extend([row[\"profitability\"]] * len(genre_split))\n",
    "\n",
    "# Create a new DataFrame with split genres and profitability\n",
    "split_genre_df = pd.DataFrame({\n",
    "    'genre': split_genres,\n",
    "    'profitability': profits,\n",
    "    'production_budget': merged_df['production_budget'].repeat(merged_df['genres'].str.split(',').apply(len)).reset_index(drop=True)\n",
    "})\n",
    "\n",
    "# Plot for profitability by top 10 genres\n",
    "top_genres = split_genre_df.groupby('genre')['profitability'].median().nlargest(10).index\n",
    "avg_profitability = split_genre_df[split_genre_df['genre'].isin(top_genres)].groupby('genre')['profitability'].mean()\n",
    "avg_profitability = avg_profitability.sort_values(ascending=False)\n",
    "plt.figure(figsize=(10, 6))\n",
    "avg_profitability.plot(kind='bar', color='skyblue')\n",
    "plt.title('Average Profitability by Top 10 Genres')\n",
    "plt.xlabel('Genre')\n",
    "plt.ylabel('Average Profitability')\n",
    "plt.xticks(rotation=90)\n",
    "plt.show()\n",
    "\n",
    "\n",
    "# Calculate ROI for split_genre_df based on the profitability and production budget\n",
    "split_genre_df['ROI'] = split_genre_df['profitability'] / split_genre_df['production_budget']\n",
    "\n",
    "# Now group by genre and get the top 10 genres with the highest median ROI\n",
    "top_roi_genres = split_genre_df.groupby('genre')['ROI'].median().nlargest(10).index\n",
    "\n",
    "# Calculate the average ROI for these top genres\n",
    "avg_roi = split_genre_df[split_genre_df['genre'].isin(top_roi_genres)].groupby('genre')['ROI'].mean()\n",
    "\n",
    "avg_roi = avg_roi.sort_values(ascending=False)\n",
    "# Plot the average ROI by top 10 genres\n",
    "plt.figure(figsize=(10, 6))\n",
    "avg_roi.plot(kind='bar', color='lightcoral')\n",
    "plt.title('Average ROI by Top 10 Genres')\n",
    "plt.xlabel('Genre')\n",
    "plt.ylabel('Average ROI')\n",
    "plt.xticks(rotation=90)\n",
    "plt.show()\n"
   ]
  },
  {
   "cell_type": "markdown",
   "metadata": {},
   "source": [
    "**Statistical Distribution**"
   ]
  },
  {
   "cell_type": "code",
   "execution_count": 101,
   "metadata": {},
   "outputs": [
    {
     "data": {
      "image/png": "[encoded data removed]",
      "text/plain": [
       "<Figure size 864x432 with 1 Axes>"
      ]
     },
     "metadata": {
      "needs_background": "light"
     },
     "output_type": "display_data"
    }
   ],
   "source": [
    "# Violin plot for statistical distribution of ROI by top 10 genres\n",
    "plt.figure(figsize=(12, 6))\n",
    "sns.violinplot(data=split_genre_df[split_genre_df['genre'].isin(top_roi_genres)], x='genre', y='ROI', color='lightcoral')\n",
    "plt.title('Statistical Distribution of ROI by Top 10 Genres')\n",
    "plt.xlabel('Genre')\n",
    "plt.ylabel('ROI')\n",
    "plt.xticks(rotation=90)\n",
    "plt.show()\n"
   ]
  },
  {
   "cell_type": "code",
   "execution_count": 102,
   "metadata": {},
   "outputs": [
    {
     "data": {
      "image/png": "[encoded data removed]",
      "text/plain": [
       "<Figure size 864x432 with 1 Axes>"
      ]
     },
     "metadata": {
      "needs_background": "light"
     },
     "output_type": "display_data"
    }
   ],
   "source": [
    "# Box plot for statistical distribution of ROI by top 10 genres\n",
    "plt.figure(figsize=(12, 6))\n",
    "sns.boxplot(data=split_genre_df[split_genre_df['genre'].isin(top_roi_genres)], x='genre', y='ROI', color='lightcoral')\n",
    "plt.title('Statistical Distribution of ROI by Top 10 Genres')\n",
    "plt.xlabel('Genre')\n",
    "plt.ylabel('ROI')\n",
    "plt.xticks(rotation=90)\n",
    "plt.show()\n"
   ]
  },
  {
   "cell_type": "markdown",
   "metadata": {},
   "source": [
    "**Correlation Analysis**"
   ]
  },
  {
   "cell_type": "code",
   "execution_count": 108,
   "metadata": {},
   "outputs": [
    {
     "name": "stdout",
     "output_type": "stream",
     "text": [
      "Correlation between Production Budget and Domestic Gross: 0.6744277885879324\n",
      "Correlation between Production Budget and Worldwide Gross: 0.7669256443309962\n"
     ]
    }
   ],
   "source": [
    "import pandas as pd\n",
    "\n",
    "# Calculate the correlation coefficient between production budget and domestic gross\n",
    "correlation_domestic = df2['production_budget'].corr(df2['domestic_gross'])\n",
    "print(f\"Correlation between Production Budget and Domestic Gross: {correlation_domestic}\")\n",
    "\n",
    "# Calculate the correlation coefficient between production budget and worldwide gross\n",
    "correlation_worldwide = df2['production_budget'].corr(df2['worldwide_gross'])\n",
    "print(f\"Correlation between Production Budget and Worldwide Gross: {correlation_worldwide}\")\n"
   ]
  },
  {
   "cell_type": "code",
   "execution_count": 111,
   "metadata": {},
   "outputs": [
    {
     "name": "stdout",
     "output_type": "stream",
     "text": [
      "                   foreign_gross  production_budget  domestic_gross  \\\n",
      "foreign_gross           1.000000           0.639684        0.575916   \n",
      "production_budget       0.639684           1.000000        0.428351   \n",
      "domestic_gross          0.575916           0.428351        1.000000   \n",
      "worldwide_gross         0.899352           0.620304        0.849585   \n",
      "profitability           0.725922           0.143576        0.798187   \n",
      "\n",
      "                   worldwide_gross  profitability  \n",
      "foreign_gross             0.899352       0.725922  \n",
      "production_budget         0.620304       0.143576  \n",
      "domestic_gross            0.849585       0.798187  \n",
      "worldwide_gross           1.000000       0.865296  \n",
      "profitability             0.865296       1.000000  \n"
     ]
    },
    {
     "data": {
      "image/png": "[encoded data removed]",
      "text/plain": [
       "<Figure size 720x576 with 2 Axes>"
      ]
     },
     "metadata": {
      "needs_background": "light"
     },
     "output_type": "display_data"
    }
   ],
   "source": [
    "import seaborn as sns\n",
    "import matplotlib.pyplot as plt\n",
    "\n",
    "# Compute the correlation matrix\n",
    "correlation_matrix = df_cleaned.corr()\n",
    "\n",
    "# Display the correlation matrix\n",
    "print(correlation_matrix)\n",
    "\n",
    "# Visualize the correlation matrix using a heatmap\n",
    "plt.figure(figsize=(10, 8))\n",
    "sns.heatmap(correlation_matrix, annot=True, cmap='coolwarm', fmt='.2f', linewidths=0.5)\n",
    "plt.title('Correlation Matrix')\n",
    "plt.show()\n"
   ]
  },
  {
   "cell_type": "code",
   "execution_count": 77,
   "metadata": {},
   "outputs": [
    {
     "data": {
      "text/html": [
       "<div>\n",
       "<style scoped>\n",
       "    .dataframe tbody tr th:only-of-type {\n",
       "        vertical-align: middle;\n",
       "    }\n",
       "\n",
       "    .dataframe tbody tr th {\n",
       "        vertical-align: top;\n",
       "    }\n",
       "\n",
       "    .dataframe thead th {\n",
       "        text-align: right;\n",
       "    }\n",
       "</style>\n",
       "<table border=\"1\" class=\"dataframe\">\n",
       "  <thead>\n",
       "    <tr style=\"text-align: right;\">\n",
       "      <th></th>\n",
       "      <th>movie</th>\n",
       "      <th>studio</th>\n",
       "      <th>foreign_gross</th>\n",
       "      <th>release_date</th>\n",
       "      <th>production_budget</th>\n",
       "      <th>domestic_gross</th>\n",
       "      <th>worldwide_gross</th>\n",
       "      <th>profitability</th>\n",
       "    </tr>\n",
       "  </thead>\n",
       "  <tbody>\n",
       "    <tr>\n",
       "      <th>0</th>\n",
       "      <td>Toy Story 3</td>\n",
       "      <td>BV</td>\n",
       "      <td>652000000.0</td>\n",
       "      <td>Jun 18, 2010</td>\n",
       "      <td>200000000.0</td>\n",
       "      <td>415004880.0</td>\n",
       "      <td>1.068880e+09</td>\n",
       "      <td>868879522.0</td>\n",
       "    </tr>\n",
       "    <tr>\n",
       "      <th>1</th>\n",
       "      <td>Inception</td>\n",
       "      <td>WB</td>\n",
       "      <td>535700000.0</td>\n",
       "      <td>Jul 16, 2010</td>\n",
       "      <td>160000000.0</td>\n",
       "      <td>292576195.0</td>\n",
       "      <td>8.355246e+08</td>\n",
       "      <td>675524642.0</td>\n",
       "    </tr>\n",
       "    <tr>\n",
       "      <th>2</th>\n",
       "      <td>Shrek Forever After</td>\n",
       "      <td>P/DW</td>\n",
       "      <td>513900000.0</td>\n",
       "      <td>May 21, 2010</td>\n",
       "      <td>165000000.0</td>\n",
       "      <td>238736787.0</td>\n",
       "      <td>7.562447e+08</td>\n",
       "      <td>591244673.0</td>\n",
       "    </tr>\n",
       "    <tr>\n",
       "      <th>3</th>\n",
       "      <td>The Twilight Saga: Eclipse</td>\n",
       "      <td>Sum.</td>\n",
       "      <td>398000000.0</td>\n",
       "      <td>Jun 30, 2010</td>\n",
       "      <td>68000000.0</td>\n",
       "      <td>300531751.0</td>\n",
       "      <td>7.061028e+08</td>\n",
       "      <td>638102828.0</td>\n",
       "    </tr>\n",
       "    <tr>\n",
       "      <th>4</th>\n",
       "      <td>Iron Man 2</td>\n",
       "      <td>Par.</td>\n",
       "      <td>311500000.0</td>\n",
       "      <td>May 7, 2010</td>\n",
       "      <td>170000000.0</td>\n",
       "      <td>312433331.0</td>\n",
       "      <td>6.211564e+08</td>\n",
       "      <td>451156389.0</td>\n",
       "    </tr>\n",
       "    <tr>\n",
       "      <th>5</th>\n",
       "      <td>Tangled</td>\n",
       "      <td>BV</td>\n",
       "      <td>391000000.0</td>\n",
       "      <td>Nov 24, 2010</td>\n",
       "      <td>260000000.0</td>\n",
       "      <td>200821936.0</td>\n",
       "      <td>5.864772e+08</td>\n",
       "      <td>326477240.0</td>\n",
       "    </tr>\n",
       "    <tr>\n",
       "      <th>6</th>\n",
       "      <td>Despicable Me</td>\n",
       "      <td>Uni.</td>\n",
       "      <td>291600000.0</td>\n",
       "      <td>Jul 9, 2010</td>\n",
       "      <td>69000000.0</td>\n",
       "      <td>251513985.0</td>\n",
       "      <td>5.434646e+08</td>\n",
       "      <td>474464573.0</td>\n",
       "    </tr>\n",
       "    <tr>\n",
       "      <th>7</th>\n",
       "      <td>How to Train Your Dragon</td>\n",
       "      <td>P/DW</td>\n",
       "      <td>277300000.0</td>\n",
       "      <td>Mar 26, 2010</td>\n",
       "      <td>165000000.0</td>\n",
       "      <td>217581232.0</td>\n",
       "      <td>4.948710e+08</td>\n",
       "      <td>329870992.0</td>\n",
       "    </tr>\n",
       "    <tr>\n",
       "      <th>8</th>\n",
       "      <td>The Chronicles of Narnia: The Voyage of the Da...</td>\n",
       "      <td>Fox</td>\n",
       "      <td>311300000.0</td>\n",
       "      <td>Dec 10, 2010</td>\n",
       "      <td>155000000.0</td>\n",
       "      <td>104386950.0</td>\n",
       "      <td>4.181870e+08</td>\n",
       "      <td>263186950.0</td>\n",
       "    </tr>\n",
       "    <tr>\n",
       "      <th>9</th>\n",
       "      <td>The Karate Kid</td>\n",
       "      <td>Sony</td>\n",
       "      <td>182500000.0</td>\n",
       "      <td>Jun 11, 2010</td>\n",
       "      <td>40000000.0</td>\n",
       "      <td>176591618.0</td>\n",
       "      <td>3.517749e+08</td>\n",
       "      <td>311774938.0</td>\n",
       "    </tr>\n",
       "  </tbody>\n",
       "</table>\n",
       "</div>"
      ],
      "text/plain": [
       "                                               movie studio  foreign_gross  \\\n",
       "0                                        Toy Story 3     BV    652000000.0   \n",
       "1                                          Inception     WB    535700000.0   \n",
       "2                                Shrek Forever After   P/DW    513900000.0   \n",
       "3                         The Twilight Saga: Eclipse   Sum.    398000000.0   \n",
       "4                                         Iron Man 2   Par.    311500000.0   \n",
       "5                                            Tangled     BV    391000000.0   \n",
       "6                                      Despicable Me   Uni.    291600000.0   \n",
       "7                           How to Train Your Dragon   P/DW    277300000.0   \n",
       "8  The Chronicles of Narnia: The Voyage of the Da...    Fox    311300000.0   \n",
       "9                                     The Karate Kid   Sony    182500000.0   \n",
       "\n",
       "   release_date  production_budget  domestic_gross  worldwide_gross  \\\n",
       "0  Jun 18, 2010        200000000.0     415004880.0     1.068880e+09   \n",
       "1  Jul 16, 2010        160000000.0     292576195.0     8.355246e+08   \n",
       "2  May 21, 2010        165000000.0     238736787.0     7.562447e+08   \n",
       "3  Jun 30, 2010         68000000.0     300531751.0     7.061028e+08   \n",
       "4   May 7, 2010        170000000.0     312433331.0     6.211564e+08   \n",
       "5  Nov 24, 2010        260000000.0     200821936.0     5.864772e+08   \n",
       "6   Jul 9, 2010         69000000.0     251513985.0     5.434646e+08   \n",
       "7  Mar 26, 2010        165000000.0     217581232.0     4.948710e+08   \n",
       "8  Dec 10, 2010        155000000.0     104386950.0     4.181870e+08   \n",
       "9  Jun 11, 2010         40000000.0     176591618.0     3.517749e+08   \n",
       "\n",
       "   profitability  \n",
       "0    868879522.0  \n",
       "1    675524642.0  \n",
       "2    591244673.0  \n",
       "3    638102828.0  \n",
       "4    451156389.0  \n",
       "5    326477240.0  \n",
       "6    474464573.0  \n",
       "7    329870992.0  \n",
       "8    263186950.0  \n",
       "9    311774938.0  "
      ]
     },
     "execution_count": 77,
     "metadata": {},
     "output_type": "execute_result"
    }
   ],
   "source": [
    "df2.head(10)"
   ]
  },
  {
   "cell_type": "markdown",
   "metadata": {},
   "source": [
    "**Regression Modeling**"
   ]
  },
  {
   "cell_type": "code",
   "execution_count": 112,
   "metadata": {},
   "outputs": [
    {
     "name": "stdout",
     "output_type": "stream",
     "text": [
      "Regression Equation for Domestic Gross: y = 0.99 * x + 15616583.92\n",
      "Regression Equation for Worldwide Gross: y = 3.09 * x + 7474144.85\n"
     ]
    }
   ],
   "source": [
    "from sklearn.linear_model import LinearRegression\n",
    "import numpy as np\n",
    "\n",
    "# Reshape data for regression\n",
    "X = df2['production_budget'].values.reshape(-1, 1)  # Independent variable (Production Budget)\n",
    "y_domestic = df2['domestic_gross'].values  # Dependent variable (Domestic Gross)\n",
    "y_worldwide = df2['worldwide_gross'].values  # Dependent variable (Worldwide Gross)\n",
    "\n",
    "# Create a linear regression model\n",
    "model_domestic = LinearRegression()\n",
    "model_worldwide = LinearRegression()\n",
    "\n",
    "# Fit the model to the data (Domestic)\n",
    "model_domestic.fit(X, y_domestic)\n",
    "\n",
    "# Fit the model to the data (Worldwide)\n",
    "model_worldwide.fit(X, y_worldwide)\n",
    "\n",
    "# Get the regression coefficients and intercepts\n",
    "slope_domestic = model_domestic.coef_[0]\n",
    "intercept_domestic = model_domestic.intercept_\n",
    "\n",
    "slope_worldwide = model_worldwide.coef_[0]\n",
    "intercept_worldwide = model_worldwide.intercept_\n",
    "\n",
    "# Print the results for both domestic and worldwide\n",
    "print(f\"Regression Equation for Domestic Gross: y = {slope_domestic:.2f} * x + {intercept_domestic:.2f}\")\n",
    "print(f\"Regression Equation for Worldwide Gross: y = {slope_worldwide:.2f} * x + {intercept_worldwide:.2f}\")\n"
   ]
  },
  {
   "cell_type": "markdown",
   "metadata": {},
   "source": [
    "**ANOVA Test**"
   ]
  },
  {
   "cell_type": "code",
   "execution_count": 106,
   "metadata": {},
   "outputs": [
    {
     "name": "stdout",
     "output_type": "stream",
     "text": [
      "Reject the null hypothesis for Domestic Gross: There is a significant difference in gross revenue across different budget categories.\n",
      "Reject the null hypothesis for Foreign Gross: There is a significant difference in gross revenue across different budget categories.\n",
      "Reject the null hypothesis for Worldwide Gross: There is a significant difference in gross revenue across different budget categories.\n",
      "Domestic Gross - F-statistic: 40.965, P-value: 0.000\n",
      "Foreign Gross - F-statistic: 56.630, P-value: 0.000\n",
      "Worldwide Gross - F-statistic: 57.424, P-value: 0.000\n"
     ]
    }
   ],
   "source": [
    "import pandas as pd\n",
    "import scipy.stats as stats\n",
    "\n",
    "\n",
    "# Categorize production budget into bins (e.g., low, medium, high)\n",
    "bins = bins = [50000000, 150000000, 250000000, float('inf')]  \n",
    "labels = ['Low', 'Medium', 'High']\n",
    "merged_df['budget_category'] = pd.cut(merged_df['production_budget'], bins=bins, labels=labels)\n",
    "\n",
    "# Perform ANOVA to compare gross revenue (you can use foreign_gross, domestic_gross, or worldwide_gross)\n",
    "f_stat_domestic, p_value_domestic = stats.f_oneway(\n",
    "    merged_df[merged_df['budget_category'] == 'Low']['domestic_gross'],\n",
    "    merged_df[merged_df['budget_category'] == 'Medium']['domestic_gross'],\n",
    "    merged_df[merged_df['budget_category'] == 'High']['domestic_gross']\n",
    ")\n",
    "\n",
    "f_stat_foreign, p_value_foreign = stats.f_oneway(\n",
    "    merged_df[merged_df['budget_category'] == 'Low']['foreign_gross'],\n",
    "    merged_df[merged_df['budget_category'] == 'Medium']['foreign_gross'],\n",
    "    merged_df[merged_df['budget_category'] == 'High']['foreign_gross']\n",
    ")\n",
    "\n",
    "f_stat_worldwide, p_value_worldwide = stats.f_oneway(\n",
    "    merged_df[merged_df['budget_category'] == 'Low']['worldwide_gross'],\n",
    "    merged_df[merged_df['budget_category'] == 'Medium']['worldwide_gross'],\n",
    "    merged_df[merged_df['budget_category'] == 'High']['worldwide_gross']\n",
    ")\n",
    "\n",
    "# Set significance level (alpha)\n",
    "alpha = 0.05\n",
    "\n",
    "# Interpret the results for each gross category\n",
    "if p_value_domestic < alpha:\n",
    "    print(\"Reject the null hypothesis for Domestic Gross: There is a significant difference in gross revenue across different budget categories.\")\n",
    "else:\n",
    "    print(\"Fail to reject the null hypothesis for Domestic Gross: There is no significant difference.\")\n",
    "\n",
    "if p_value_foreign < alpha:\n",
    "    print(\"Reject the null hypothesis for Foreign Gross: There is a significant difference in gross revenue across different budget categories.\")\n",
    "else:\n",
    "    print(\"Fail to reject the null hypothesis for Foreign Gross: There is no significant difference.\")\n",
    "\n",
    "if p_value_worldwide < alpha:\n",
    "    print(\"Reject the null hypothesis for Worldwide Gross: There is a significant difference in gross revenue across different budget categories.\")\n",
    "else:\n",
    "    print(\"Fail to reject the null hypothesis for Worldwide Gross: There is no significant difference.\")\n",
    "\n",
    "# Print F-statistics and p-values for interpretation\n",
    "print(f\"Domestic Gross - F-statistic: {f_stat_domestic:.3f}, P-value: {p_value_domestic:.3f}\")\n",
    "print(f\"Foreign Gross - F-statistic: {f_stat_foreign:.3f}, P-value: {p_value_foreign:.3f}\")\n",
    "print(f\"Worldwide Gross - F-statistic: {f_stat_worldwide:.3f}, P-value: {p_value_worldwide:.3f}\")\n"
   ]
  },
  {
   "cell_type": "markdown",
   "metadata": {},
   "source": [
    "**Hypothesis Testing between Production Budget and Profitability**\n"
   ]
  },
  {
   "cell_type": "code",
   "execution_count": 113,
   "metadata": {},
   "outputs": [
    {
     "name": "stdout",
     "output_type": "stream",
     "text": [
      "Reject the null hypothesis: There is a significant relationship between production budget and profitability.\n",
      "Correlation coefficient: -0.148, P-value: 0.000\n"
     ]
    }
   ],
   "source": [
    "# Calculate profitability\n",
    "merged_df['profitability'] = (merged_df['worldwide_gross'] - merged_df['production_budget']) / merged_df['production_budget']\n",
    "\n",
    "# Perform Pearson correlation between production budget and profitability\n",
    "corr_stat, p_value = stats.pearsonr(merged_df['production_budget'], merged_df['profitability'])\n",
    "\n",
    "# Set significance level (alpha)\n",
    "alpha = 0.05\n",
    "\n",
    "# Interpret the result\n",
    "if p_value < alpha:\n",
    "    print(\"Reject the null hypothesis: There is a significant relationship between production budget and profitability.\")\n",
    "else:\n",
    "    print(\"Fail to reject the null hypothesis: There is no significant relationship between production budget and profitability.\")\n",
    "\n",
    "print(f\"Correlation coefficient: {corr_stat:.3f}, P-value: {p_value:.3f}\")\n"
   ]
  },
  {
   "cell_type": "markdown",
   "metadata": {},
   "source": [
    "**Insights, Recomendation & Conclusion:**\n",
    "\n",
    "**Positive Correlation Between Budget and Revenue:** Both the domestic and foreign revenue scatter plots show a positive trend with the production budget. This suggests that, generally, movies with higher production budgets tend to generate higher revenues. However, the trend is not very strong, as points are widely scattered, indicating high variability.\n",
    "\n",
    "In both plots, there is a dense cluster of points in the lower budget range. This indicates that many films with smaller budgets tend to have lower domestic and worldwide gross revenues.\n",
    "\n",
    "**Foreign Gross is Generally Higher:**\n",
    "The scatter plot for foreign gross (foreign revenue) appears to have a slightly broader spread toward higher revenue values than the domestic gross plot. This suggests that international markets often bring in substantial revenue, potentially making worldwide success more impactful on a film's overall profitability than domestic success alone.\n",
    "\n",
    "**ANOVA Test**:\n",
    "For all three types of revenue (domestic, foreign, and worldwide), the production budget plays a significant role in influencing the movie's gross earnings. Movies with higher production budgets tend to perform better in terms of gross revenue across both domestic and international markets.\n",
    "\n",
    "**Hypothesis Testing**\n",
    "\n",
    "We reject the null hypothesis as the p-value is less than 0.05, indicating a significant relationship between production budget and profitability. The correlation coefficient of -0.148 suggests a weak negative relationship, meaning that as the production budget increases, profitability tends to decrease slightly.\n",
    "\n",
    "**Correlation**\n",
    "\n",
    "The correlation between production budget and domestic gross is 0.43, showing a weaker, but still positive, relationship. This means that while a larger budget can help a movie succeed domestically, other elements such as the movie's appeal, star power, or marketing efforts are also crucial to its performance.\n",
    "\n",
    "In terms of profitability, the production budget has a weak correlation of 0.14, indicating that simply increasing the budget does not guarantee higher profitability. Other factors, such as box office performance and cost management, are more significant in determining profitability.\n",
    "\n",
    "**Recommendations**\n",
    "The business should prioritize investing in production budgets that align with high ROI genres and international appeal. Focus on profitable genres, particularly those with high production value and strong global reach. Collaborate with successful studios and target both domestic and foreign markets. Strategic budget allocation and genre selection will maximize profitability and global revenue potential.\n"
   ]
  }
 ],
 "metadata": {
  "kernelspec": {
   "display_name": "learn-env",
   "language": "python",
   "name": "python3"
  },
  "language_info": {
   "codemirror_mode": {
    "name": "ipython",
    "version": 3
   },
   "file_extension": ".py",
   "mimetype": "text/x-python",
   "name": "python",
   "nbconvert_exporter": "python",
   "pygments_lexer": "ipython3",
   "version": "3.8.5"
  }
 },
 "nbformat": 4,
 "nbformat_minor": 2
}
